{
  "nbformat": 4,
  "nbformat_minor": 0,
  "metadata": {
    "colab": {
      "provenance": [],
      "authorship_tag": "ABX9TyOIFNLrL6tZTJzjiMQBBvWV",
      "include_colab_link": true
    },
    "kernelspec": {
      "name": "python3",
      "display_name": "Python 3"
    },
    "language_info": {
      "name": "python"
    }
  },
  "cells": [
    {
      "cell_type": "markdown",
      "metadata": {
        "id": "view-in-github",
        "colab_type": "text"
      },
      "source": [
        "<a href=\"https://colab.research.google.com/github/shallynagfase9/Data-Science-Assignments/blob/main/Statistics_Advance_1.ipynb\" target=\"_parent\"><img src=\"https://colab.research.google.com/assets/colab-badge.svg\" alt=\"Open In Colab\"/></a>"
      ]
    },
    {
      "cell_type": "code",
      "execution_count": null,
      "metadata": {
        "id": "f4ekbmVs6QY1"
      },
      "outputs": [],
      "source": [
        "# Q1. What is the Probability density function?\n",
        "# The probability density function (PDF) is a function in statistics that defines the relationship between a continuous random variable and its probability."
      ]
    },
    {
      "cell_type": "code",
      "source": [
        "# Q2. What are the types of Probability distribution?\n",
        "\"\"\"\n",
        "There are two main types of probability distributions: discrete and continuous.\n",
        "\n",
        "Discrete Probability Distribution:\n",
        "Discrete probability distributions are used to model random variables that can only take on specific, distinct values.\n",
        "\n",
        "Continuous Probability Distribution:\n",
        "Continuous probability distributions are used to model random variables that can take on any value within a continuous range.\n",
        "\"\"\""
      ],
      "metadata": {
        "id": "qC8EbsZ-qBeS"
      },
      "execution_count": null,
      "outputs": []
    },
    {
      "cell_type": "code",
      "source": [
        "# Q3. Write a Python function to calculate the probability density function of a normal distribution with given mean and standard deviation at a given point.\n",
        "import math\n",
        "\n",
        "def normal_pdf(x, mean, stddev):\n",
        "\n",
        "    variance = stddev ** 2\n",
        "    denominator = math.sqrt(2 * math.pi * variance)\n",
        "    exponent = -((x - mean) ** 2) / (2 * variance)\n",
        "    return math.exp(exponent) / denominator\n",
        "\n",
        "normal_pdf(1.5, 1.0, 0.5)\n"
      ],
      "metadata": {
        "colab": {
          "base_uri": "https://localhost:8080/"
        },
        "id": "Fe4fwrwgqTVA",
        "outputId": "b7843f1a-cefb-43e4-bd35-d42470800cb7"
      },
      "execution_count": 2,
      "outputs": [
        {
          "output_type": "execute_result",
          "data": {
            "text/plain": [
              "0.48394144903828673"
            ]
          },
          "metadata": {},
          "execution_count": 2
        }
      ]
    },
    {
      "cell_type": "code",
      "source": [
        "# Q4. What are the properties of Binomial distribution? Give two examples of events where binomial distribution can be applied.\n",
        "'''\n",
        "The properties of the binomial distribution are:\n",
        "\n",
        "1. There are only two distinct possible outcomes: success or failure.\n",
        "2. The number of trials (n) is fixed.\n",
        "3. The probability of success or failure remains constant for each trial.\n",
        "4. Only the successful trials are counted out of n independent trials.\n",
        "5. Every trial is an independent trial on its own, meaning that the outcome of one trial has no effect on the outcome of another trial.\n",
        "\n",
        "Two examples of events where the binomial distribution can be applied are:\n",
        "\n",
        "1. A manufacturer produces light bulbs and wants to estimate the proportion of light bulbs that are defective. A sample of 100 light bulbs is randomly selected and tested.\n",
        "The number of defective light bulbs in the sample is a binomial random variable with n = 100 and p = proportion of defective light bulbs.\n",
        "2. A basketball player has a free throw success rate of 75%. In a game, the player takes 10 free throws. The number of successful free throws is a binomial random variable with n = 10 and p = 0.75.\n",
        "'''"
      ],
      "metadata": {
        "id": "4kYCHIoRqv5B"
      },
      "execution_count": null,
      "outputs": []
    },
    {
      "cell_type": "code",
      "source": [
        "# Q5. Generate a random sample of size 1000 from a binomial distribution with probability of success 0.4 and plot a histogram of the results using matplotlib.\n",
        "import numpy as np\n",
        "import matplotlib.pyplot as plt\n",
        "n = 1000\n",
        "p = 0.4\n",
        "\n",
        "sample = np.random.binomial(n=1, p=p, size=n)\n",
        "\n",
        "plt.hist(sample, bins=2, color='skyblue', edgecolor='black', density=True)\n",
        "plt.xlabel('Outcome')\n",
        "plt.ylabel('Frequency')\n",
        "plt.title('Histogram of Binomial Distribution Sample')\n",
        "plt.xticks([0, 1], ['Failure', 'Success'])\n",
        "plt.show()"
      ],
      "metadata": {
        "colab": {
          "base_uri": "https://localhost:8080/",
          "height": 472
        },
        "id": "9lPAiQBdrKab",
        "outputId": "659b4382-46ea-4930-f8a3-c84f727b5a7e"
      },
      "execution_count": 3,
      "outputs": [
        {
          "output_type": "display_data",
          "data": {
            "text/plain": [
              "<Figure size 640x480 with 1 Axes>"
            ],
            "image/png": "[encoded data removed]"
          },
          "metadata": {}
        }
      ]
    },
    {
      "cell_type": "code",
      "source": [
        "# Q6. Write a Python function to calculate the cumulative distribution function of a Poisson distribution with given mean at a given point.\n",
        "import numpy as np\n",
        "from scipy.stats import poisson\n",
        "\n",
        "def poisson_cdf(x, mean):\n",
        "\n",
        "    return poisson.cdf(x, mu=mean)\n",
        "poisson_cdf(5,3)"
      ],
      "metadata": {
        "colab": {
          "base_uri": "https://localhost:8080/"
        },
        "id": "kVQjT4PPreDY",
        "outputId": "b07c5890-456f-4070-e282-cc1daedd65e7"
      },
      "execution_count": 4,
      "outputs": [
        {
          "output_type": "execute_result",
          "data": {
            "text/plain": [
              "0.9160820579686966"
            ]
          },
          "metadata": {},
          "execution_count": 4
        }
      ]
    },
    {
      "cell_type": "code",
      "source": [
        "# Q7. How Binomial distribution different from Poisson distribution?\n",
        "\n",
        "\"\"\"\n",
        "The Binomial distribution and the Poisson distribution are both discrete probability distributions used to model the number of successes in a given number of trials or events.\n",
        "However, they differ in their assumptions and applications.\n",
        "1. The Binomial distribution models the number of successes in a fixed number of independent trials, where each trial has a constant probability of success.\n",
        "For example, the number of heads obtained in 10 coin tosses can be modeled using a Binomial distribution.\n",
        "2. On the other hand, the Poisson distribution models the number of events occurring in a given interval of time or space, where the average rate of occurrence is known.\n",
        "For example, the number of cars passing through a toll plaza in an hour can be modeled using a Poisson distribution.\n",
        "\"\"\""
      ],
      "metadata": {
        "id": "x0mT_vctrtjw"
      },
      "execution_count": null,
      "outputs": []
    },
    {
      "cell_type": "code",
      "source": [
        "# Q8. Generate a random sample of size 1000 from a Poisson distribution with mean 5 and calculate the sample mean and variance.\n",
        "import numpy as np\n",
        "mean = 5\n",
        "sample_size = 1000\n",
        "sample = np.random.poisson(mean, sample_size)\n",
        "sample_mean = np.mean(sample)\n",
        "sample_variance = np.var(sample)\n",
        "\n",
        "print(\"Sample Mean:\", sample_mean)\n",
        "print(\"Sample Variance:\", sample_variance)"
      ],
      "metadata": {
        "colab": {
          "base_uri": "https://localhost:8080/"
        },
        "id": "HnD8ndZ5sGTq",
        "outputId": "fe8ab458-746f-4fdf-fd9f-190bd5ecacb5"
      },
      "execution_count": 5,
      "outputs": [
        {
          "output_type": "stream",
          "name": "stdout",
          "text": [
            "Sample Mean: 5.072\n",
            "Sample Variance: 5.022816\n"
          ]
        }
      ]
    },
    {
      "cell_type": "code",
      "source": [
        "# Q9. How mean and variance are related in Binomial distribution and Poisson distribution?\n",
        "\"\"\"\n",
        "In Binomial distribution, the mean (μ) is given by μ = np, where n is the number of trials and p is the probability of success. The variance (σ^2) is given by σ^2 = npq,\n",
        "where q is the probability of failure.\n",
        "In Poisson distribution, the mean (μ) and the variance (σ^2) are both equal to the rate parameter λ, i.e., μ = σ^2 = λ.\n",
        "\"\"\""
      ],
      "metadata": {
        "id": "yH8CyhP2sRsa"
      },
      "execution_count": null,
      "outputs": []
    },
    {
      "cell_type": "code",
      "source": [
        "# Q10. In normal distribution with respect to mean position, where does the least frequent data appear?\n",
        "\"\"\"\n",
        "The least frequent data in a normal distribution with respect to the mean position appears in the tails of the distribution, which are located further away from the mean. In a normal distribution,\n",
        "the mean, median, and mode are all equal, and the distribution is symmetric around the mean.\n",
        "\"\"\""
      ],
      "metadata": {
        "id": "RRTutqsCspHI"
      },
      "execution_count": null,
      "outputs": []
    }
  ]
}
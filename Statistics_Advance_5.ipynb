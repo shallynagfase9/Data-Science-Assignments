{
  "nbformat": 4,
  "nbformat_minor": 0,
  "metadata": {
    "colab": {
      "provenance": [],
      "authorship_tag": "ABX9TyMDQbmyXSShxAX25ghQx/ix",
      "include_colab_link": true
    },
    "kernelspec": {
      "name": "python3",
      "display_name": "Python 3"
    },
    "language_info": {
      "name": "python"
    }
  },
  "cells": [
    {
      "cell_type": "markdown",
      "metadata": {
        "id": "view-in-github",
        "colab_type": "text"
      },
      "source": [
        "<a href=\"https://colab.research.google.com/github/shallynagfase9/Data-Science-Assignments/blob/main/Statistics_Advance_5.ipynb\" target=\"_parent\"><img src=\"https://colab.research.google.com/assets/colab-badge.svg\" alt=\"Open In Colab\"/></a>"
      ]
    },
    {
      "cell_type": "code",
      "execution_count": 1,
      "metadata": {
        "colab": {
          "base_uri": "https://localhost:8080/"
        },
        "id": "b6zEUKQO152B",
        "outputId": "8699fb85-5dee-4b08-c0ba-654cb2846b4b"
      },
      "outputs": [
        {
          "output_type": "stream",
          "name": "stdout",
          "text": [
            "The 95% confidence interval for the sample is (47.93610143837198, 52.06389856162802)\n"
          ]
        }
      ],
      "source": [
        "# Q1. Calculate the 95% confidence interval for a sample of data with a mean of 50 and a standard deviation of 5 using Python. Interpret the results.\n",
        "import numpy as np\n",
        "from scipy.stats import t\n",
        "\n",
        "sample_mean = 50\n",
        "sample_stddev = 5\n",
        "sample_size = 25\n",
        "\n",
        "confidence_level = 0.95\n",
        "t_value = t.ppf(1 - (1 - confidence_level) / 2, df=sample_size - 1)\n",
        "\n",
        "# Calculate the 95% confidence interval\n",
        "margin_error = t_value * (sample_stddev / np.sqrt(sample_size))\n",
        "lower_bound = sample_mean - margin_error\n",
        "upper_bound = sample_mean + margin_error\n",
        "\n",
        "\n",
        "print(f\"The 95% confidence interval for the sample is ({lower_bound}, {upper_bound})\")"
      ]
    },
    {
      "cell_type": "code",
      "source": [
        "# Q2. Conduct a chi-square goodness of fit test to determine if the distribution of colors of M&Ms in a bag matches the expected distribution of 20% blue, 20% orange, 20% green, 10% yellow, 10% red, and 20% brown. Use Python to perform the test with a significance level of 0.05.\n",
        "\n",
        "from scipy.stats import chisquare\n",
        "\n",
        "observed_frequencies = [50, 45, 60, 20, 25, 50]\n",
        "\n",
        "\n",
        "expected_percentages = [20, 20, 20, 10, 10, 20]\n",
        "\n",
        "total_mms = sum(observed_frequencies)\n",
        "\n",
        "expected_frequencies = [total_mms * (percentage / 100) for percentage in expected_percentages]\n",
        "\n",
        "chi_square_statistic, p_value = chisquare(observed_frequencies, f_exp=expected_frequencies)\n",
        "\n",
        "\n",
        "print(f\"Chi-square Statistic: {chi_square_statistic}, p-value: {p_value}\")\n"
      ],
      "metadata": {
        "colab": {
          "base_uri": "https://localhost:8080/"
        },
        "id": "fU_E5Vlu2R-j",
        "outputId": "60ff6ef5-4da8-411f-9037-dd6663717439"
      },
      "execution_count": 4,
      "outputs": [
        {
          "output_type": "stream",
          "name": "stdout",
          "text": [
            "Chi-square Statistic: 3.5, p-value: 0.6233876277495822\n"
          ]
        }
      ]
    },
    {
      "cell_type": "code",
      "source": [
        "# Q3. Use Python to calculate the chi-square statistic and p-value for a contingency table with the following data:\n",
        "\"\"\"\n",
        "Group A\n",
        "\n",
        "Outcome 1 20 15\n",
        "Outcome 2 10 25\n",
        "Outcome 3 15 20\n",
        "\n",
        "\"\"\"\n",
        "import numpy as np\n",
        "from scipy.stats import chi2_contingency\n",
        "\n",
        "contingency_table = np.array([[20, 15], [10, 25], [15, 20]])\n",
        "\n",
        "chi2_stat, p_val, dof, expected = chi2_contingency(contingency_table)\n",
        "\n",
        "# Print the results\n",
        "print(\"Chi-Square Statistic:\", chi2_stat)\n",
        "print(\"P-value:\", p_val)"
      ],
      "metadata": {
        "colab": {
          "base_uri": "https://localhost:8080/"
        },
        "id": "w0sql8LL2iGb",
        "outputId": "d4c68a31-fb16-4141-88dc-f9d3709e5f78"
      },
      "execution_count": 5,
      "outputs": [
        {
          "output_type": "stream",
          "name": "stdout",
          "text": [
            "Chi-Square Statistic: 5.833333333333334\n",
            "P-value: 0.05411376622282158\n"
          ]
        }
      ]
    },
    {
      "cell_type": "code",
      "source": [
        "# Q4. A study of the prevalence of smoking in a population of 500 individuals found that 60 individuals smoked. Use Python to calculate the 95% confidence interval for the true proportion of individuals in the population who smoke.\n",
        "import numpy as np\n",
        "from statsmodels.stats.proportion import proportion_confint\n",
        "\n",
        "# Total population size and number of individuals who smoke\n",
        "population_size = 500\n",
        "smokers = 60\n",
        "\n",
        "# Calculate the proportion of smokers\n",
        "smoking_proportion = smokers / population_size\n",
        "\n",
        "# Calculate the 95% confidence interval for the true proportion of smokers\n",
        "conf_interval = proportion_confint(smokers, population_size, alpha=0.05, method='normal')\n",
        "\n",
        "# Print the results\n",
        "print(f\"The 95% confidence interval for the true proportion of smokers is {conf_interval}\")"
      ],
      "metadata": {
        "colab": {
          "base_uri": "https://localhost:8080/"
        },
        "id": "Ex79T-pF32dM",
        "outputId": "90276a45-c829-4748-917a-3f193fb7c4eb"
      },
      "execution_count": 6,
      "outputs": [
        {
          "output_type": "stream",
          "name": "stdout",
          "text": [
            "The 95% confidence interval for the true proportion of smokers is (0.09151638887130706, 0.14848361112869293)\n"
          ]
        }
      ]
    },
    {
      "cell_type": "code",
      "source": [
        "# Q5. Calculate the 90% confidence interval for a sample of data with a mean of 75 and a standard deviation of 12 using Python. Interpret the results.\n",
        "from scipy.stats import norm\n",
        "\n",
        "sample_mean = 75\n",
        "sample_std = 12\n",
        "n = 30\n",
        "\n",
        "sem = sample_std / (n ** 0.5)\n",
        "\n",
        "confidence_level = 0.90\n",
        "z_score = norm.ppf((1 + confidence_level) / 2)\n",
        "\n",
        "margin_of_error = z_score * sem\n",
        "\n",
        "lower_bound = sample_mean - margin_of_error\n",
        "upper_bound = sample_mean + margin_of_error\n",
        "\n",
        "print(f\"90% Confidence Interval: ({lower_bound}, {upper_bound})\")\n"
      ],
      "metadata": {
        "colab": {
          "base_uri": "https://localhost:8080/"
        },
        "id": "x-AuTAMq4E8g",
        "outputId": "d067e084-818a-4c4f-ba5f-56dd0c6ef8e1"
      },
      "execution_count": 9,
      "outputs": [
        {
          "output_type": "stream",
          "name": "stdout",
          "text": [
            "90% Confidence Interval: (71.39630625889797, 78.60369374110203)\n"
          ]
        }
      ]
    },
    {
      "cell_type": "code",
      "source": [
        "# Q6. Use Python to plot the chi-square distribution with 10 degrees of freedom. Label the axes and shade the area corresponding to a chi-square statistic of 15.\n",
        "import matplotlib.pyplot as plt\n",
        "import scipy.stats as stats\n",
        "\n",
        "# Create the chi-square distribution object with 10 degrees of freedom\n",
        "dist = stats.chi2(df=10)\n",
        "\n",
        "# Create a figure and axes\n",
        "fig, ax = plt.subplots()\n",
        "\n",
        "# Plot the chi-square distribution\n",
        "ax.plot(dist.ppf(np.linspace(0.001, 0.999, 1000)), np.linspace(0.001, 0.999, 1000))\n",
        "\n",
        "chi2_15 = dist.ppf(0.95)\n",
        "ax.fill_between(dist.ppf(np.linspace(0, 0.95, 1000)), np.linspace(0, 0.95, 1000), alpha=0.5)\n",
        "\n",
        "# Set the labels and title\n",
        "ax.set_xlabel(\"Chi-Square Statistic\")\n",
        "ax.set_ylabel(\"Probability Density\")\n",
        "ax.set_title(\"Chi-Square Distribution with 10 Degrees of Freedom\")\n",
        "\n",
        "# Show the plot\n",
        "plt.show()"
      ],
      "metadata": {
        "colab": {
          "base_uri": "https://localhost:8080/",
          "height": 472
        },
        "id": "wb3hpEOx4vqj",
        "outputId": "9f2cc173-2949-4cc8-ca0d-9c37360f4d6b"
      },
      "execution_count": 10,
      "outputs": [
        {
          "output_type": "display_data",
          "data": {
            "text/plain": [
              "<Figure size 640x480 with 1 Axes>"
            ],
            "image/png": "[encoded data removed]"
          },
          "metadata": {}
        }
      ]
    },
    {
      "cell_type": "code",
      "source": [
        "# Q7. A random sample of 1000 people was asked if they preferred Coke or Pepsi. Of the sample, 520 preferred Coke. Calculate a 99% confidence interval for the true proportion of people in the population who prefer Coke.\n",
        "from scipy.stats import norm\n",
        "\n",
        "# Sample size and number of people preferring Coke\n",
        "n = 1000\n",
        "x = 520\n",
        "\n",
        "# Sample proportion\n",
        "p_hat = x / n\n",
        "\n",
        "# 99% Confidence Level\n",
        "confidence_level = 0.99\n",
        "\n",
        "# Find the z-score for the 99% confidence level\n",
        "z_score = norm.ppf((1 + confidence_level) / 2)\n",
        "\n",
        "# Calculate the standard error for the proportion\n",
        "std_error = (p_hat * (1 - p_hat) / n) ** 0.5\n",
        "\n",
        "# Margin of error\n",
        "margin_of_error = z_score * std_error\n",
        "\n",
        "# Confidence interval\n",
        "lower_bound = p_hat - margin_of_error\n",
        "upper_bound = p_hat + margin_of_error\n",
        "\n",
        "print(f\"99% Confidence Interval: ({lower_bound}, {upper_bound})\")\n"
      ],
      "metadata": {
        "colab": {
          "base_uri": "https://localhost:8080/"
        },
        "id": "WyXkA6Gd46ag",
        "outputId": "8cc0ff64-55a9-46cc-cea3-236d495e5191"
      },
      "execution_count": 11,
      "outputs": [
        {
          "output_type": "stream",
          "name": "stdout",
          "text": [
            "99% Confidence Interval: (0.4793051576779699, 0.5606948423220302)\n"
          ]
        }
      ]
    },
    {
      "cell_type": "code",
      "source": [
        "# Q8. A researcher hypothesizes that a coin is biased towards tails. They flip the coin 100 times and observe 45 tails. Conduct a chi-square goodness of fit test to determine if the observed frequencies match the expected frequencies of a fair coin. Use a significance level of 0.05.\n",
        "from scipy.stats import chisquare\n",
        "\n",
        "# Observed frequencies: 55 heads (100 - 45 tails), 45 tails\n",
        "observed_frequencies = [55, 45]\n",
        "\n",
        "expected_frequencies = [50, 50]  # 50 heads, 50 tails\n",
        "\n",
        "# Conduct the Chi-square goodness of fit test\n",
        "chi_square_statistic, p_value = chisquare(observed_frequencies, f_exp=expected_frequencies)\n",
        "\n",
        "# Output the test statistic and p-value\n",
        "print(f\"Chi-square Statistic: {chi_square_statistic}, p-value: {p_value}\")\n"
      ],
      "metadata": {
        "colab": {
          "base_uri": "https://localhost:8080/"
        },
        "id": "l_MGHKKk5OAo",
        "outputId": "d09bd9e2-6921-4bfb-fe5e-10579b0ba443"
      },
      "execution_count": 13,
      "outputs": [
        {
          "output_type": "stream",
          "name": "stdout",
          "text": [
            "Chi-square Statistic: 1.0, p-value: 0.31731050786291115\n"
          ]
        }
      ]
    },
    {
      "cell_type": "code",
      "source": [
        "\"\"\"\n",
        "Q9. A study was conducted to determine if there is an association between smoking status (smoker or\n",
        "non-smoker) and lung cancer diagnosis (yes or no). The results are shown in the contingency table below.\n",
        "Conduct a chi-square test for independence to determine if there is a significant association between\n",
        "smoking status and lung cancer diagnosis    .\n",
        "                                             Lung Cancer: Yes         Lung Cancer: no\n",
        "\n",
        "\n",
        "Smoker                                              60                       140\n",
        "Non-smoker                                          30                       170\n",
        "\n",
        "Use a significance level of 0.05.\n",
        "\n",
        "\"\"\"\n",
        "\n",
        "\n",
        "from scipy.stats import chi2_contingency\n",
        "\n",
        "contingency_table = [[60, 140],  # Smoker\n",
        "                     [30, 170]]  # Non-smoker\n",
        "\n",
        "# Perform the Chi-square test for independence\n",
        "chi_square_statistic, p_value, dof, expected_frequencies = chi2_contingency(contingency_table)\n",
        "\n",
        "# Output the test statistic, p-value, and expected frequencies\n",
        "print(f\"Chi-square Statistic: {chi_square_statistic}, p-value: {p_value}\")\n",
        "print(f\"Degrees of Freedom: {dof}\")\n",
        "print(\"Expected Frequencies:\", expected_frequencies)\n"
      ],
      "metadata": {
        "colab": {
          "base_uri": "https://localhost:8080/"
        },
        "id": "YQwAUCzL5nij",
        "outputId": "7bd01955-7d27-4d00-e187-2ee3d6364a72"
      },
      "execution_count": 14,
      "outputs": [
        {
          "output_type": "stream",
          "name": "stdout",
          "text": [
            "Chi-square Statistic: 12.057347670250895, p-value: 0.0005158863863703744\n",
            "Degrees of Freedom: 1\n",
            "Expected Frequencies: [[ 45. 155.]\n",
            " [ 45. 155.]]\n"
          ]
        }
      ]
    },
    {
      "cell_type": "code",
      "source": [
        "\"\"\"\n",
        "Q10. A study was conducted to determine if the proportion of people who prefer milk chocolate, dark\n",
        "chocolate, or white chocolate is different in the U.S. versus the U.K. A random sample of 500 people from\n",
        "the U.S. and a random sample of 500 people from the U.K. were surveyed. The results are shown in the\n",
        "contingency table below. Conduct a chi-square test for independence to determine if there is a significant\n",
        "association between chocolate preference and country of origin.\n",
        "                                   Milk Chocolate      Dark Chocolate       White Chocolate\n",
        "\n",
        "U.S. (n=500)                          200                    150                   150\n",
        "U.K. (n=500)                          225                    175                   100\n",
        "\n",
        "Use a significance level of 0.01.\n",
        "\n",
        "\"\"\"\n",
        "from scipy.stats import chi2_contingency\n",
        "\n",
        "# Contingency table for chocolate preferences\n",
        "# Rows: U.S., U.K.\n",
        "# Columns: Milk Chocolate, Dark Chocolate, White Chocolate\n",
        "contingency_table = [\n",
        "    [200, 150, 150],  # U.S.\n",
        "    [225, 175, 100]   # U.K.\n",
        "]\n",
        "\n",
        "# Conduct the Chi-square test for independence\n",
        "chi_square_statistic, p_value, dof, expected_frequencies = chi2_contingency(contingency_table)\n",
        "\n",
        "# Display the results\n",
        "print(f\"Chi-square Statistic: {chi_square_statistic}\")\n",
        "print(f\"p-value: {p_value}\")\n",
        "print(f\"Degrees of Freedom: {dof}\")\n",
        "print(\"Expected Frequencies:\")\n",
        "for row in expected_frequencies:\n",
        "    print(row)\n",
        "\n",
        "# Check against the significance level\n",
        "significance_level = 0.01\n",
        "if p_value < significance_level:\n",
        "    print(\"Conclusion: There is a significant association between chocolate preference and country of origin.\")\n",
        "else:\n",
        "    print(\"Conclusion: There is no significant association between chocolate preference and country of origin.\")\n",
        "\n"
      ],
      "metadata": {
        "colab": {
          "base_uri": "https://localhost:8080/"
        },
        "id": "iGyI6XqS6UKZ",
        "outputId": "6e2c9c87-e8a9-4868-de8a-7a6845aee5f6"
      },
      "execution_count": 15,
      "outputs": [
        {
          "output_type": "stream",
          "name": "stdout",
          "text": [
            "Chi-square Statistic: 13.393665158371041\n",
            "p-value: 0.0012348168997745918\n",
            "Degrees of Freedom: 2\n",
            "Expected Frequencies:\n",
            "[212.5 162.5 125. ]\n",
            "[212.5 162.5 125. ]\n",
            "Conclusion: There is a significant association between chocolate preference and country of origin.\n"
          ]
        }
      ]
    },
    {
      "cell_type": "code",
      "source": [
        "\"\"\"\n",
        "Q11. A random sample of 30 people was selected from a population with an unknown mean and standard\n",
        "deviation. The sample mean was found to be 72 and the sample standard deviation was found to be 10.\n",
        "Conduct a hypothesis test to determine if the population mean is significantly different from 70. Use a\n",
        "significance level of 0.05.\n",
        "\n",
        "\"\"\"\n",
        "from scipy.stats import ttest_1samp\n",
        "\n",
        "# Sample data\n",
        "sample_mean = 72\n",
        "sample_std = 10\n",
        "n = 30\n",
        "pop_mean = 70\n",
        "\n",
        "\n",
        "sample_values = sample_std * np.random.randn(n) + sample_mean\n",
        "\n",
        "# Conduct the one-sample t-test\n",
        "t_statistic, p_value = ttest_1samp(sample_values, pop_mean)\n",
        "\n",
        "# Display the t-statistic and p-value\n",
        "print(f\"t-statistic: {t_statistic}, p-value: {p_value}\")\n",
        "\n",
        "# Determine significance\n",
        "significance_level = 0.05\n",
        "if p_value < significance_level:\n",
        "    print(\"Conclusion: Reject the null hypothesis. The population mean is significantly different from 70.\")\n",
        "else:\n",
        "    print(\"Conclusion: Fail to reject the null hypothesis. There is not enough evidence to say the population mean is significantly different from 70.\")\n"
      ],
      "metadata": {
        "colab": {
          "base_uri": "https://localhost:8080/"
        },
        "id": "RazhvdfZ7BmK",
        "outputId": "0c7e0af4-12a3-4cf7-d12f-8aa9de53b610"
      },
      "execution_count": 16,
      "outputs": [
        {
          "output_type": "stream",
          "name": "stdout",
          "text": [
            "t-statistic: 1.985544405624842, p-value: 0.05661166376266761\n",
            "Conclusion: Fail to reject the null hypothesis. There is not enough evidence to say the population mean is significantly different from 70.\n"
          ]
        }
      ]
    }
  ]
}
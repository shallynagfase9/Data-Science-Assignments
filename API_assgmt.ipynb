{
  "nbformat": 4,
  "nbformat_minor": 0,
  "metadata": {
    "colab": {
      "provenance": [],
      "authorship_tag": "ABX9TyOSvWlvgdBeiH4ewfYI8NGG",
      "include_colab_link": true
    },
    "kernelspec": {
      "name": "python3",
      "display_name": "Python 3"
    },
    "language_info": {
      "name": "python"
    }
  },
  "cells": [
    {
      "cell_type": "markdown",
      "metadata": {
        "id": "view-in-github",
        "colab_type": "text"
      },
      "source": [
        "<a href=\"https://colab.research.google.com/github/shallynagfase9/Data-Science-Assignments/blob/main/API_assgmt.ipynb\" target=\"_parent\"><img src=\"https://colab.research.google.com/assets/colab-badge.svg\" alt=\"Open In Colab\"/></a>"
      ]
    },
    {
      "cell_type": "code",
      "execution_count": null,
      "metadata": {
        "id": "ospocnplUPjB"
      },
      "outputs": [],
      "source": [
        "# Q1. What is an API? Give an example, where an API is used in real life.\n",
        "\"\"\"An API (Application Programming Interface) is a set of protocols and tools that allows different software applications to communicate and interact with each other.\n",
        "APIs function as intermediaries, connecting software components and enabling data exchange.\n",
        "One example of an API in real life is the Twitter Bot system, which relies on Twitter's API to interact with user triggers, such as specific keywords in comments.\n",
        "Bots can respond to these triggers and interact with users accordingly\"\"\""
      ]
    },
    {
      "cell_type": "code",
      "source": [
        "# Q2. Give advantages and disadvantages of using API.\n",
        "# Advantages:\n",
        "'''\n",
        "1) Improved Efficiency: API-driven infrastructures enable developers to reuse code and functionality from existing software systems,\n",
        "saving time and reducing the amount of code that needs to be written from scratch\n",
        "\n",
        "2) Better User Experience: APIs can enable third-party developers to create applications that integrate with existing software systems,\n",
        "providing a better user experience and increased functionality'''\n",
        "\n",
        "# Disadvantages:\n",
        "'''\n",
        "1) Security Concerns: API infrastructures can be vulnerable to security breaches, such as SQL injection attacks and cross-site scripting (XSS) attacks,\n",
        "making it crucial to implement security measures to protect against these threats.\n",
        "'''"
      ],
      "metadata": {
        "id": "TN39nektUlMk"
      },
      "execution_count": null,
      "outputs": []
    },
    {
      "cell_type": "code",
      "source": [
        "# Q3. What is a Web API? Differentiate between API and Web API.\n",
        "'''\n",
        "A Web API is a type of API that uses HTTP as its method of interaction, while non-Web APIs use function calls as their method of interaction\n",
        "APIs, in general, are a set of protocols and tools that allow different software applications to communicate and interact with each other.\n",
        "APIs function as intermediaries, connecting software components and enabling data exchange.\n",
        "The main difference between API and Web API is the method of interaction. While APIs can use various methods of interaction, including function calls,\n",
        "Web APIs use HTTP as their primary method of interaction.\n",
        "'''"
      ],
      "metadata": {
        "id": "dLwsCg9IVffA"
      },
      "execution_count": null,
      "outputs": []
    },
    {
      "cell_type": "code",
      "source": [
        "# Q4. Explain REST and SOAP Architecture. Mention shortcomings of SOAP.\n",
        "'''\n",
        "SOAP Architecture\n",
        "SOAP (Simple Object Access Protocol) is a standardized protocol that enables the exchange of structured data among computer systems.\n",
        "SOAP uses XML to encode its messages and can operate over multiple protocols, such as HTTP, SMTP, and MSMQ.\n",
        "SOAP follows a strict set of rules and includes features like extensibility, strong typing, and built-in security mechanisms.\n",
        "However, SOAP messages tend to be larger and less efficient than other formats,\n",
        "resulting in poorer performance and higher bandwidth consumption.\n",
        "\n",
        "Advantages of SOAP:\n",
        "1) Language, platform, and transport independence\n",
        "2) Works well in distributed enterprise environments\n",
        "3) Standardized\n",
        "\n",
        "Disadvantages of SOAP:\n",
        "1) Poor performance due to XML-based messages\n",
        "2) More complex and harder to use\n",
        "3) Requires more resources and bandwidth\n",
        "\n",
        "REST Architecture\n",
        "REST (Representational State Transfer) is an architectural style that focuses on designing web services based on a set of constraints.\n",
        "RESTful APIs are known for their simplicity, flexibility, and scalability. RESTful APIs use HTTP methods (GET, POST, PUT, DELETE) and URI paths to identify resources.\n",
        "Since REST is stateless,\n",
        "it eliminates the need for maintaining session information, making it easier to scale and maintain.\n",
        "\n",
        "Advantages of REST:\n",
        "1) Easier to use and develop\n",
        "2) Highly scalable and efficient\n",
        "3) Supports caching\n",
        "4) Can use smaller message formats (such as JSON)\n",
        "5) Closer to other web technologies in design philosophy\n",
        "\n",
        "Disadvantages of REST:\n",
        "1) May lack some of the built-in security features offered by SOAP\n",
        "2) Not as well-defined as SOAP, potentially causing inconsistent implementation across projects"
      ],
      "metadata": {
        "id": "cUcJASi0Vz7L"
      },
      "execution_count": null,
      "outputs": []
    },
    {
      "cell_type": "code",
      "source": [
        "# Q5. Differentiate between REST and SOAP.\n",
        "'''\n",
        "REST:\n",
        "Is an architectural style focused on lightweight, stateless communication.\n",
        "Uses HTTP methods (GET, POST, PUT, DELETE) to manipulate resources.\n",
        "Does not mandate a specific message format, although JSON is widely adopted.\n",
        "Offers flexibility and ease of use.\n",
        "Is suitable for mobile applications and web services.\n",
        "\n",
        "SOAP:\n",
        "Is a protocol that defines a messaging framework.\n",
        "Relies heavily on XML for structuring messages.\n",
        "Enables stronger typing and more robust error handling.\n",
        "Includes built-in security mechanisms.\n",
        "Is more complex and less efficient than REST.\n",
        "'''"
      ],
      "metadata": {
        "id": "1d0VFLCdW-k8"
      },
      "execution_count": null,
      "outputs": []
    }
  ]
}
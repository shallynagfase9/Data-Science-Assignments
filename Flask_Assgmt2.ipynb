{
  "nbformat": 4,
  "nbformat_minor": 0,
  "metadata": {
    "colab": {
      "provenance": [],
      "authorship_tag": "ABX9TyMhSHJfU17BcsYjegB9ctWz",
      "include_colab_link": true
    },
    "kernelspec": {
      "name": "python3",
      "display_name": "Python 3"
    },
    "language_info": {
      "name": "python"
    }
  },
  "cells": [
    {
      "cell_type": "markdown",
      "metadata": {
        "id": "view-in-github",
        "colab_type": "text"
      },
      "source": [
        "<a href=\"https://colab.research.google.com/github/shallynagfase9/Data-Science-Assignments/blob/main/Flask_Assgmt2.ipynb\" target=\"_parent\"><img src=\"https://colab.research.google.com/assets/colab-badge.svg\" alt=\"Open In Colab\"/></a>"
      ]
    },
    {
      "cell_type": "code",
      "execution_count": null,
      "metadata": {
        "id": "p-yqfi5NMAzd"
      },
      "outputs": [],
      "source": [
        "# Q1. Explain GET and POST methods.\n",
        "'''\n",
        "GET is used to retrieve data from a server, while POST is used to submit data to a server.\n",
        "Both methods are important for web development and are used in different situations depending on the needs of the application.\n",
        "'''"
      ]
    },
    {
      "cell_type": "code",
      "source": [
        "# Q2. Why is request used in Flask?\n",
        "'''\n",
        "The request object is used in Flask to access incoming data from a client, such as a web browser, and to handle the generation of a response.\n",
        "It holds various information, including the mimetype, referrer, IP address, raw data, HTTP method, and headers.\n",
        "'''"
      ],
      "metadata": {
        "id": "F-xI78CVMYyh"
      },
      "execution_count": null,
      "outputs": []
    },
    {
      "cell_type": "code",
      "source": [
        "# Q3. Why is redirect() used in Flask?\n",
        "'''\n",
        "The redirect() function in Flask is used to send users to a different URL. It generates a response object and initiates a redirection,\n",
        "indicating the desired destination URL along with an optional status code. This feature is particularly helpful when dealing with scenarios such as:\n",
        "1. User authentication failures\n",
        "2. Resource deletion confirmation\n",
        "3. Form submission successes\n",
        "4. Permanent changes in resource locations\n",
        "'''"
      ],
      "metadata": {
        "id": "IJibrhaPMqNa"
      },
      "execution_count": null,
      "outputs": []
    },
    {
      "cell_type": "code",
      "source": [
        "# Q4. What are templates in Flask? Why is the render_template() function used?\n",
        "'''\n",
        "Templates in Flask are files that contain static data as well as placeholders for dynamic data.\n",
        "The render_template() function is used to pass data from the Flask application to the template and render it.\n",
        "It allows developers to pass variables, create loops, and add if statements right in the template.\n",
        "The function returns a string that contains the rendered template.\n",
        "\n",
        "'''"
      ],
      "metadata": {
        "id": "x_gSr39AM8I8"
      },
      "execution_count": null,
      "outputs": []
    },
    {
      "cell_type": "code",
      "source": [
        "# Q5. Create a simple API. Use Postman to test it. Attach the screenshot of the output in the Jupyter Notebook.\n",
        "\n",
        "from flask import Flask, jsonify\n",
        "\n",
        "app = Flask(__name__)\n",
        "\n",
        "@app.route('/hello')\n",
        "def hello():\n",
        "    return jsonify({'message': 'Hello, World!'})\n",
        "\n",
        "if __name__ == '__main__':\n",
        "    app.run(debug=True)\n",
        "\n"
      ],
      "metadata": {
        "colab": {
          "base_uri": "https://localhost:8080/"
        },
        "id": "lVBfifLDNUIi",
        "outputId": "7cb4642c-c953-4da4-fc9b-e5b18cc4482b"
      },
      "execution_count": null,
      "outputs": [
        {
          "output_type": "stream",
          "name": "stdout",
          "text": [
            " * Serving Flask app '__main__'\n",
            " * Debug mode: on\n"
          ]
        },
        {
          "output_type": "stream",
          "name": "stderr",
          "text": [
            "INFO:werkzeug:\u001b[31m\u001b[1mWARNING: This is a development server. Do not use it in a production deployment. Use a production WSGI server instead.\u001b[0m\n",
            " * Running on http://127.0.0.1:5000\n",
            "INFO:werkzeug:\u001b[33mPress CTRL+C to quit\u001b[0m\n",
            "INFO:werkzeug: * Restarting with stat\n"
          ]
        }
      ]
    }
  ]
}
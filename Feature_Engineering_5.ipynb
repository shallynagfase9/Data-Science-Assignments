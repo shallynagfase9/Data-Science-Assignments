{
  "nbformat": 4,
  "nbformat_minor": 0,
  "metadata": {
    "colab": {
      "provenance": [],
      "authorship_tag": "ABX9TyOoBotQeCKWOYIDSJQa6csh",
      "include_colab_link": true
    },
    "kernelspec": {
      "name": "python3",
      "display_name": "Python 3"
    },
    "language_info": {
      "name": "python"
    }
  },
  "cells": [
    {
      "cell_type": "markdown",
      "metadata": {
        "id": "view-in-github",
        "colab_type": "text"
      },
      "source": [
        "<a href=\"https://colab.research.google.com/github/shallynagfase9/Data-Science-Assignments/blob/main/Feature_Engineering_5.ipynb\" target=\"_parent\"><img src=\"https://colab.research.google.com/assets/colab-badge.svg\" alt=\"Open In Colab\"/></a>"
      ]
    },
    {
      "cell_type": "code",
      "execution_count": null,
      "metadata": {
        "id": "8aH7jpeWwsui"
      },
      "outputs": [],
      "source": [
        "# Q1. What is the difference between Ordinal Encoding and Label Encoding? Provide an example of when you might choose one over the other.\n",
        "\"\"\"\n",
        "Ordinal encoding and label encoding are both techniques used to convert categorical data into numerical form, but they have different applications and implications.\n",
        "\n",
        "- Ordinal Encoding: Ordinal encoding is specifically used for ordinal categorical variables, where there is a meaningful order or hierarchy among the categories. The numerical labels assigned to the categories reflect this order.\n",
        "- Label Encoding: Label encoding, on the other hand, can be applied to both ordinal and nominal categorical variables. It assigns a unique numerical label to each category, without considering any inherent order or hierarchy.\n",
        "\n",
        "\"\"\""
      ]
    },
    {
      "cell_type": "code",
      "source": [
        "# Q2. Explain how Target Guided Ordinal Encoding works and provide an example of when you might use it in a machine learning project.\n",
        "\"\"\"\n",
        "Steps for Target Guided Ordinal Encoding:\n",
        "- Grouping by Category: Group the dataset by the categorical variable for which encoding is to be performed.\n",
        "- Calculate Summary Statistics: For each category, calculate summary statistics of the target variable (e.g., mean, median, etc.). These statistics represent the relationship between the category and the target variable.\n",
        "- Order Categories: Order the categories based on the computed summary statistics. For example, categories with higher average target variable values may be assigned higher numerical labels.\n",
        "- Assign Numerical Labels: Assign numerical labels to the categories based on their order. The category with the highest summary statistic value may be assigned the highest label, and so on.\n",
        "- Encode Data: Replace the categorical variable with the assigned numerical labels in the dataset.\n",
        "\"\"\"\n",
        "\n",
        "import pandas as pd\n",
        "df = pd.DataFrame(\n",
        "    {\n",
        "        \"city\":[\"New York\",\"London\",\"Paris\",\"Tokyo\",\"New York\",\"Paris\"],\n",
        "        \"price\":[200,150,400,250,170,190]\n",
        "    }\n",
        ")\n",
        "\n",
        "mean_price = df.groupby(\"city\")[\"price\"].mean().to_dict()\n",
        "mean_price\n",
        "\n",
        "df[\"city_encoded\"] = df[\"city\"].map(mean_price)\n",
        "\n",
        "df[[\"price\",\"city_encoded\"]]"
      ],
      "metadata": {
        "colab": {
          "base_uri": "https://localhost:8080/",
          "height": 237
        },
        "id": "6BaDGzQWyr3I",
        "outputId": "88635b32-8ebe-44fb-de86-3f9888c80891"
      },
      "execution_count": 1,
      "outputs": [
        {
          "output_type": "execute_result",
          "data": {
            "text/plain": [
              "   price  city_encoded\n",
              "0    200         185.0\n",
              "1    150         150.0\n",
              "2    400         295.0\n",
              "3    250         250.0\n",
              "4    170         185.0\n",
              "5    190         295.0"
            ],
            "text/html": [
              "\n",
              "  <div id=\"df-8cbb1390-9c25-4a16-a371-a793d108771c\" class=\"colab-df-container\">\n",
              "    <div>\n",
              "<style scoped>\n",
              "    .dataframe tbody tr th:only-of-type {\n",
              "        vertical-align: middle;\n",
              "    }\n",
              "\n",
              "    .dataframe tbody tr th {\n",
              "        vertical-align: top;\n",
              "    }\n",
              "\n",
              "    .dataframe thead th {\n",
              "        text-align: right;\n",
              "    }\n",
              "</style>\n",
              "<table border=\"1\" class=\"dataframe\">\n",
              "  <thead>\n",
              "    <tr style=\"text-align: right;\">\n",
              "      <th></th>\n",
              "      <th>price</th>\n",
              "      <th>city_encoded</th>\n",
              "    </tr>\n",
              "  </thead>\n",
              "  <tbody>\n",
              "    <tr>\n",
              "      <th>0</th>\n",
              "      <td>200</td>\n",
              "      <td>185.0</td>\n",
              "    </tr>\n",
              "    <tr>\n",
              "      <th>1</th>\n",
              "      <td>150</td>\n",
              "      <td>150.0</td>\n",
              "    </tr>\n",
              "    <tr>\n",
              "      <th>2</th>\n",
              "      <td>400</td>\n",
              "      <td>295.0</td>\n",
              "    </tr>\n",
              "    <tr>\n",
              "      <th>3</th>\n",
              "      <td>250</td>\n",
              "      <td>250.0</td>\n",
              "    </tr>\n",
              "    <tr>\n",
              "      <th>4</th>\n",
              "      <td>170</td>\n",
              "      <td>185.0</td>\n",
              "    </tr>\n",
              "    <tr>\n",
              "      <th>5</th>\n",
              "      <td>190</td>\n",
              "      <td>295.0</td>\n",
              "    </tr>\n",
              "  </tbody>\n",
              "</table>\n",
              "</div>\n",
              "    <div class=\"colab-df-buttons\">\n",
              "\n",
              "  <div class=\"colab-df-container\">\n",
              "    <button class=\"colab-df-convert\" onclick=\"convertToInteractive('df-8cbb1390-9c25-4a16-a371-a793d108771c')\"\n",
              "            title=\"Convert this dataframe to an interactive table.\"\n",
              "            style=\"display:none;\">\n",
              "\n",
              "  <svg xmlns=\"http://www.w3.org/2000/svg\" height=\"24px\" viewBox=\"0 -960 960 960\">\n",
              "    <path d=\"M120-120v-720h720v720H120Zm60-500h600v-160H180v160Zm220 220h160v-160H400v160Zm0 220h160v-160H400v160ZM180-400h160v-160H180v160Zm440 0h160v-160H620v160ZM180-180h160v-160H180v160Zm440 0h160v-160H620v160Z\"/>\n",
              "  </svg>\n",
              "    </button>\n",
              "\n",
              "  <style>\n",
              "    .colab-df-container {\n",
              "      display:flex;\n",
              "      gap: 12px;\n",
              "    }\n",
              "\n",
              "    .colab-df-convert {\n",
              "      background-color: #E8F0FE;\n",
              "      border: none;\n",
              "      border-radius: 50%;\n",
              "      cursor: pointer;\n",
              "      display: none;\n",
              "      fill: #1967D2;\n",
              "      height: 32px;\n",
              "      padding: 0 0 0 0;\n",
              "      width: 32px;\n",
              "    }\n",
              "\n",
              "    .colab-df-convert:hover {\n",
              "      background-color: #E2EBFA;\n",
              "      box-shadow: 0px 1px 2px rgba(60, 64, 67, 0.3), 0px 1px 3px 1px rgba(60, 64, 67, 0.15);\n",
              "      fill: #174EA6;\n",
              "    }\n",
              "\n",
              "    .colab-df-buttons div {\n",
              "      margin-bottom: 4px;\n",
              "    }\n",
              "\n",
              "    [theme=dark] .colab-df-convert {\n",
              "      background-color: #3B4455;\n",
              "      fill: #D2E3FC;\n",
              "    }\n",
              "\n",
              "    [theme=dark] .colab-df-convert:hover {\n",
              "      background-color: #434B5C;\n",
              "      box-shadow: 0px 1px 3px 1px rgba(0, 0, 0, 0.15);\n",
              "      filter: drop-shadow(0px 1px 2px rgba(0, 0, 0, 0.3));\n",
              "      fill: #FFFFFF;\n",
              "    }\n",
              "  </style>\n",
              "\n",
              "    <script>\n",
              "      const buttonEl =\n",
              "        document.querySelector('#df-8cbb1390-9c25-4a16-a371-a793d108771c button.colab-df-convert');\n",
              "      buttonEl.style.display =\n",
              "        google.colab.kernel.accessAllowed ? 'block' : 'none';\n",
              "\n",
              "      async function convertToInteractive(key) {\n",
              "        const element = document.querySelector('#df-8cbb1390-9c25-4a16-a371-a793d108771c');\n",
              "        const dataTable =\n",
              "          await google.colab.kernel.invokeFunction('convertToInteractive',\n",
              "                                                    [key], {});\n",
              "        if (!dataTable) return;\n",
              "\n",
              "        const docLinkHtml = 'Like what you see? Visit the ' +\n",
              "          '<a target=\"_blank\" href=https://colab.research.google.com/notebooks/data_table.ipynb>data table notebook</a>'\n",
              "          + ' to learn more about interactive tables.';\n",
              "        element.innerHTML = '';\n",
              "        dataTable['output_type'] = 'display_data';\n",
              "        await google.colab.output.renderOutput(dataTable, element);\n",
              "        const docLink = document.createElement('div');\n",
              "        docLink.innerHTML = docLinkHtml;\n",
              "        element.appendChild(docLink);\n",
              "      }\n",
              "    </script>\n",
              "  </div>\n",
              "\n",
              "\n",
              "<div id=\"df-c87c64cd-1cc0-4278-bf65-e946b6bedc07\">\n",
              "  <button class=\"colab-df-quickchart\" onclick=\"quickchart('df-c87c64cd-1cc0-4278-bf65-e946b6bedc07')\"\n",
              "            title=\"Suggest charts\"\n",
              "            style=\"display:none;\">\n",
              "\n",
              "<svg xmlns=\"http://www.w3.org/2000/svg\" height=\"24px\"viewBox=\"0 0 24 24\"\n",
              "     width=\"24px\">\n",
              "    <g>\n",
              "        <path d=\"M19 3H5c-1.1 0-2 .9-2 2v14c0 1.1.9 2 2 2h14c1.1 0 2-.9 2-2V5c0-1.1-.9-2-2-2zM9 17H7v-7h2v7zm4 0h-2V7h2v10zm4 0h-2v-4h2v4z\"/>\n",
              "    </g>\n",
              "</svg>\n",
              "  </button>\n",
              "\n",
              "<style>\n",
              "  .colab-df-quickchart {\n",
              "      --bg-color: #E8F0FE;\n",
              "      --fill-color: #1967D2;\n",
              "      --hover-bg-color: #E2EBFA;\n",
              "      --hover-fill-color: #174EA6;\n",
              "      --disabled-fill-color: #AAA;\n",
              "      --disabled-bg-color: #DDD;\n",
              "  }\n",
              "\n",
              "  [theme=dark] .colab-df-quickchart {\n",
              "      --bg-color: #3B4455;\n",
              "      --fill-color: #D2E3FC;\n",
              "      --hover-bg-color: #434B5C;\n",
              "      --hover-fill-color: #FFFFFF;\n",
              "      --disabled-bg-color: #3B4455;\n",
              "      --disabled-fill-color: #666;\n",
              "  }\n",
              "\n",
              "  .colab-df-quickchart {\n",
              "    background-color: var(--bg-color);\n",
              "    border: none;\n",
              "    border-radius: 50%;\n",
              "    cursor: pointer;\n",
              "    display: none;\n",
              "    fill: var(--fill-color);\n",
              "    height: 32px;\n",
              "    padding: 0;\n",
              "    width: 32px;\n",
              "  }\n",
              "\n",
              "  .colab-df-quickchart:hover {\n",
              "    background-color: var(--hover-bg-color);\n",
              "    box-shadow: 0 1px 2px rgba(60, 64, 67, 0.3), 0 1px 3px 1px rgba(60, 64, 67, 0.15);\n",
              "    fill: var(--button-hover-fill-color);\n",
              "  }\n",
              "\n",
              "  .colab-df-quickchart-complete:disabled,\n",
              "  .colab-df-quickchart-complete:disabled:hover {\n",
              "    background-color: var(--disabled-bg-color);\n",
              "    fill: var(--disabled-fill-color);\n",
              "    box-shadow: none;\n",
              "  }\n",
              "\n",
              "  .colab-df-spinner {\n",
              "    border: 2px solid var(--fill-color);\n",
              "    border-color: transparent;\n",
              "    border-bottom-color: var(--fill-color);\n",
              "    animation:\n",
              "      spin 1s steps(1) infinite;\n",
              "  }\n",
              "\n",
              "  @keyframes spin {\n",
              "    0% {\n",
              "      border-color: transparent;\n",
              "      border-bottom-color: var(--fill-color);\n",
              "      border-left-color: var(--fill-color);\n",
              "    }\n",
              "    20% {\n",
              "      border-color: transparent;\n",
              "      border-left-color: var(--fill-color);\n",
              "      border-top-color: var(--fill-color);\n",
              "    }\n",
              "    30% {\n",
              "      border-color: transparent;\n",
              "      border-left-color: var(--fill-color);\n",
              "      border-top-color: var(--fill-color);\n",
              "      border-right-color: var(--fill-color);\n",
              "    }\n",
              "    40% {\n",
              "      border-color: transparent;\n",
              "      border-right-color: var(--fill-color);\n",
              "      border-top-color: var(--fill-color);\n",
              "    }\n",
              "    60% {\n",
              "      border-color: transparent;\n",
              "      border-right-color: var(--fill-color);\n",
              "    }\n",
              "    80% {\n",
              "      border-color: transparent;\n",
              "      border-right-color: var(--fill-color);\n",
              "      border-bottom-color: var(--fill-color);\n",
              "    }\n",
              "    90% {\n",
              "      border-color: transparent;\n",
              "      border-bottom-color: var(--fill-color);\n",
              "    }\n",
              "  }\n",
              "</style>\n",
              "\n",
              "  <script>\n",
              "    async function quickchart(key) {\n",
              "      const quickchartButtonEl =\n",
              "        document.querySelector('#' + key + ' button');\n",
              "      quickchartButtonEl.disabled = true;  // To prevent multiple clicks.\n",
              "      quickchartButtonEl.classList.add('colab-df-spinner');\n",
              "      try {\n",
              "        const charts = await google.colab.kernel.invokeFunction(\n",
              "            'suggestCharts', [key], {});\n",
              "      } catch (error) {\n",
              "        console.error('Error during call to suggestCharts:', error);\n",
              "      }\n",
              "      quickchartButtonEl.classList.remove('colab-df-spinner');\n",
              "      quickchartButtonEl.classList.add('colab-df-quickchart-complete');\n",
              "    }\n",
              "    (() => {\n",
              "      let quickchartButtonEl =\n",
              "        document.querySelector('#df-c87c64cd-1cc0-4278-bf65-e946b6bedc07 button');\n",
              "      quickchartButtonEl.style.display =\n",
              "        google.colab.kernel.accessAllowed ? 'block' : 'none';\n",
              "    })();\n",
              "  </script>\n",
              "</div>\n",
              "\n",
              "    </div>\n",
              "  </div>\n"
            ],
            "application/vnd.google.colaboratory.intrinsic+json": {
              "type": "dataframe",
              "summary": "{\n  \"name\": \"df[[\\\"price\\\",\\\"city_encoded\\\"]]\",\n  \"rows\": 6,\n  \"fields\": [\n    {\n      \"column\": \"price\",\n      \"properties\": {\n        \"dtype\": \"number\",\n        \"std\": 91,\n        \"min\": 150,\n        \"max\": 400,\n        \"num_unique_values\": 6,\n        \"samples\": [\n          200,\n          150,\n          190\n        ],\n        \"semantic_type\": \"\",\n        \"description\": \"\"\n      }\n    },\n    {\n      \"column\": \"city_encoded\",\n      \"properties\": {\n        \"dtype\": \"number\",\n        \"std\": 62.02150164795002,\n        \"min\": 150.0,\n        \"max\": 295.0,\n        \"num_unique_values\": 4,\n        \"samples\": [\n          150.0,\n          250.0,\n          185.0\n        ],\n        \"semantic_type\": \"\",\n        \"description\": \"\"\n      }\n    }\n  ]\n}"
            }
          },
          "metadata": {},
          "execution_count": 1
        }
      ]
    },
    {
      "cell_type": "code",
      "source": [
        "# Q3. Define covariance and explain why it is important in statistical analysis. How is covariance calculated?\n",
        "\n",
        "# Covariance is a measure of the relationship between two random variables.\n",
        "# Covariance is important in statistical analysis, to identify relationship between variables.\n",
        "import numpy as np\n",
        "\n",
        "# Example data for two variables X and Y\n",
        "X = np.array([1, 2, 3, 4, 5])\n",
        "Y = np.array([5, 4, 3, 2, 1])\n",
        "\n",
        "# Calculate covariance between X and Y\n",
        "covariance_matrix = np.cov(X, Y)\n",
        "\n",
        "# Extract the covariance value from the covariance matrix\n",
        "covariance_value = covariance_matrix[0, 1]\n",
        "\n",
        "print(\"Covariance between X and Y:\", covariance_value)\n"
      ],
      "metadata": {
        "colab": {
          "base_uri": "https://localhost:8080/"
        },
        "id": "uBz8wpPRzmTG",
        "outputId": "55f219b0-176b-401a-a233-3c753411e84d"
      },
      "execution_count": 2,
      "outputs": [
        {
          "output_type": "stream",
          "name": "stdout",
          "text": [
            "Covariance between X and Y: -2.5\n"
          ]
        }
      ]
    },
    {
      "cell_type": "code",
      "source": [
        "\"\"\"\n",
        "Q4. For a dataset with the following categorical variables: Color (red, green, blue), Size (small, medium,\n",
        "large), and Material (wood, metal, plastic), perform label encoding using Python's scikit-learn library.\n",
        "Show your code and explain the output.\n",
        "\"\"\"\n",
        "from sklearn.preprocessing import LabelEncoder\n",
        "import pandas as pd\n",
        "\n",
        "# Create a DataFrame with categorical variables\n",
        "data = pd.DataFrame({\n",
        "    'Color': ['red', 'green', 'blue', 'red', 'green'],\n",
        "    'Size': ['small', 'medium', 'large', 'medium', 'small'],\n",
        "    'Material': ['wood', 'metal', 'plastic', 'metal', 'plastic']\n",
        "})\n",
        "\n",
        "# Initialize LabelEncoder\n",
        "label_encoder = LabelEncoder()\n",
        "\n",
        "# Apply label encoding to each categorical column\n",
        "for i in data.columns:\n",
        "  data[i + '_encoded'] = label_encoder.fit_transform(data[i])\n",
        "\n",
        "print(data)"
      ],
      "metadata": {
        "id": "SeGHIcqT0O4W"
      },
      "execution_count": null,
      "outputs": []
    },
    {
      "cell_type": "code",
      "source": [
        "\"\"\"\n",
        "Q5. Calculate the covariance matrix for the following variables in a dataset: Age, Income, and Education\n",
        "level. Interpret the results.\n",
        "\"\"\"\n",
        "import numpy as np\n",
        "\n",
        "# Example data for Age, Income, and Education level\n",
        "Age = np.array([30, 40, 50, 45, 35])\n",
        "Income = np.array([50000, 60000, 70000, 55000, 65000])\n",
        "Education_Level = np.array([12, 16, 18, 14, 15])\n",
        "\n",
        "# Stack the variables into a 2D array\n",
        "data = np.vstack((Age, Income, Education_Level))\n",
        "\n",
        "# Calculate the covariance matrix\n",
        "covariance_matrix = np.cov(data)\n",
        "\n",
        "# Print the covariance matrix\n",
        "print(\"Covariance Matrix:\")\n",
        "print(covariance_matrix)\n",
        "\n",
        "\"\"\"\n",
        "Interpreting the results:\n",
        "\n",
        "- A positive covariance indicates a positive relationship between variables, meaning they tend to increase or decrease together.\n",
        "- A negative covariance indicates a negative relationship between variables, meaning one tends to increase while the other decreases.\n",
        "- The magnitude of covariance values indicates the strength of the relationship between variables. Higher values imply a stronger relationship, while lower values imply a weaker relationship.\n",
        "However, interpreting the covariance values alone may not provide a complete understanding of the relationship between variables.\n",
        "\n",
        "\"\"\""
      ],
      "metadata": {
        "colab": {
          "base_uri": "https://localhost:8080/",
          "height": 164
        },
        "id": "3_y-m4u300V9",
        "outputId": "ee0f7298-0c97-4d51-bc70-c84e3abd76ea"
      },
      "execution_count": 4,
      "outputs": [
        {
          "output_type": "stream",
          "name": "stdout",
          "text": [
            "Covariance Matrix:\n",
            "[[6.250e+01 3.750e+04 1.375e+01]\n",
            " [3.750e+04 6.250e+07 1.625e+04]\n",
            " [1.375e+01 1.625e+04 5.000e+00]]\n"
          ]
        },
        {
          "output_type": "execute_result",
          "data": {
            "text/plain": [
              "'\\nInterpreting the results:\\n\\n- A positive covariance indicates a positive relationship between variables, meaning they tend to increase or decrease together.\\n- A negative covariance indicates a negative relationship between variables, meaning one tends to increase while the other decreases.\\n- The magnitude of covariance values indicates the strength of the relationship between variables. Higher values imply a stronger relationship, while lower values imply a weaker relationship.\\nHowever, interpreting the covariance values alone may not provide a complete understanding of the relationship between variables. \\n\\n'"
            ],
            "application/vnd.google.colaboratory.intrinsic+json": {
              "type": "string"
            }
          },
          "metadata": {},
          "execution_count": 4
        }
      ]
    },
    {
      "cell_type": "code",
      "source": [
        "\"\"\"\n",
        "Q6. You are working on a machine learning project with a dataset containing several categorical\n",
        "variables, including \"Gender\" (Male/Female), \"Education Level\" (High School/Bachelor's/Master's/PhD),\n",
        "and \"Employment Status\" (Unemployed/Part-Time/Full-Time). Which encoding method would you use for\n",
        "each variable, and why?\n",
        "\"\"\"\n",
        "\n",
        "\"\"\"\n",
        "For the given dataset containing several categorical variables (\"Gender\", \"Education Level\", and \"Employment Status\"),\n",
        "the choice of encoding method for each variable depends on the nature of the variable and its relationship with the target variable,\n",
        "as well as the requirements of the machine learning algorithm being used.\n",
        "\n",
        "Encoding Method: One-Hot Encoding\n",
        "\n",
        "- One-Hot Encoding is preferred for nominal categorical variables (Gender, Employment Status) to create binary dummy variables without imposing any ordinal relationships among categories.\n",
        "- Ordinal Encoding is suitable for ordinal categorical variables (Education Level) with a clear hierarchy, allowing the model to capture the order of categories effectively.\n",
        "\n",
        "\"\"\""
      ],
      "metadata": {
        "id": "BcmtweHo1lgQ",
        "outputId": "61daecd1-1b61-4bca-c090-a3082e8b9157",
        "colab": {
          "base_uri": "https://localhost:8080/",
          "height": 91
        }
      },
      "execution_count": 5,
      "outputs": [
        {
          "output_type": "execute_result",
          "data": {
            "text/plain": [
              "'\\nFor the given dataset containing several categorical variables (\"Gender\", \"Education Level\", and \"Employment Status\"), \\nthe choice of encoding method for each variable depends on the nature of the variable and its relationship with the target variable, \\nas well as the requirements of the machine learning algorithm being used.\\n\\nEncoding Method: One-Hot Encoding\\n\\n- One-Hot Encoding is preferred for nominal categorical variables (Gender, Employment Status) to create binary dummy variables without imposing any ordinal relationships among categories.\\n- Ordinal Encoding is suitable for ordinal categorical variables (Education Level) with a clear hierarchy, allowing the model to capture the order of categories effectively.\\n\\n'"
            ],
            "application/vnd.google.colaboratory.intrinsic+json": {
              "type": "string"
            }
          },
          "metadata": {},
          "execution_count": 5
        }
      ]
    },
    {
      "cell_type": "code",
      "source": [
        "\"\"\"\n",
        "Q7. You are analyzing a dataset with two continuous variables, \"Temperature\" and \"Humidity\", and two\n",
        "categorical variables, \"Weather Condition\" (Sunny/Cloudy/Rainy) and \"Wind Direction\" (North/South/\n",
        "East/West). Calculate the covariance between each pair of variables and interpret the results.\n",
        "\n",
        "\"\"\"\n",
        "import numpy as np\n",
        "\n",
        "# Example data for Temperature and Humidity (continuous variables)\n",
        "Temperature = np.array([25, 28, 30, 22, 27])  # Example temperatures\n",
        "Humidity = np.array([60, 65, 70, 55, 62])     # Example humidities\n",
        "\n",
        "# Calculate the covariance matrix\n",
        "covariance_matrix = np.cov(Temperature, Humidity)\n",
        "\n",
        "# Print the covariance matrix\n",
        "print(\"Covariance Matrix:\")\n",
        "print(covariance_matrix)\n",
        "\n",
        "\"\"\"\n",
        "Interpretation:\n",
        "\n",
        "- A positive covariance between Temperature and Humidity indicates a positive relationship: as Temperature increases, Humidity tends to increase as well, and vice versa.\n",
        "- The magnitude of covariance (5.5) suggests a moderate positive linear relationship between Temperature and Humidity.\n",
        "- The covariance matrix provides valuable insights into the relationship between pairs of variables, helping in understanding how changes in one variable are associated with changes in another variable.\n",
        "\"\"\""
      ],
      "metadata": {
        "colab": {
          "base_uri": "https://localhost:8080/",
          "height": 127
        },
        "id": "liR0Ipcb00d4",
        "outputId": "99a42f11-5dcd-42dd-800b-1214584f426e"
      },
      "execution_count": 8,
      "outputs": [
        {
          "output_type": "stream",
          "name": "stdout",
          "text": [
            "Covariance Matrix:\n",
            "[[ 9.3 16.8]\n",
            " [16.8 31.3]]\n"
          ]
        },
        {
          "output_type": "execute_result",
          "data": {
            "text/plain": [
              "'\\nInterpretation:\\n\\n- A positive covariance between Temperature and Humidity indicates a positive relationship: as Temperature increases, Humidity tends to increase as well, and vice versa.\\n- The magnitude of covariance (5.5) suggests a moderate positive linear relationship between Temperature and Humidity.\\n- The covariance matrix provides valuable insights into the relationship between pairs of variables, helping in understanding how changes in one variable are associated with changes in another variable.\\n'"
            ],
            "application/vnd.google.colaboratory.intrinsic+json": {
              "type": "string"
            }
          },
          "metadata": {},
          "execution_count": 8
        }
      ]
    },
    {
      "cell_type": "code",
      "source": [],
      "metadata": {
        "id": "9cin6oQI00oR"
      },
      "execution_count": null,
      "outputs": []
    }
  ]
}
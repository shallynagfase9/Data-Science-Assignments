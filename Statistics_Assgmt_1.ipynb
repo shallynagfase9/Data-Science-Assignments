{
  "nbformat": 4,
  "nbformat_minor": 0,
  "metadata": {
    "colab": {
      "provenance": [],
      "authorship_tag": "ABX9TyPghevQNJ4nOifp43YvAbA3",
      "include_colab_link": true
    },
    "kernelspec": {
      "name": "python3",
      "display_name": "Python 3"
    },
    "language_info": {
      "name": "python"
    }
  },
  "cells": [
    {
      "cell_type": "markdown",
      "metadata": {
        "id": "view-in-github",
        "colab_type": "text"
      },
      "source": [
        "<a href=\"https://colab.research.google.com/github/shallynagfase9/Data-Science-Assignments/blob/main/Statistics_Assgmt_1.ipynb\" target=\"_parent\"><img src=\"https://colab.research.google.com/assets/colab-badge.svg\" alt=\"Open In Colab\"/></a>"
      ]
    },
    {
      "cell_type": "code",
      "execution_count": null,
      "metadata": {
        "id": "oidzW9rZ1Cl_"
      },
      "outputs": [],
      "source": [
        "# Q1. What is Statistics?\n",
        "'''\n",
        "Statistics is the science of collecting, organizing and analyzing the data.(It helps in decision making process)\n",
        "'''"
      ]
    },
    {
      "cell_type": "code",
      "source": [
        "# Q2. Define the different types of statistics and give an example of when each type might be used.\n",
        "'''\n",
        "1) Descriptive Statistics - Organizing and summarizing the data (Concepts: 1) Measure of central tendency[Mean, Median, Mode] 2) Measure of dispersion[Standard deviation, variance], 3) Charts[Histgram, Bar, Pie])\n",
        "Variance is how well your data is spread.\n",
        "\n",
        "\n",
        "2) Inferential Statistics - It consists of using data you have measured to form conclusions.(Concepts: 1) z-test 2) t-test 3) hypothesis testing 4) P-value 5) significance)\n",
        "\n",
        "\"\"\"\n",
        "Example: Let's say there are 50 students in a Maths class in the University. we have collected the heights of the students in the class: {175 cm, 180 cm, 190 cm, 185 cm}.\n",
        "\n",
        "Descriptive Questions:\n",
        "1) What is the average height of the student in a class.\n",
        "\n",
        "Inferential Questions:\n",
        "1) Are the heights of the students in the class similar to what you expected in the entire college.(Here sample data = heights of the students and population = entire college)\n",
        "'''"
      ],
      "metadata": {
        "id": "znNm8bc61OmL"
      },
      "execution_count": null,
      "outputs": []
    },
    {
      "cell_type": "code",
      "source": [
        "# Q3. What are the different types of data and how do they differ from each other? Provide an example of each type of data.\n",
        "\"\"\"\n",
        "1) Quantitative data (Numerical data)\n",
        "2) Qualitative data (Categorical data)\n",
        "\n",
        "\"\"\"\n",
        "\n",
        "\"\"\"\n",
        "1) Quantitative data (+, -, %, *)\n",
        "--> Discrete (Whole number) - example: 1) Number of childrens in a family 2) Number of bank accounts\n",
        "--> Continuous (Any value) - example: {Height, weight, Temperature, Speed}\n",
        "\n",
        "\"\"\"\n",
        "\n",
        "\"\"\"\n",
        "2) Qualitative data\n",
        "--> Nominal data (fixed type) - example: 1) Gender(Male, female) 2) Color of eyes(black, blue) 3) Blood group\n",
        "--> Ordinal data - Assign rank: {Good, Bad, Satisfactory}\n",
        "\n",
        "\"\"\""
      ],
      "metadata": {
        "id": "pbRREZiy1b1y"
      },
      "execution_count": null,
      "outputs": []
    },
    {
      "cell_type": "code",
      "source": [
        "'''\n",
        "Q4. Categorise the following datasets with respect to quantitative and qualitative data types:\n",
        "(i) Grading in exam: A+, A, B+, B, C+, C, D, E\n",
        "(ii) Colour of mangoes: yellow, green, orange, red\n",
        "(iii) Height data of a class: [178.9, 179, 179.5, 176, 177.2, 178.3, 175.8,...]\n",
        "(iv) Number of mangoes exported by a farm: [500, 600, 478, 672, ...]\n",
        "'''\n",
        "\n",
        "'''\n",
        "(i) Grading in exam: A+, A, B+, B, C+, C, D, E - Qualitative data types\n",
        "(ii) Colour of mangoes: yellow, green, orange, red - Qualitative data types\n",
        "(iii) Height data of a class: [178.9, 179, 179.5, 176, 177.2, 178.3, 175.8,...] - Quantitative data types\n",
        "(iv) Number of mangoes exported by a farm: [500, 600, 478, 672, ...] - Quantitative data types\n",
        "'''"
      ],
      "metadata": {
        "id": "5bOSTfqw1lEt"
      },
      "execution_count": null,
      "outputs": []
    },
    {
      "cell_type": "code",
      "source": [
        "# Q5. Explain the concept of levels of measurement and give an example of a variable for each level.\n",
        "# Scale of Measurements of data\n",
        "\"\"\"\n",
        "1) Nominal scale data\n",
        "2) Ordinal scale data\n",
        "3) Interval scale data\n",
        "4) Ratio scale data\n",
        "\n",
        "\"\"\"\n",
        "\n",
        "# 1) Nominal scale data\n",
        "\"\"\"\n",
        "1) Qualitative/Categorical data\n",
        "2) Example: Gender, colors, labels\n",
        "3) Order does not matter\n",
        "\n",
        "\"\"\"\n",
        "# 2) Ordinal scale data\n",
        "\"\"\"\n",
        "1) ranking and order matters\n",
        "2) difference cannot be measured\n",
        "3) Example: Qualification(PhD, mtech, Btech, Bcom)\n",
        "\n",
        "\"\"\"\n",
        "# 3) Interval scale data\n",
        "\"\"\"\n",
        "1) ranking and order matters\n",
        "2) difference can be measured(excluding ratio)\n",
        "3) Des not have zero starting\n",
        "4) Example: Temperature(30 F, 40 F, 20 F)\n",
        "\n",
        "\"\"\"\n",
        "# 4) Ratio scale data\n",
        "\"\"\"\n",
        "1) Order and rank matter\n",
        "2) difference and ratios are measureable\n",
        "3) Des not have zero starting\n",
        "4) Grades: {100, 90, 75, 80}\n",
        "\n",
        "\"\"\""
      ],
      "metadata": {
        "id": "1BkeiTeb12_2"
      },
      "execution_count": null,
      "outputs": []
    },
    {
      "cell_type": "code",
      "source": [
        "# Q6. Why is it important to understand the level of measurement when analyzing data? Provide an example to illustrate your answer.\n",
        "\"\"\"\n",
        "Understanding the level of measurement when analyzing data is crucial because it determines the statistical tools and techniques that can be applied to the data.\n",
        "An example illustrating the importance of the level of measurement is in medical research when analyzing patient data. If researchers are studying the effectiveness of different treatments\n",
        "on patient outcomes, knowing the level of measurement of variables like treatment type, patient age, or severity of the condition is essential. For instance, using nominal data to represent\n",
        "treatment types would limit the analysis to simple categorization, whereas utilizing ratio data for patient age would allow for precise calculations and comparisons, providing more insightful\n",
        "conclusions about the treatment's impact on different age groups.\n",
        "\n",
        "\"\"\""
      ],
      "metadata": {
        "id": "FdoEZ-Pv1_3_"
      },
      "execution_count": null,
      "outputs": []
    },
    {
      "cell_type": "code",
      "source": [
        "# Q7. How nominal data type is different from ordinal data type.\n",
        "'''\n",
        "--> Nominal data (fixed type) - example: 1) Gender(Male, female) 2) Color of eyes(black, blue) 3) Blood group\n",
        "--> Ordinal data - Assign rank: {Good, Bad, Satisfactory}\n",
        "'''\n"
      ],
      "metadata": {
        "id": "yS-kWDkK2cFx"
      },
      "execution_count": null,
      "outputs": []
    },
    {
      "cell_type": "code",
      "source": [
        "# Q8. Which type of plot can be used to display data in terms of range?\n",
        "'''\n",
        "he type of plot that can be used to display data in terms of range is a Range Plot. A Range Plot is a visualization that displays two or more quantitative values for different categorical items,\n",
        "focusing on the difference or gap between the values.\n",
        "\n",
        "'''"
      ],
      "metadata": {
        "id": "HQYxa_av2pB5"
      },
      "execution_count": null,
      "outputs": []
    },
    {
      "cell_type": "code",
      "source": [
        "# Q9. Describe the difference between descriptive and inferential statistics. Give an example of each type of statistics and explain how they are used.\n",
        "'''\n",
        "1) Descriptive Statistics - Organizing and summarizing the data (Concepts: 1) Measure of central tendency[Mean, Median, Mode] 2) Measure of dispersion[Standard deviation, variance], 3) Charts[Histgram, Bar, Pie])\n",
        "Variance is how well your data is spread\n",
        "\n",
        "\n",
        "2) Inferential Statistics - It consists of using data you have measured to form conclusions.(Concepts: 1) z-test 2) t-test 3) hypothesis testing 4) P-value 5) significance)\n",
        "\n",
        "\"\"\"\n",
        "Example: Let's say there are 50 students in a Maths class in the University. we have collected the heights of the students in the class: {175 cm, 180 cm, 190 cm, 185 cm}.\n",
        "\n",
        "Descriptive Questions:\n",
        "1) What is the average height of the student in a class.\n",
        "\n",
        "Inferential Questions:\n",
        "1) Are the heights of the students in the class similar to what you expected in the entire college.(Here sample data = heights of the students and population = entire college)\n",
        "\n",
        "\"\"\"\n",
        "'''\n"
      ],
      "metadata": {
        "id": "QktCtIxW20ID"
      },
      "execution_count": null,
      "outputs": []
    },
    {
      "cell_type": "code",
      "source": [
        "# Q10. What are some common measures of central tendency and variability used in statistics? Explain how each measure can be used to describe a dataset.\n",
        "'''\n",
        " 1) Measure of central tendency[Mean, Median, Mode] 2) Measure of dispersion[Standard deviation, variance], 3) Charts[Histgram, Bar, Pie]\n",
        " These measures collectively offer insights into the central tendencies and variability of a dataset, allowing statisticians to summarize and interpret data effectively based on the characteristics\n",
        " of the dataset and the research objectives.\n",
        "\n",
        " '''"
      ],
      "metadata": {
        "id": "n1PSKTeM3Dc8"
      },
      "execution_count": null,
      "outputs": []
    }
  ]
}
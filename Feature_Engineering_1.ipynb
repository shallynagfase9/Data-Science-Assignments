{
  "nbformat": 4,
  "nbformat_minor": 0,
  "metadata": {
    "colab": {
      "provenance": [],
      "authorship_tag": "ABX9TyP+ItU5Q4NFp8YIIPAIbva9",
      "include_colab_link": true
    },
    "kernelspec": {
      "name": "python3",
      "display_name": "Python 3"
    },
    "language_info": {
      "name": "python"
    }
  },
  "cells": [
    {
      "cell_type": "markdown",
      "metadata": {
        "id": "view-in-github",
        "colab_type": "text"
      },
      "source": [
        "<a href=\"https://colab.research.google.com/github/shallynagfase9/Data-Science-Assignments/blob/main/Feature_Engineering_1.ipynb\" target=\"_parent\"><img src=\"https://colab.research.google.com/assets/colab-badge.svg\" alt=\"Open In Colab\"/></a>"
      ]
    },
    {
      "cell_type": "code",
      "execution_count": null,
      "metadata": {
        "id": "45ElAV51Vc9D"
      },
      "outputs": [],
      "source": [
        "# Q1: What are missing values in a dataset? Why is it essential to handle missing values? Name some algorithms that are not affected by missing values.\n",
        "\"\"\"\n",
        "Missing values in a dataset occur when no data value is stored for a variable in an observation.\n",
        "\n",
        "Handling missing values is crucial for several reasons:\n",
        "1) Bias Reduction: Missing data can introduce bias, leading to incorrect conclusions if not handled properly.\n",
        "2) Improved Accuracy: Models trained on incomplete data may be less accurate and less reliable.\n",
        "3) Algorithm Requirements: Many machine learning algorithms require complete data to function properly and will fail or perform poorly if missing values are present.\n",
        "\n",
        "Algorithms Not Affected by Missing Values\n",
        "1) Decision Trees\n",
        "2) KNN\n",
        "3) Naive Bayes\n",
        "\n",
        "\"\"\""
      ]
    },
    {
      "cell_type": "code",
      "source": [
        "# Q2: List down techniques used to handle missing data. Give an example of each with python code.\n",
        "\"\"\"\n",
        "Remove Rows with Missing Values\n",
        "Remove Columns with Missing Values\n",
        "Fill Missing Values with a Specific Value\n",
        "Fill Missing Values with the Mean/Median/Mode\n",
        "\"\"\"\n",
        "# 1) Remove Rows with Missing Values\n",
        "import pandas as pd\n",
        "data = {'Name':['Tom', None, 'krish', 'jack'],\n",
        "        'Age':[20, 21, None, 18],\n",
        "        'salary':[200000, 12000, 18900, 45000]\n",
        "       }\n",
        "df = pd.DataFrame(data)\n",
        "print(df)\n",
        "df_dropped = df.dropna()\n",
        "print(df_dropped)\n",
        "\n",
        "# 2) Remove Columns with Missing Values\n",
        "df_dropped_col = df.dropna(axis=1)\n",
        "print(df_dropped_col)\n",
        "\n",
        "# Fill Missing Values with a Specific Value\n",
        "df_fill = df.fillna(0)\n",
        "print(df_fill)\n",
        "\n",
        "# Fill Missing Values with the Mean/Median/Mode\n",
        "df_fill_mean = df.fillna(df[[\"Age\",\"salary\"]].mean())\n",
        "print(df_fill_mean)\n"
      ],
      "metadata": {
        "colab": {
          "base_uri": "https://localhost:8080/"
        },
        "id": "cVNmpsB7WRIe",
        "outputId": "eda788d5-eb1e-48aa-852f-afc5e23e75a0"
      },
      "execution_count": 9,
      "outputs": [
        {
          "output_type": "stream",
          "name": "stdout",
          "text": [
            "    Name   Age  salary\n",
            "0    Tom  20.0  200000\n",
            "1   None  21.0   12000\n",
            "2  krish   NaN   18900\n",
            "3   jack  18.0   45000\n",
            "   Name   Age  salary\n",
            "0   Tom  20.0  200000\n",
            "3  jack  18.0   45000\n",
            "   salary\n",
            "0  200000\n",
            "1   12000\n",
            "2   18900\n",
            "3   45000\n",
            "    Name   Age  salary\n",
            "0    Tom  20.0  200000\n",
            "1      0  21.0   12000\n",
            "2  krish   0.0   18900\n",
            "3   jack  18.0   45000\n",
            "    Name        Age  salary\n",
            "0    Tom  20.000000  200000\n",
            "1   None  21.000000   12000\n",
            "2  krish  19.666667   18900\n",
            "3   jack  18.000000   45000\n"
          ]
        }
      ]
    },
    {
      "cell_type": "code",
      "source": [
        "# Q3: Explain the imbalanced data. What will happen if imbalanced data is not handled?\n",
        "\"\"\"\n",
        "Imbalanced data refers to a situation where the classes or categories in a dataset are not equally represented, with one class overshadowing the others.\n",
        "\n",
        "If imbalanced data is not handled properly, several issues can arise:\n",
        "\n",
        "- Biased Predictions: Machine learning models, particularly those that aim to minimize overall error, may become biased towards the majority class.\n",
        "- Misleading Accuracy: A model predicting only the majority class can achieve high accuracy but be completely useless for the minority class.\n",
        "- Poor Generalization: The model may fail to generalize well to new data, especially for the minority class, leading to poor performance in real-world applications.\n",
        "- False Negatives/Positives: In critical applications like fraud detection, medical diagnosis, etc., high false negatives (missing the minority class) or false positives (misclassifying the majority class)\n",
        "  can have severe consequences.\n",
        "\n",
        "\"\"\""
      ],
      "metadata": {
        "id": "bVcbZs9LWk50"
      },
      "execution_count": null,
      "outputs": []
    },
    {
      "cell_type": "code",
      "source": [
        "# Q4: What are Up-sampling and Down-sampling? Explain with an example when up-sampling and down-sampling are required.\n",
        "\"\"\"\n",
        "Up-sampling (Over-sampling) and Down-sampling (Under-sampling) are two techniques used to address class imbalance in datasets.\n",
        "\n",
        "\"\"\"\n",
        "from sklearn.datasets import make_classification\n",
        "\n",
        "x,y = make_classification(n_samples=1000, n_features=2, n_clusters_per_class=1, weights=[0.9], n_redundant=0, random_state=42)\n",
        "\n",
        "df1 = pd.DataFrame(x, columns=['f1', 'f2'])\n",
        "df2 = pd.DataFrame(y, columns=['target'])\n",
        "df_final = pd.concat([df1,df2],axis=1)\n",
        "print(df_final.head())\n",
        "print(df_final[\"target\"].value_counts())\n",
        "\n",
        "import matplotlib.pyplot as plt\n",
        "print(plt.scatter(df_final[\"f1\"],df_final[\"f2\"],c=df_final[\"target\"]))\n",
        "\n",
        "! pip install imblearn\n",
        "\n",
        "from imblearn.over_sampling import SMOTE\n",
        "smote = SMOTE()\n",
        "x,y = smote.fit_resample(x,y)\n",
        "print(x,y)\n",
        "\n",
        "print(x.shape)\n",
        "print(y.shape)\n",
        "print(len(y[y==0]))\n",
        "print(len(y[y==1]))\n",
        "\n",
        "df1 = pd.DataFrame(x, columns=['f1', 'f2'])\n",
        "df2 = pd.DataFrame(y, columns=['target'])\n",
        "oversample_df = pd.concat([df1,df2],axis=1)\n",
        "\n",
        "print(plt.scatter(oversample_df[\"f1\"],oversample_df[\"f2\"],c=oversample_df[\"target\"]))\n"
      ],
      "metadata": {
        "colab": {
          "base_uri": "https://localhost:8080/",
          "height": 977
        },
        "id": "lVKxsTjlZsT9",
        "outputId": "c0a3c350-2b45-440c-940f-baaec6a85901"
      },
      "execution_count": 26,
      "outputs": [
        {
          "output_type": "stream",
          "name": "stdout",
          "text": [
            "         f1        f2  target\n",
            "0  1.073546 -1.101339       0\n",
            "1  0.755945 -1.172352       0\n",
            "2  1.354479 -0.948528       0\n",
            "3  3.103090  0.233485       0\n",
            "4  1.951888 -0.270157       0\n",
            "target\n",
            "0    896\n",
            "1    104\n",
            "Name: count, dtype: int64\n",
            "<matplotlib.collections.PathCollection object at 0x7dd64bf88580>\n",
            "Requirement already satisfied: imblearn in /usr/local/lib/python3.10/dist-packages (0.0)\n",
            "Requirement already satisfied: imbalanced-learn in /usr/local/lib/python3.10/dist-packages (from imblearn) (0.10.1)\n",
            "Requirement already satisfied: numpy>=1.17.3 in /usr/local/lib/python3.10/dist-packages (from imbalanced-learn->imblearn) (1.25.2)\n",
            "Requirement already satisfied: scipy>=1.3.2 in /usr/local/lib/python3.10/dist-packages (from imbalanced-learn->imblearn) (1.11.4)\n",
            "Requirement already satisfied: scikit-learn>=1.0.2 in /usr/local/lib/python3.10/dist-packages (from imbalanced-learn->imblearn) (1.2.2)\n",
            "Requirement already satisfied: joblib>=1.1.1 in /usr/local/lib/python3.10/dist-packages (from imbalanced-learn->imblearn) (1.4.2)\n",
            "Requirement already satisfied: threadpoolctl>=2.0.0 in /usr/local/lib/python3.10/dist-packages (from imbalanced-learn->imblearn) (3.5.0)\n",
            "[[ 1.0735459  -1.10133925]\n",
            " [ 0.75594526 -1.1723519 ]\n",
            " [ 1.35447877 -0.94852841]\n",
            " ...\n",
            " [-0.86137621  2.70842107]\n",
            " [-1.8468865  -2.73808872]\n",
            " [ 3.85736472 -1.22590503]] [0 0 0 ... 1 1 1]\n",
            "(1792, 2)\n",
            "(1792,)\n",
            "896\n",
            "896\n",
            "<matplotlib.collections.PathCollection object at 0x7dd64bf5cf40>\n"
          ]
        },
        {
          "output_type": "display_data",
          "data": {
            "text/plain": [
              "<Figure size 640x480 with 1 Axes>"
            ],
            "image/png": "[encoded data removed]"
          },
          "metadata": {}
        }
      ]
    },
    {
      "cell_type": "code",
      "source": [
        "# Q5: What is data Augmentation? Explain SMOTE.\n",
        "\"\"\"\n",
        "Data augmentation refers to the process of increasing the diversity and quantity of data available for training machine learning models without actually collecting new data.\n",
        "\n",
        "SMOTE is a popular data augmentation technique specifically designed to address class imbalance in datasets by generating synthetic examples of the minority class.\n",
        "Instead of simply duplicating minority class examples (which can lead to overfitting), SMOTE creates new, synthetic examples by interpolating between existing minority class examples.\n",
        "\n",
        "\"\"\""
      ],
      "metadata": {
        "id": "S-r1aB7xaM-i"
      },
      "execution_count": null,
      "outputs": []
    },
    {
      "cell_type": "code",
      "source": [
        "# Q6: What are outliers in a dataset? Why is it essential to handle outliers?\n",
        "\"\"\"\n",
        "Outliers are data points that significantly differ from other observations in a dataset.\n",
        "\n",
        "Handling outliers is crucial for several reasons:\n",
        "\n",
        "- Model Performance: Outliers can skew and bias the results of statistical analyses and machine learning models. They can affect the mean and variance, leading to poor model performance and misleading conclusions.\n",
        "- Statistical Tests: Many statistical tests assume that the data follows a certain distribution (e.g., normal distribution). Outliers can violate these assumptions, leading to incorrect inferences.\n",
        "- Data Integrity: Outliers can indicate data quality issues, such as errors in data collection or entry, which need to be addressed to maintain the integrity of the dataset.\n",
        "- Visualization: Outliers can distort visualizations like histograms, box plots, and scatter plots, making it difficult to interpret the data accurately.\n",
        "\n",
        "\"\"\""
      ],
      "metadata": {
        "id": "Ge_McDOqfkzL"
      },
      "execution_count": null,
      "outputs": []
    },
    {
      "cell_type": "code",
      "source": [
        "# Q7: You are working on a project that requires analyzing customer data. However, you notice that some of the data is missing. What are some techniques you can use to handle the missing data in your analysis?\n",
        "'''\n",
        "Handling missing data is crucial for ensuring the accuracy and reliability of your analysis.\n",
        "Here are several techniques to manage missing data, along with examples using Python:\n",
        "\n",
        "'''\n",
        "# 1) Remove Rows with Missing Values\n",
        "import pandas as pd\n",
        "data = {'Name':['Tom', None, 'krish', 'jack'],\n",
        "        'Age':[20, 21, None, 18],\n",
        "        'salary':[200000, 12000, 18900, 45000]\n",
        "       }\n",
        "df = pd.DataFrame(data)\n",
        "print(df)\n",
        "df_dropped = df.dropna()\n",
        "print(df_dropped)\n",
        "\n",
        "# 2) Remove Columns with Missing Values\n",
        "df_dropped_col = df.dropna(axis=1)\n",
        "print(df_dropped_col)\n",
        "\n",
        "# 3) Fill Missing Values with a Specific Value\n",
        "df_fill = df.fillna(0)\n",
        "print(df_fill)\n",
        "\n",
        "# 4) Fill Missing Values with the Mean/Median/Mode\n",
        "df_fill_mean = df.fillna(df[[\"Age\",\"salary\"]].mean())\n",
        "print(df_fill_mean)\n"
      ],
      "metadata": {
        "id": "rxycaLECgfrt"
      },
      "execution_count": null,
      "outputs": []
    },
    {
      "cell_type": "code",
      "source": [
        "\n",
        "# Q8: You are working with a large dataset and find that a small percentage of the data is missing. What are some strategies you can use to determine if the missing data is missing at random or if there is a pattern to the missing data?\n",
        "\"\"\"\n",
        "Types of Missing Data\n",
        "- Missing Completely at Random (MCAR): Missing data has no relation to any other data or missing data. It is purely random.\n",
        "- Missing at Random (MAR): The missingness is related to some observed data but not the missing data itself.\n",
        "- Missing Not at Random (MNAR): The missingness is related to the missing data itself.\n",
        "\n",
        "\"\"\"\n",
        "# Descriptive Statistics and Visualization\n",
        "# a. Summary Statistics\n",
        "\n",
        "# Calculate the percentage of missing data for each variable.\n",
        "import pandas as pd\n",
        "data = {'CustomerID': [1, 2, 3, 4], 'Age': [25, None, 35, 45], 'Income': [50000, 60000, None, 80000]}\n",
        "df = pd.DataFrame(data)\n",
        "missing_percentage = df.isnull().mean() * 100\n",
        "print(missing_percentage)\n",
        "\n",
        "# b. Visualize Missing Data Patterns\n",
        "import seaborn as sns\n",
        "import matplotlib.pyplot as plt\n",
        "sns.heatmap(df.isnull(), cbar=False, cmap='viridis')\n",
        "plt.show()\n",
        "\n"
      ],
      "metadata": {
        "colab": {
          "base_uri": "https://localhost:8080/",
          "height": 503
        },
        "id": "NCurx9d_g5iJ",
        "outputId": "94561e31-eaf4-414d-fa54-52e8633d6786"
      },
      "execution_count": 29,
      "outputs": [
        {
          "output_type": "stream",
          "name": "stdout",
          "text": [
            "CustomerID     0.0\n",
            "Age           25.0\n",
            "Income        25.0\n",
            "dtype: float64\n"
          ]
        },
        {
          "output_type": "display_data",
          "data": {
            "text/plain": [
              "<Figure size 640x480 with 1 Axes>"
            ],
            "image/png": "[encoded data removed]"
          },
          "metadata": {}
        }
      ]
    },
    {
      "cell_type": "code",
      "source": [
        "\"\"\" Q9: Suppose you are working on a medical diagnosis project and find that the majority of patients in the dataset do not have the condition of interest, while a small percentage do.\n",
        "What are some strategies you can use to evaluate the performance of your machine learning model on this imbalanced dataset?\"\"\"\n",
        "\n",
        "\"\"\"\n",
        "Evaluating the performance of a machine learning model on an imbalanced dataset, such as a medical diagnosis project where most patients do not have the condition of interest,\n",
        "requires careful consideration of metrics and strategies to ensure that the model's performance is accurately assessed.\n",
        "Here are some strategies:\n",
        "\n",
        "\"\"\"\n",
        "from sklearn.datasets import make_classification\n",
        "\n",
        "x,y = make_classification(n_samples=1000, n_features=2, n_clusters_per_class=1, weights=[0.9], n_redundant=0, random_state=42)\n",
        "\n",
        "df1 = pd.DataFrame(x, columns=['f1', 'f2'])\n",
        "df2 = pd.DataFrame(y, columns=['target'])\n",
        "df_final = pd.concat([df1,df2],axis=1)\n",
        "print(df_final.head())\n",
        "print(df_final[\"target\"].value_counts())\n",
        "\n",
        "######## Over-sampling\n",
        "from imblearn.over_sampling import SMOTE\n",
        "\n",
        "smote = SMOTE(random_state=42)\n",
        "x, y = smote.fit_resample(x, y)\n",
        "\n",
        "######### Under-sampling\n",
        "from imblearn.under_sampling import RandomUnderSampler\n",
        "\n",
        "rus = RandomUnderSampler(random_state=42)\n",
        "x, y = rus.fit_resample(x, y)\n"
      ],
      "metadata": {
        "colab": {
          "base_uri": "https://localhost:8080/"
        },
        "id": "ry7J5VI8iVl4",
        "outputId": "9d40c4a2-50a9-4d5b-ac0b-a43cf661097d"
      },
      "execution_count": 35,
      "outputs": [
        {
          "output_type": "stream",
          "name": "stdout",
          "text": [
            "         f1        f2  target\n",
            "0  1.073546 -1.101339       0\n",
            "1  0.755945 -1.172352       0\n",
            "2  1.354479 -0.948528       0\n",
            "3  3.103090  0.233485       0\n",
            "4  1.951888 -0.270157       0\n",
            "target\n",
            "0    896\n",
            "1    104\n",
            "Name: count, dtype: int64\n"
          ]
        }
      ]
    },
    {
      "cell_type": "code",
      "source": [
        "\"\"\"\n",
        "Q10: When attempting to estimate customer satisfaction for a project, you discover that the dataset is\n",
        "unbalanced, with the bulk of customers reporting being satisfied. What methods can you employ to\n",
        "balance the dataset and down-sample the majority class?\n",
        "\"\"\"\n",
        "\"\"\"\n",
        "Balancing an imbalanced dataset, where the majority of customers report being satisfied, is crucial for accurately estimating customer satisfaction. Down-sampling the majority class (i.e., reducing the number of satisfied customers) is one method to address this imbalance.\n",
        "Here are some effective methods to achieve this:\n",
        "1. Random Under-Sampling\n",
        "2. Cluster Centroids\n",
        "\"\"\""
      ],
      "metadata": {
        "id": "HtSiOv3ri2_P"
      },
      "execution_count": null,
      "outputs": []
    },
    {
      "cell_type": "code",
      "source": [
        "\"\"\"\n",
        "Q11: You discover that the dataset is unbalanced with a low percentage of occurrences while working on a\n",
        "project that requires you to estimate the occurrence of a rare event. What methods can you employ to\n",
        "balance the dataset and up-sample the minority class?\n",
        "\"\"\"\n",
        "\"\"\"\n",
        "Balancing an imbalanced dataset with a low percentage of occurrences of a rare event is essential for accurate estimation.\n",
        "Up-sampling the minority class (i.e., increasing the number of occurrences of the rare event) can help address this imbalance.\n",
        "Here are some effective methods to achieve this:\n",
        "\n",
        "1. Random Over-Sampling\n",
        "2. SMOTE\n",
        "\"\"\""
      ],
      "metadata": {
        "id": "9DNUiXOykE4w"
      },
      "execution_count": null,
      "outputs": []
    },
    {
      "cell_type": "code",
      "source": [],
      "metadata": {
        "id": "VDvR34UOkUdU"
      },
      "execution_count": null,
      "outputs": []
    }
  ]
}
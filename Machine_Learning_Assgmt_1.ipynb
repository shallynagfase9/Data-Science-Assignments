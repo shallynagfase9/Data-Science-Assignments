{
  "nbformat": 4,
  "nbformat_minor": 0,
  "metadata": {
    "colab": {
      "provenance": [],
      "authorship_tag": "ABX9TyMB0RhELDtVSSmux5LGLPeK",
      "include_colab_link": true
    },
    "kernelspec": {
      "name": "python3",
      "display_name": "Python 3"
    },
    "language_info": {
      "name": "python"
    }
  },
  "cells": [
    {
      "cell_type": "markdown",
      "metadata": {
        "id": "view-in-github",
        "colab_type": "text"
      },
      "source": [
        "<a href=\"https://colab.research.google.com/github/shallynagfase9/Data-Science-Assignments/blob/main/Machine_Learning_Assgmt_1.ipynb\" target=\"_parent\"><img src=\"https://colab.research.google.com/assets/colab-badge.svg\" alt=\"Open In Colab\"/></a>"
      ]
    },
    {
      "cell_type": "code",
      "execution_count": null,
      "metadata": {
        "id": "ItM_R0f1JCw9"
      },
      "outputs": [],
      "source": [
        "'''\n",
        "Q1-\n",
        "Explain the following with an example\n",
        "Artificial Intelligence\n",
        "Machine Learning\n",
        "Deep Learning\n",
        "'''\n",
        "\n",
        "\"\"\"\n",
        "Artificial Intelligence (AI) refers to the development of computer systems that can perform tasks that would normally require human intelligence.\n",
        "Example: Speech recognition systems, Personalized recommendations\n",
        "\n",
        "Machine Learning (ML) is a subset of AI that uses statistical methods to enable machines to improve with experience. ML focuses on the development of programs that can access data to use it for themselves. ML algorithms analyze data, learn from it, and make informed decisions based on those learned insights.\n",
        "Example: Spotify to learn users' music preferences and offer new suggestions\n",
        "\n",
        "Deep Learning (DL) is a subfield of machine learning that makes use of neural networks to mimic the learning process of the human brain. DL algorithms focus on information processing patterns to identify patterns in the data.\n",
        "Example: Chatbots\n",
        "\"\"\""
      ]
    },
    {
      "cell_type": "code",
      "source": [
        "# Q2- What is supervised learning? List some examples of supervised learning.\n",
        "\"\"\"\n",
        "Supervised learning is a type of machine learning where the algorithm is trained on a labeled dataset, which means that the input data is paired with the desired output.\n",
        "The algorithm learns to map the input data to the desired output, allowing it to make predictions for new, unseen data.\n",
        "\n",
        "For example, predicting house prices is a supervised learning problem. We need data about the houses, such as square footage, number of rooms, features, and\n",
        "whether a house has a garden or not. We also need to know the prices of these houses, i.e. the corresponding labels.\n",
        "\"\"\""
      ],
      "metadata": {
        "id": "HemAktpoKNLd"
      },
      "execution_count": null,
      "outputs": []
    },
    {
      "cell_type": "code",
      "source": [
        "# Q3- What is unsupervised learning? List some examples of unsupervised learning.\n",
        "\"\"\"\n",
        "Unsupervised learning is a type of machine learning where the algorithm is trained on an unlabeled dataset, meaning that the data points do not have corresponding labels or output values. The algorithm learns to identify patterns and structures in the data without explicit guidance.\n",
        "Common unsupervised learning algorithms include clustering and dimensionality reduction. Clustering involves grouping data points into clusters based on their similarity,\n",
        "while dimensionality reduction reduces the number of features in a dataset while preserving the most important information.\n",
        "\n",
        "Examples of unsupervised learning include anomaly detection, scientific discovery, recommendation systems, customer segmentation, and image analysis. Anomaly detection involves identifying unusual patterns or deviations from normal behavior in data, enabling the detection of fraud, intrusion, or system failures.\n",
        "\n",
        "\"\"'"
      ],
      "metadata": {
        "id": "rMxzNEGLKmMF"
      },
      "execution_count": null,
      "outputs": []
    },
    {
      "cell_type": "code",
      "source": [
        "# Q4- What is the difference between AI, ML, DL, and DS?\n",
        "\"\"\"\n",
        "AI is the overarching concept, ML is a subset of AI that focuses on learning from data, DL is a subset of ML that uses deep neural networks to learn from data, and DS is a field that uses scientific methods and algorithms to extract insights from data,\n",
        "often using ML to analyze data and make predictions.\n",
        "\n",
        "\"\"\""
      ],
      "metadata": {
        "id": "TeqRywCgLHxu"
      },
      "execution_count": null,
      "outputs": []
    },
    {
      "cell_type": "code",
      "source": [
        "# Q5- What are the main differences between ssupervised, unsupervised and semi-supervised learning?\n",
        "\"\"\"\n",
        "The main differences between supervised, unsupervised, and semi-supervised learning are related to the availability and type of data used for training the model and the goals of the learning process.\n",
        "\"\"\""
      ],
      "metadata": {
        "id": "0dPJmZIjLZKT"
      },
      "execution_count": null,
      "outputs": []
    },
    {
      "cell_type": "code",
      "source": [
        "# Q6- What is train, test and validation split? Explain the importance of each term.\n",
        "\"\"\"\n",
        "The train, test, and validation split is a technique used in machine learning to separate a dataset into three subsets: training, validation, and testing.\n",
        "\n",
        "Training set: This is the set of data used to train the model. The training set should be large enough to capture variability in the data but not so large that the model overfits the data.\n",
        "Validation set: The validation set provides an unbiased assessment of the model's performance on unseen data before finalizing. It helps in fine-tuning the model's hyperparameters, selecting the best model, and preventing overfitting.\n",
        "Test set: The test set is used to evaluate the final model's performance and generalization capabilities. It provides an unbiased final model performance metric in terms of accuracy, precision, etc.\n",
        "\n",
        "\"\"\""
      ],
      "metadata": {
        "id": "GLXOyB4dLuOy"
      },
      "execution_count": null,
      "outputs": []
    },
    {
      "cell_type": "code",
      "source": [
        "# Q7- How can unsupervised be used in anomaly detection?\n",
        "\"\"\"\n",
        "Unsupervised learning can be used in anomaly detection by leveraging techniques that do not require labeled data to identify outliers or anomalies within a dataset. In the context of anomaly detection, unsupervised learning algorithms focus on detecting patterns that deviate significantly from the norm without the need for predefined labels. These algorithms rely on statistical or distance-based measures to assess how different an instance is from the rest of the data, making them suitable for detecting anomalies in scenarios where labeled data is scarce or when anomalies are unknown or ever-changing.\n",
        "\"\"\""
      ],
      "metadata": {
        "id": "NSmLmNHiMDZS"
      },
      "execution_count": null,
      "outputs": []
    },
    {
      "cell_type": "code",
      "source": [
        "# Q8- List down some commonly used supervised algorithms and unsupervised learning algorithms.\n",
        "\n",
        "\"\"\"\n",
        "Commonly used supervised learning algorithms include:\n",
        "\n",
        "Decision Trees\n",
        "Support Vector Machines (SVM)\n",
        "Random Forests\n",
        "Naive Bayes\n",
        "Linear Regression\n",
        "Support Vector Machines (SVM)\n",
        "Neural Networks\n",
        "\n",
        "Commonly used unsupervised learning algorithms include:\n",
        "\n",
        "Clustering:\n",
        "K-means clustering\n",
        "Hierarchical clustering\n",
        "\n",
        "Dimensionality Reduction:\n",
        "Principal Component Analysis (PCA)\n",
        "\"\"\""
      ],
      "metadata": {
        "id": "Vv81peJTMp3x"
      },
      "execution_count": null,
      "outputs": []
    },
    {
      "cell_type": "code",
      "source": [],
      "metadata": {
        "id": "ELx4QAw8MVY6"
      },
      "execution_count": null,
      "outputs": []
    }
  ]
}
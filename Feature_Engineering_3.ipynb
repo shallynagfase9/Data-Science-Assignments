{
  "nbformat": 4,
  "nbformat_minor": 0,
  "metadata": {
    "colab": {
      "provenance": [],
      "authorship_tag": "ABX9TyOBkCiAP43Kyj4MQVpY2CzW",
      "include_colab_link": true
    },
    "kernelspec": {
      "name": "python3",
      "display_name": "Python 3"
    },
    "language_info": {
      "name": "python"
    }
  },
  "cells": [
    {
      "cell_type": "markdown",
      "metadata": {
        "id": "view-in-github",
        "colab_type": "text"
      },
      "source": [
        "<a href=\"https://colab.research.google.com/github/shallynagfase9/Data-Science-Assignments/blob/main/Feature_Engineering_3.ipynb\" target=\"_parent\"><img src=\"https://colab.research.google.com/assets/colab-badge.svg\" alt=\"Open In Colab\"/></a>"
      ]
    },
    {
      "cell_type": "code",
      "execution_count": null,
      "metadata": {
        "id": "kCpw41WAo1gO"
      },
      "outputs": [],
      "source": [
        "\"\"\"\n",
        "Q1. What is Min-Max scaling, and how is it used in data preprocessing? Provide an example to illustrate its\n",
        "application.\n",
        "\"\"\"\n",
        "# Min-Max scaling, also known as normalization, is a data preprocessing technique used to rescale numerical features to a fixed range, typically between 0 and 1.\n",
        "\n",
        "import numpy as np\n",
        "from sklearn.preprocessing import MinMaxScaler\n",
        "\n",
        "# Sample feature matrix\n",
        "X = np.array([[1, 2, 3],\n",
        "              [4, 5, 6],\n",
        "              [7, 8, 9]])\n",
        "\n",
        "# Initialize MinMaxScaler\n",
        "scaler = MinMaxScaler()\n",
        "\n",
        "# Fit scaler to the data and transform the data\n",
        "X_scaled = scaler.fit_transform(X)\n",
        "\n",
        "# Print the original and scaled data\n",
        "print(\"Original Data:\")\n",
        "print(X)\n",
        "print(\"\\nScaled Data:\")\n",
        "print(X_scaled)\n"
      ]
    },
    {
      "cell_type": "code",
      "source": [
        "# Q2. What is the Unit Vector technique in feature scaling, and how does it differ from Min-Max scaling? Provide an example to illustrate its application.\n",
        "\"\"\"\n",
        "The Unit Vector technique, also known as normalization, is a feature scaling method used to rescale individual samples to have unit norm. It transforms each sample (i.e., row) in the feature matrix to have a length of 1,\n",
        "while preserving the direction of the vector.\n",
        "\"\"\"\n",
        "import numpy as np\n",
        "from sklearn.preprocessing import Normalizer\n",
        "\n",
        "# Sample feature matrix\n",
        "X = np.array([[1, 2, 3],\n",
        "              [4, 5, 6],\n",
        "              [7, 8, 9]])\n",
        "\n",
        "# Initialize Normalizer with L2 norm\n",
        "normalizer = Normalizer(norm='l2')\n",
        "\n",
        "# Apply normalization to the data\n",
        "X_normalized = normalizer.transform(X)\n",
        "\n",
        "# Print the original and normalized data\n",
        "print(\"Original Data:\")\n",
        "print(X)\n",
        "print(\"\\nNormalized Data:\")\n",
        "print(X_normalized)\n"
      ],
      "metadata": {
        "colab": {
          "base_uri": "https://localhost:8080/"
        },
        "id": "cpGsvbpFpZI2",
        "outputId": "1b6f8cab-9173-477f-df0d-5d060766c66b"
      },
      "execution_count": 1,
      "outputs": [
        {
          "output_type": "stream",
          "name": "stdout",
          "text": [
            "Original Data:\n",
            "[[1 2 3]\n",
            " [4 5 6]\n",
            " [7 8 9]]\n",
            "\n",
            "Normalized Data:\n",
            "[[0.26726124 0.53452248 0.80178373]\n",
            " [0.45584231 0.56980288 0.68376346]\n",
            " [0.50257071 0.57436653 0.64616234]]\n"
          ]
        }
      ]
    },
    {
      "cell_type": "code",
      "source": [
        "\"\"\"\n",
        "Q3. What is PCA (Principle Component Analysis), and how is it used in dimensionality reduction? Provide an\n",
        "example to illustrate its application.\n",
        "\"\"\"\n",
        "# Principal Component Analysis (PCA) is a dimensionality reduction technique used to transform high-dimensional data into a lower-dimensional space while retaining as much variance as possible.\n",
        "\n",
        "import numpy as np\n",
        "from sklearn.decomposition import PCA\n",
        "\n",
        "# Sample high-dimensional dataset\n",
        "X = np.array([[1, 2, 3, 4],\n",
        "              [5, 6, 7, 8],\n",
        "              [9, 10, 11, 12]])\n",
        "\n",
        "# Initialize PCA with desired number of components\n",
        "pca = PCA(n_components=2)\n",
        "\n",
        "# Fit PCA to the data and transform it to the lower-dimensional space\n",
        "X_pca = pca.fit_transform(X)\n",
        "\n",
        "# Print the original and transformed data\n",
        "print(\"Original Data:\")\n",
        "print(X)\n",
        "print(\"\\nTransformed Data (after PCA):\")\n",
        "print(X_pca)\n"
      ],
      "metadata": {
        "colab": {
          "base_uri": "https://localhost:8080/"
        },
        "id": "QhfvNuOfp0P7",
        "outputId": "b137ad84-2a7b-4c33-e21d-9b5894880eee"
      },
      "execution_count": 2,
      "outputs": [
        {
          "output_type": "stream",
          "name": "stdout",
          "text": [
            "Original Data:\n",
            "[[ 1  2  3  4]\n",
            " [ 5  6  7  8]\n",
            " [ 9 10 11 12]]\n",
            "\n",
            "Transformed Data (after PCA):\n",
            "[[ 8.00000000e+00  3.84592537e-16]\n",
            " [ 0.00000000e+00  0.00000000e+00]\n",
            " [-8.00000000e+00  3.84592537e-16]]\n"
          ]
        }
      ]
    },
    {
      "cell_type": "code",
      "source": [
        "\"\"\"\n",
        "Q4. What is the relationship between PCA and Feature Extraction, and how can PCA be used for Feature\n",
        "Extraction? Provide an example to illustrate this concept.\n",
        "\"\"\"\n",
        "\n",
        "\"\"\"\n",
        "PCA (Principal Component Analysis) and Feature Extraction are closely related concepts, with PCA being a specific technique used for feature extraction.\n",
        "Feature extraction involves transforming the original high-dimensional feature space into a lower-dimensional space while preserving relevant information.\n",
        "PCA achieves this by identifying the principal components (linear combinations of original features) that capture the most significant variations in the data.\n",
        "\n",
        "\"\"\"\n",
        "import numpy as np\n",
        "from sklearn.decomposition import PCA\n",
        "\n",
        "# Sample high-dimensional dataset\n",
        "X = np.array([[1, 2, 3],\n",
        "              [4, 5, 6],\n",
        "              [7, 8, 9]])\n",
        "\n",
        "# Initialize PCA with desired number of components (in this case, 2)\n",
        "pca = PCA(n_components=2)\n",
        "\n",
        "# Fit PCA to the data and transform it to the lower-dimensional space\n",
        "X_extracted = pca.fit_transform(X)\n",
        "\n",
        "# Print the original and extracted features\n",
        "print(\"Original Data:\")\n",
        "print(X)\n",
        "print(\"\\nExtracted Features (after PCA):\")\n",
        "print(X_extracted)\n",
        "\n"
      ],
      "metadata": {
        "colab": {
          "base_uri": "https://localhost:8080/"
        },
        "id": "oQ2njBwQqLaS",
        "outputId": "b7c7dcaf-b81e-484c-eff8-18956cf3942d"
      },
      "execution_count": 3,
      "outputs": [
        {
          "output_type": "stream",
          "name": "stdout",
          "text": [
            "Original Data:\n",
            "[[1 2 3]\n",
            " [4 5 6]\n",
            " [7 8 9]]\n",
            "\n",
            "Extracted Features (after PCA):\n",
            "[[-5.19615242e+00  2.56395025e-16]\n",
            " [ 0.00000000e+00  0.00000000e+00]\n",
            " [ 5.19615242e+00  2.56395025e-16]]\n"
          ]
        }
      ]
    },
    {
      "cell_type": "code",
      "source": [
        "\"\"\"\n",
        "Q5. You are working on a project to build a recommendation system for a food delivery service. The dataset\n",
        "contains features such as price, rating, and delivery time. Explain how you would use Min-Max scaling to\n",
        "preprocess the data.\n",
        "\"\"\"\n",
        "\"\"\"\n",
        "import pandas as pd\n",
        "from sklearn.preprocessing import MinMaxScaler\n",
        "\n",
        "# Load the dataset\n",
        "data = pd.read_csv('food_delivery_data.csv')\n",
        "\n",
        "# Extract features to be scaled\n",
        "features_to_scale = ['price', 'rating', 'delivery_time']\n",
        "\n",
        "# Initialize MinMaxScaler\n",
        "scaler = MinMaxScaler()\n",
        "\n",
        "# Apply Min-Max scaling to selected features\n",
        "data[features_to_scale] = scaler.fit_transform(data[features_to_scale])\n",
        "\n",
        "# Print the scaled dataset\n",
        "print(data.head())\n",
        "\n",
        "\"\"\""
      ],
      "metadata": {
        "colab": {
          "base_uri": "https://localhost:8080/",
          "height": 72
        },
        "id": "37lNSKZ3qrJB",
        "outputId": "54c7e4b5-d68e-469d-bbac-cd830b39e9e8"
      },
      "execution_count": 4,
      "outputs": [
        {
          "output_type": "execute_result",
          "data": {
            "text/plain": [
              "\"\\nimport pandas as pd\\nfrom sklearn.preprocessing import MinMaxScaler\\n\\n# Load the dataset\\ndata = pd.read_csv('food_delivery_data.csv')\\n\\n# Extract features to be scaled\\nfeatures_to_scale = ['price', 'rating', 'delivery_time']\\n\\n# Initialize MinMaxScaler\\nscaler = MinMaxScaler()\\n\\n# Apply Min-Max scaling to selected features\\ndata[features_to_scale] = scaler.fit_transform(data[features_to_scale])\\n\\n# Print the scaled dataset\\nprint(data.head())\\n\\n\""
            ],
            "application/vnd.google.colaboratory.intrinsic+json": {
              "type": "string"
            }
          },
          "metadata": {},
          "execution_count": 4
        }
      ]
    },
    {
      "cell_type": "code",
      "source": [
        "\"\"\"\n",
        "Q6. You are working on a project to build a model to predict stock prices. The dataset contains many\n",
        "features, such as company financial data and market trends. Explain how you would use PCA to reduce the\n",
        "dimensionality of the dataset.\n",
        "\"\"\"\n",
        "\n",
        "\"\"\"\n",
        "import pandas as pd\n",
        "from sklearn.decomposition import PCA\n",
        "from sklearn.preprocessing import StandardScaler\n",
        "\n",
        "# Load the dataset\n",
        "data = pd.read_csv('stock_data.csv')\n",
        "\n",
        "# Extract features (excluding the target variable)\n",
        "X = data.drop(columns=['target'])\n",
        "\n",
        "# Standardize the features\n",
        "scaler = StandardScaler()\n",
        "X_scaled = scaler.fit_transform(X)\n",
        "\n",
        "# Apply PCA\n",
        "pca = PCA(n_components=0.95)  # Retain 95% of the variance\n",
        "X_pca = pca.fit_transform(X_scaled)\n",
        "\n",
        "# Print the number of components retained\n",
        "print(\"Number of components retained:\", pca.n_components_)\n",
        "\n",
        "# Print the transformed data\n",
        "print(\"Transformed Data:\")\n",
        "print(X_pca)\n",
        "\n",
        "\"\"\""
      ],
      "metadata": {
        "colab": {
          "base_uri": "https://localhost:8080/",
          "height": 91
        },
        "id": "mi2noMqPrCle",
        "outputId": "5e4633c9-2ac8-4e67-a5ff-ce668869f048"
      },
      "execution_count": 5,
      "outputs": [
        {
          "output_type": "execute_result",
          "data": {
            "text/plain": [
              "'\\nimport pandas as pd\\nfrom sklearn.decomposition import PCA\\nfrom sklearn.preprocessing import StandardScaler\\n\\n# Load the dataset\\ndata = pd.read_csv(\\'stock_data.csv\\')\\n\\n# Extract features (excluding the target variable)\\nX = data.drop(columns=[\\'target\\'])\\n\\n# Standardize the features\\nscaler = StandardScaler()\\nX_scaled = scaler.fit_transform(X)\\n\\n# Apply PCA\\npca = PCA(n_components=0.95)  # Retain 95% of the variance\\nX_pca = pca.fit_transform(X_scaled)\\n\\n# Print the number of components retained\\nprint(\"Number of components retained:\", pca.n_components_)\\n\\n# Print the transformed data\\nprint(\"Transformed Data:\")\\nprint(X_pca)\\n\\n'"
            ],
            "application/vnd.google.colaboratory.intrinsic+json": {
              "type": "string"
            }
          },
          "metadata": {},
          "execution_count": 5
        }
      ]
    },
    {
      "cell_type": "code",
      "source": [
        "# Q7. For a dataset containing the following values: [1, 5, 10, 15, 20], perform Min-Max scaling to transform the values to a range of -1 to 1.\n",
        "import numpy as np\n",
        "\n",
        "# Given dataset\n",
        "data = np.array([1, 5, 10, 15, 20])\n",
        "\n",
        "# Compute min and max values\n",
        "data_min = np.min(data)\n",
        "data_max = np.max(data)\n",
        "\n",
        "# Perform Min-Max scaling\n",
        "data_scaled = 2 * (data - data_min) / (data_max - data_min) - 1\n",
        "\n",
        "# Print the scaled values\n",
        "print(\"Scaled Data (Min-Max Scaling -1 to 1):\")\n",
        "print(data_scaled)\n",
        "\n"
      ],
      "metadata": {
        "colab": {
          "base_uri": "https://localhost:8080/"
        },
        "id": "pyVRMbyerX74",
        "outputId": "b1a88898-2805-475c-c52e-1c56b4af7508"
      },
      "execution_count": 7,
      "outputs": [
        {
          "output_type": "stream",
          "name": "stdout",
          "text": [
            "Scaled Data (Min-Max Scaling -1 to 1):\n",
            "[-1.         -0.57894737 -0.05263158  0.47368421  1.        ]\n"
          ]
        }
      ]
    },
    {
      "cell_type": "code",
      "source": [
        "# Q8. For a dataset containing the following features: [height, weight, age, gender, blood pressure], perform Feature Extraction using PCA. How many principal components would you choose to retain, and why?\n",
        "import numpy as np\n",
        "from sklearn.decomposition import PCA\n",
        "from sklearn.preprocessing import StandardScaler\n",
        "\n",
        "# Sample dataset (replace with actual data)\n",
        "data = np.random.rand(100, 5)  # 100 samples, 5 features\n",
        "\n",
        "# Standardize the dataset\n",
        "scaler = StandardScaler()\n",
        "data_scaled = scaler.fit_transform(data)\n",
        "\n",
        "# Apply PCA\n",
        "pca = PCA()\n",
        "pca.fit(data_scaled)\n",
        "\n",
        "# Plot explained variance ratio\n",
        "import matplotlib.pyplot as plt\n",
        "\n",
        "plt.plot(np.cumsum(pca.explained_variance_ratio_))\n",
        "plt.xlabel('Number of Components')\n",
        "plt.ylabel('Cumulative Explained Variance Ratio')\n",
        "plt.grid()\n",
        "plt.show()\n"
      ],
      "metadata": {
        "colab": {
          "base_uri": "https://localhost:8080/",
          "height": 449
        },
        "id": "_PPJi6ZNrxfN",
        "outputId": "5ada6267-c706-41ad-9e9d-e13153e282a6"
      },
      "execution_count": 10,
      "outputs": [
        {
          "output_type": "display_data",
          "data": {
            "text/plain": [
              "<Figure size 640x480 with 1 Axes>"
            ],
            "image/png": "[encoded data removed]"
          },
          "metadata": {}
        }
      ]
    },
    {
      "cell_type": "code",
      "source": [],
      "metadata": {
        "id": "u51gc9QXrYWx"
      },
      "execution_count": null,
      "outputs": []
    }
  ]
}
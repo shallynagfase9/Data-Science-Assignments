{
  "nbformat": 4,
  "nbformat_minor": 0,
  "metadata": {
    "colab": {
      "provenance": [],
      "authorship_tag": "ABX9TyOApFULbtDT4EbY7XgiKGc9",
      "include_colab_link": true
    },
    "kernelspec": {
      "name": "python3",
      "display_name": "Python 3"
    },
    "language_info": {
      "name": "python"
    }
  },
  "cells": [
    {
      "cell_type": "markdown",
      "metadata": {
        "id": "view-in-github",
        "colab_type": "text"
      },
      "source": [
        "<a href=\"https://colab.research.google.com/github/shallynagfase9/Data-Science-Assignments/blob/main/Pandas_Advance2.ipynb\" target=\"_parent\"><img src=\"https://colab.research.google.com/assets/colab-badge.svg\" alt=\"Open In Colab\"/></a>"
      ]
    },
    {
      "cell_type": "code",
      "execution_count": 2,
      "metadata": {
        "colab": {
          "base_uri": "https://localhost:8080/"
        },
        "id": "HqUvH8sSs7S0",
        "outputId": "40802971-52db-457c-b403-bcbe79ccd0be"
      },
      "outputs": [
        {
          "output_type": "stream",
          "name": "stdout",
          "text": [
            "course_name    Machine Learning\n",
            "duration                      3\n",
            "Name: 1, dtype: object\n"
          ]
        }
      ],
      "source": [
        "\"\"\"\n",
        "Consider following code to answer further questions:\n",
        "import pandas as pd\n",
        "course_name = [‘Data Science’, ‘Machine Learning’, ‘Big Data’, ‘Data Engineer’]\n",
        "duration = [2,3,6,4]\n",
        "df = pd.DataFrame(data = {‘course_name’ : course_name, ‘duration’ : duration})\n",
        "Q1. Write a code to print the data present in the second row of the dataframe, df.\n",
        "\"\"\"\n",
        "\n",
        "\n",
        "import pandas as pd\n",
        "\n",
        "course_name = ['Data Science', 'Machine Learning', 'Big Data', 'Data Engineer']\n",
        "duration = [2, 3, 6, 4]\n",
        "df = pd.DataFrame(data={'course_name': course_name, 'duration': duration})\n",
        "\n",
        "print(df.iloc[1])"
      ]
    },
    {
      "cell_type": "code",
      "source": [
        "# Q2. What is the difference between the functions loc and iloc in pandas.DataFrame?\n",
        "\"\"\"\n",
        "The main difference between the functions loc and iloc in a Pandas DataFrame is how they are used for data selection:\n",
        "i) loc is label-based, meaning it selects rows and columns based on their row and column labels.\n",
        "ii) iloc is integer position-based, requiring rows and columns to be specified by their integer position values (0-based integer position).\n",
        "\"\"\""
      ],
      "metadata": {
        "id": "VCTrnf1Utfru"
      },
      "execution_count": null,
      "outputs": []
    },
    {
      "cell_type": "code",
      "source": [
        "\"\"\"\n",
        "Q3. Reindex the given dataframe using a variable, reindex = [3,0,1,2] and store it in the variable, new_df\n",
        "then find the output for both new_df.loc[2] and new_df.iloc[2].\n",
        "\n",
        "Did you observe any difference in both the outputs? If so then explain it.\n",
        "Consider the below code to answer further questions:\n",
        "import pandas as pd\n",
        "import numpy as np\n",
        "columns = ['column_1', 'column_2', 'column_3', 'column_4', 'column_5', 'column_6']\n",
        "indices = [1,2,3,4,5,6]\n",
        "#Creating a dataframe:\n",
        "df1 = pd.DataFrame(np.random.rand(6,6), columns = columns, index = indices)\n",
        "\"\"\"\n",
        "\n",
        "import pandas as pd\n",
        "import numpy as np\n",
        "columns = ['column_1', 'column_2', 'column_3', 'column_4', 'column_5', 'column_6']\n",
        "indices = [1,2,3,4,5,6]\n",
        "#Creating a dataframe:\n",
        "df1 = pd.DataFrame(np.random.rand(6,6), columns = columns, index = indices)\n",
        "\n",
        "new_df = df1.reindex([3,0,1,2])\n",
        "print(new_df)\n",
        "print(new_df.loc[2])\n",
        "print(new_df.iloc[2])\n",
        "\n",
        "\"\"\"\n",
        "The difference in outputs arises because loc uses labels for indexing, while iloc uses integer positions.\n",
        "Therefore, the output values may differ based on the reindexing and the method used for selection.\n",
        "\"\"\"\n",
        "\n"
      ],
      "metadata": {
        "colab": {
          "base_uri": "https://localhost:8080/"
        },
        "id": "3oCs6wSmtw70",
        "outputId": "39a276f2-f562-4b04-9ab3-5b78731cb7f5"
      },
      "execution_count": 4,
      "outputs": [
        {
          "output_type": "stream",
          "name": "stdout",
          "text": [
            "   column_1  column_2  column_3  column_4  column_5  column_6\n",
            "3  0.927752  0.438121  0.490153  0.115748  0.493444  0.085529\n",
            "0       NaN       NaN       NaN       NaN       NaN       NaN\n",
            "1  0.721520  0.949157  0.876099  0.236401  0.665932  0.631126\n",
            "2  0.675046  0.567963  0.963800  0.596241  0.674876  0.767270\n",
            "column_1    0.675046\n",
            "column_2    0.567963\n",
            "column_3    0.963800\n",
            "column_4    0.596241\n",
            "column_5    0.674876\n",
            "column_6    0.767270\n",
            "Name: 2, dtype: float64\n",
            "column_1    0.721520\n",
            "column_2    0.949157\n",
            "column_3    0.876099\n",
            "column_4    0.236401\n",
            "column_5    0.665932\n",
            "column_6    0.631126\n",
            "Name: 1, dtype: float64\n"
          ]
        }
      ]
    },
    {
      "cell_type": "code",
      "source": [
        "\"\"\"\n",
        "Q4. Write a code to find the following statistical measurements for the above dataframe df1:\n",
        "(i) mean of each and every column present in the dataframe.\n",
        "(ii) standard deviation of column, ‘column_2’\n",
        "\"\"\"\n",
        "import pandas as pd\n",
        "import numpy as np\n",
        "columns = ['column_1', 'column_2', 'column_3', 'column_4', 'column_5', 'column_6']\n",
        "indices = [1,2,3,4,5,6]\n",
        "#Creating a dataframe:\n",
        "df1 = pd.DataFrame(np.random.rand(6,6), columns = columns, index = indices)\n",
        "print(df1)\n",
        "print(df1.mean())\n",
        "print(df1[\"column_2\"].std())\n"
      ],
      "metadata": {
        "colab": {
          "base_uri": "https://localhost:8080/"
        },
        "id": "wOuDdSzIuwEe",
        "outputId": "7288c642-4581-4eeb-a802-5111e174df96"
      },
      "execution_count": 6,
      "outputs": [
        {
          "output_type": "stream",
          "name": "stdout",
          "text": [
            "   column_1  column_2  column_3  column_4  column_5  column_6\n",
            "1  0.375540  0.683529  0.740292  0.598411  0.494597  0.524575\n",
            "2  0.451062  0.373654  0.405694  0.180599  0.753317  0.170091\n",
            "3  0.476879  0.819494  0.813162  0.591573  0.553493  0.586607\n",
            "4  0.521181  0.023011  0.448761  0.043840  0.274260  0.773320\n",
            "5  0.756944  0.589212  0.636452  0.748696  0.205236  0.827161\n",
            "6  0.753334  0.836538  0.273711  0.929322  0.994167  0.523608\n",
            "column_1    0.555823\n",
            "column_2    0.554240\n",
            "column_3    0.553012\n",
            "column_4    0.515407\n",
            "column_5    0.545845\n",
            "column_6    0.567560\n",
            "dtype: float64\n",
            "0.3107429357268978\n"
          ]
        }
      ]
    },
    {
      "cell_type": "code",
      "source": [
        "\"\"\"\n",
        "Q5. Replace the data present in the second row of column, ‘column_2’ by a string variable then find the\n",
        "mean of column, column_2.\n",
        "If you are getting errors in executing it then explain why.\n",
        "[Hint: To replace the data use df1.loc[] and equate this to string data of your choice.]\n",
        "\"\"\"\n",
        "\n",
        "import pandas as pd\n",
        "import numpy as np\n",
        "columns = ['column_1', 'column_2', 'column_3', 'column_4', 'column_5', 'column_6']\n",
        "indices = [1, 2, 3, 4, 5, 6]\n",
        "df1 = pd.DataFrame(np.random.rand(6, 6), columns=columns, index=indices)\n",
        "\n",
        "df1.loc[2, 'column_2'] = 'String Data'\n",
        "\n",
        "try:\n",
        "    mean_column_2 = df1['column_2'].mean()\n",
        "    print(\"Mean of 'column_2':\", mean_column_2)\n",
        "except TypeError as e:\n",
        "    print(\"Error occurred while calculating the mean of 'column_2':\", e)"
      ],
      "metadata": {
        "colab": {
          "base_uri": "https://localhost:8080/"
        },
        "id": "CKlD8x5IvaxG",
        "outputId": "f8ca3212-b62b-449e-9360-7e57adf14a3d"
      },
      "execution_count": 7,
      "outputs": [
        {
          "output_type": "stream",
          "name": "stdout",
          "text": [
            "Error occurred while calculating the mean of 'column_2': unsupported operand type(s) for +: 'float' and 'str'\n"
          ]
        }
      ]
    },
    {
      "cell_type": "code",
      "source": [
        "\"\"\"\n",
        "Q6. What do you understand about the windows function in pandas and list the types of windows\n",
        "functions?\n",
        "\"\"\"\n",
        "\n",
        "'''\n",
        "The window functions in Pandas are used to perform calculations across a set of rows that are interrelated,\n",
        "allowing for aggregated calculations across various partitions or cross-sections of the data.\n",
        "'''\n",
        "# Average\n",
        "# Max\n",
        "# Min\n",
        "# Sum\n",
        "# Count"
      ],
      "metadata": {
        "colab": {
          "base_uri": "https://localhost:8080/",
          "height": 54
        },
        "id": "70XXL_zWvy7D",
        "outputId": "0fbf2afc-f0d9-45b6-be0c-a630b3ac8800"
      },
      "execution_count": 8,
      "outputs": [
        {
          "output_type": "execute_result",
          "data": {
            "text/plain": [
              "'\\nThe window functions in Pandas are used to perform calculations across a set of rows that are interrelated, \\nallowing for aggregated calculations across various partitions or cross-sections of the data. \\n'"
            ],
            "application/vnd.google.colaboratory.intrinsic+json": {
              "type": "string"
            }
          },
          "metadata": {},
          "execution_count": 8
        }
      ]
    },
    {
      "cell_type": "code",
      "source": [
        "\"\"\"\n",
        "Q7. Write a code to print only the current month and year at the time of answering this question.\n",
        "[Hint: Use pandas.datetime function]\n",
        "\"\"\"\n",
        "import pandas as pd\n",
        "\n",
        "current_date = pd.Timestamp.now()\n",
        "current_month = current_date.month\n",
        "current_year = current_date.year\n",
        "\n",
        "print(\"Current Month:\", current_month)\n",
        "print(\"Current Year:\", current_year)"
      ],
      "metadata": {
        "colab": {
          "base_uri": "https://localhost:8080/"
        },
        "id": "S_FQZM7xwKUa",
        "outputId": "90787b52-e173-4392-acef-cc34116380d1"
      },
      "execution_count": 9,
      "outputs": [
        {
          "output_type": "stream",
          "name": "stdout",
          "text": [
            "Current Month: 3\n",
            "Current Year: 2024\n"
          ]
        }
      ]
    },
    {
      "cell_type": "code",
      "source": [
        "\"\"\"\n",
        "Q8. Write a Python program that takes in two dates as input (in the format YYYY-MM-DD) and\n",
        "calculates the difference between them in days, hours, and minutes using Pandas time delta. The\n",
        "program should prompt the user to enter the dates and display the result.\n",
        "\"\"\"\n",
        "\n",
        "\n",
        "time = pd.Timedelta(days = 22, hours = 24, minutes = 5)\n",
        "print(time)\n",
        "\n",
        "import pandas as pd\n",
        "\n",
        "date1 = input(\"Enter the first date (YYYY-MM-DD): \")\n",
        "date2 = input(\"Enter the second date (YYYY-MM-DD): \")\n",
        "\n",
        "date1 = pd.to_datetime(date1)\n",
        "date2 = pd.to_datetime(date2)\n",
        "\n",
        "time_diff = date2 - date1\n",
        "\n",
        "days = time_diff.days\n",
        "hours = time_diff.components.hours\n",
        "minutes = time_diff.components.minutes\n",
        "\n",
        "print(\"Difference between the two dates:\")\n",
        "print(\"Days:\", days)\n",
        "print(\"Hours:\", hours)\n",
        "print(\"Minutes:\", minutes)"
      ],
      "metadata": {
        "colab": {
          "base_uri": "https://localhost:8080/"
        },
        "id": "-HkY-uuRwb7r",
        "outputId": "d8a6143e-6f20-4233-aa4a-713cf2d17b80"
      },
      "execution_count": 14,
      "outputs": [
        {
          "output_type": "stream",
          "name": "stdout",
          "text": [
            "23 days 00:05:00\n",
            "Enter the first date (YYYY-MM-DD): 2022-04-12\n",
            "Enter the second date (YYYY-MM-DD): 2023-06-11\n",
            "Difference between the two dates:\n",
            "Days: 425\n",
            "Hours: 0\n",
            "Minutes: 0\n"
          ]
        }
      ]
    },
    {
      "cell_type": "code",
      "source": [
        "\"\"\"\n",
        "Q9. Write a Python program that reads a CSV file containing categorical data and converts a specified\n",
        "column to a categorical data type. The program should prompt the user to enter the file path, column\n",
        "name, and category order, and then display the sorted data.\n",
        "\"\"\"\n",
        "import pandas as pd\n",
        "\n",
        "df = pd.read_csv(\"https://raw.githubusercontent.com/datasciencedojo/datasets/master/titanic.csv\")\n",
        "\n",
        "df[\"Survived\"] = pd.Categorical(df[\"Survived\"], ordered=True)\n",
        "\n",
        "sorted_df = df.sort_values(by=\"Survived\")\n",
        "print(\"Sorted Data:\")\n",
        "print(sorted_df)"
      ],
      "metadata": {
        "colab": {
          "base_uri": "https://localhost:8080/"
        },
        "id": "IMoqe3CjwiuC",
        "outputId": "d5d2f982-6f0f-4f2e-fe6d-ad2f5a001a86"
      },
      "execution_count": 16,
      "outputs": [
        {
          "output_type": "stream",
          "name": "stdout",
          "text": [
            "Sorted Data:\n",
            "     PassengerId Survived  Pclass                               Name     Sex  \\\n",
            "0              1        0       3            Braund, Mr. Owen Harris    male   \n",
            "519          520        0       3                Pavlovic, Mr. Stefo    male   \n",
            "521          522        0       3                    Vovk, Mr. Janko    male   \n",
            "522          523        0       3                 Lahoud, Mr. Sarkis    male   \n",
            "524          525        0       3                  Kassem, Mr. Fared    male   \n",
            "..           ...      ...     ...                                ...     ...   \n",
            "546          547        1       2  Beane, Mrs. Edward (Ethel Clarke)  female   \n",
            "215          216        1       1            Newell, Miss. Madeleine  female   \n",
            "216          217        1       3             Honkanen, Miss. Eliina  female   \n",
            "218          219        1       1              Bazzani, Miss. Albina  female   \n",
            "445          446        1       1          Dodge, Master. Washington    male   \n",
            "\n",
            "      Age  SibSp  Parch            Ticket      Fare Cabin Embarked  \n",
            "0    22.0      1      0         A/5 21171    7.2500   NaN        S  \n",
            "519  32.0      0      0            349242    7.8958   NaN        S  \n",
            "521  22.0      0      0            349252    7.8958   NaN        S  \n",
            "522   NaN      0      0              2624    7.2250   NaN        C  \n",
            "524   NaN      0      0              2700    7.2292   NaN        C  \n",
            "..    ...    ...    ...               ...       ...   ...      ...  \n",
            "546  19.0      1      0              2908   26.0000   NaN        S  \n",
            "215  31.0      1      0             35273  113.2750   D36        C  \n",
            "216  27.0      0      0  STON/O2. 3101283    7.9250   NaN        S  \n",
            "218  32.0      0      0             11813   76.2917   D15        C  \n",
            "445   4.0      0      2             33638   81.8583   A34        S  \n",
            "\n",
            "[891 rows x 12 columns]\n"
          ]
        }
      ]
    },
    {
      "cell_type": "code",
      "source": [
        "\"\"\"\n",
        "Q10. Write a Python program that reads a CSV file containing sales data for different products and\n",
        "visualizes the data using a stacked bar chart to show the sales of each product category over time. The\n",
        "program should prompt the user to enter the file path and display the chart.\n",
        "\"\"\"\n",
        "import pandas as pd\n",
        "\n",
        "df = pd.read_csv(\"https://raw.githubusercontent.com/datasciencedojo/datasets/master/titanic.csv\")\n",
        "df\n",
        "df.plot(\"Ticket\")"
      ],
      "metadata": {
        "colab": {
          "base_uri": "https://localhost:8080/",
          "height": 467
        },
        "id": "VCkFe1FhzFLE",
        "outputId": "7b77ab9e-cb73-46a6-dbbd-a48eda46af04"
      },
      "execution_count": 19,
      "outputs": [
        {
          "output_type": "execute_result",
          "data": {
            "text/plain": [
              "<Axes: xlabel='Ticket'>"
            ]
          },
          "metadata": {},
          "execution_count": 19
        },
        {
          "output_type": "display_data",
          "data": {
            "text/plain": [
              "<Figure size 640x480 with 1 Axes>"
            ],
            "image/png": "[encoded data removed]"
          },
          "metadata": {}
        }
      ]
    },
    {
      "cell_type": "code",
      "source": [
        "\"\"\"\n",
        "Q11. You are given a CSV file containing student data that includes the student ID and their test score. Write\n",
        "a Python program that reads the CSV file, calculates the mean, median, and mode of the test scores, and\n",
        "displays the results in a table.\n",
        "The program should do the followingM\n",
        "I Prompt the user to enter the file path of the CSV file containing the student dataR\n",
        "I Read the CSV file into a Pandas DataFrameR\n",
        "I Calculate the mean, median, and mode of the test scores using Pandas toolsR\n",
        "I Display the mean, median, and mode in a table.\n",
        "Assume the CSV file contains the following columnsM\n",
        "I Student ID: The ID of the studentR\n",
        "I Test Score: The score of the student's test.\n",
        "Example usage of the program:\n",
        "Enter the file path of the CSV file containing the student data: student_data.csv\n",
        "+-----------+--------+\n",
        "| Statistic | Value |\n",
        "+-----------+--------+\n",
        "| Mean | 79.6 |\n",
        "| Median | 82 |\n",
        "| Mode | 85, 90 |\n",
        "+-----------+--------+\n",
        "Assume that the CSV file student_data.csv contains the following data:\n",
        "Student ID,Test Score\n",
        "1,85\n",
        "2,90\n",
        "3,80\n",
        "4,75\n",
        "5,85\n",
        "6,82\n",
        "7,78\n",
        "8,85\n",
        "9,90\n",
        "10,85\n",
        "The program should calculate the mean, median, and mode of the test scores and display the results\n",
        "in a table.\n",
        "\"\"\"\n",
        "import pandas as pd\n",
        "df = pd.read_csv(\"https://raw.githubusercontent.com/datasciencedojo/datasets/master/titanic.csv\")\n",
        "\n",
        "mean_score = df['PassengerId'].mean()\n",
        "print(mean_score)\n",
        "median_score = df['PassengerId'].median()\n",
        "print(median_score)\n",
        "mode_scores = df['PassengerId'].mode()\n",
        "print(mode_scores)"
      ],
      "metadata": {
        "colab": {
          "base_uri": "https://localhost:8080/"
        },
        "id": "UHnrJhqzzlU0",
        "outputId": "b42bb966-303c-41d1-9761-2fce245af3d1"
      },
      "execution_count": 21,
      "outputs": [
        {
          "output_type": "stream",
          "name": "stdout",
          "text": [
            "446.0\n",
            "446.0\n",
            "0        1\n",
            "1        2\n",
            "2        3\n",
            "3        4\n",
            "4        5\n",
            "      ... \n",
            "886    887\n",
            "887    888\n",
            "888    889\n",
            "889    890\n",
            "890    891\n",
            "Name: PassengerId, Length: 891, dtype: int64\n"
          ]
        }
      ]
    }
  ]
}
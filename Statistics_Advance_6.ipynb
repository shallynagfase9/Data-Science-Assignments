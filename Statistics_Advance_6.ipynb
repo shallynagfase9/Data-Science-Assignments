{
  "nbformat": 4,
  "nbformat_minor": 0,
  "metadata": {
    "colab": {
      "provenance": [],
      "authorship_tag": "ABX9TyNE0RND+7v+Y+yI41IoJnXO",
      "include_colab_link": true
    },
    "kernelspec": {
      "name": "python3",
      "display_name": "Python 3"
    },
    "language_info": {
      "name": "python"
    }
  },
  "cells": [
    {
      "cell_type": "markdown",
      "metadata": {
        "id": "view-in-github",
        "colab_type": "text"
      },
      "source": [
        "<a href=\"https://colab.research.google.com/github/shallynagfase9/Data-Science-Assignments/blob/main/Statistics_Advance_6.ipynb\" target=\"_parent\"><img src=\"https://colab.research.google.com/assets/colab-badge.svg\" alt=\"Open In Colab\"/></a>"
      ]
    },
    {
      "cell_type": "code",
      "execution_count": null,
      "metadata": {
        "id": "uipwJWBE7cVj"
      },
      "outputs": [],
      "source": [
        "# Q1. Explain the assumptions required to use ANOVA and provide examples of violations that could impact the validity of the results.\n",
        "\"\"\"\n",
        "To use ANOVA (Analysis of Variance), several assumptions must be met for the results to be valid. The key assumptions for ANOVA are:\n",
        "Normality: Each sample should be drawn from a normally distributed population.\n",
        "Equal Variances: The variances of the populations that the samples come from should be equal.\n",
        "Independence: The observations within each group should be independent of each other, and the observations in each group should be obtained through a random sample.\n",
        "\n",
        "Violations of these assumptions can impact the validity of ANOVA results. Examples of violations include:\n",
        "Normality: If the data is not normally distributed, it can affect the accuracy of the results. Violations can be detected through visual checks like histograms or Q-Q plots, or formal statistical tests like Shapiro-Wilk or Kolmogorov-Smirnov.\n",
        "Equal Variances: Unequal variances among groups can impact the reliability of ANOVA results. While ANOVA is robust to minor violations, severe violations may require alternative tests like the Kruskal-Wallis Test.\n",
        "Independence: If observations are not independent within groups or obtained through a randomized process, the results of ANOVA can be unreliable. In such cases, setting up the experiment again with a randomized design is recommended.\n",
        "\n",
        "\"\"\""
      ]
    },
    {
      "cell_type": "code",
      "source": [
        "# Q2. What are the three types of ANOVA, and in what situations would each be used?\n",
        "\"\"\"\n",
        "The three types of ANOVA are One-Way ANOVA, Two-Way ANOVA, and N-Way ANOVA (also known as MANOVA).\n",
        "One-Way ANOVA: This is the most commonly used method of performing the ANOVA test. It is used to compare the means of two or more independent groups using the F-distribution. It is used when there is only one independent variable with at least two levels. One-way ANOVA does not differ much from the t-test.\n",
        "Example: A teacher wants to know how good he has been in teaching with the students. So, he can split the students of the class into different groups and assign different projects related to the topics taught to them. He can use one-way ANOVA to compare the average score of each group. He can get a rough understanding of topics to teach again.\n",
        "\n",
        "Two-Way ANOVA: This is carried out when there are two independent variables. Two-way ANOVA allows for a comprehensive analysis of how these multiple factors interact with each other and their combined effect, providing a deeper understanding of the dynamics at play.\n",
        "Example: Testing the effects of feed type (type A, B, or C) and barn crowding (not crowded, somewhat crowded, very crowded) on the final weight of chickens in a commercial farming operation.\n",
        "\n",
        "N-Way ANOVA (MANOVA): This is used when there are two or more dependent variables. The ANCOVA is used when the researcher includes one or more covariate variables in the analysis.\n",
        "Example: A survey was conducted to check if there is an interaction between income and gender with anxiety level at job. To conduct such a test, a two-way ANOVA will be used.\n",
        "\n",
        "\"\"\""
      ],
      "metadata": {
        "id": "hmqr7yZ471f6"
      },
      "execution_count": null,
      "outputs": []
    },
    {
      "cell_type": "code",
      "source": [
        "# Q3. What is the partitioning of variance in ANOVA, and why is it important to understand this concept?\n",
        "\"\"\"\n",
        "Partitioning of variance in ANOVA is the process of separating the total variance in a data set into components attributable to different sources of variation. This concept is fundamental to the analysis of variance (ANOVA) test, which is used to compare the means of two or more groups and to understand the variability in the data.\n",
        "Partitioning of variance is important in ANOVA because it allows researchers to determine whether the differences between the means of the groups are statistically significant. By comparing the variance between groups to the variance within groups, researchers can determine whether the differences between the groups are larger than would be expected by chance.\n",
        "\"\"\""
      ],
      "metadata": {
        "id": "mQMxYjLF8MaL"
      },
      "execution_count": null,
      "outputs": []
    },
    {
      "cell_type": "code",
      "source": [
        "# Q4. How would you calculate the total sum of squares (SST), explained sum of squares (SSE), and residual sum of squares (SSR) in a one-way ANOVA using Python?\n",
        "import numpy as np\n",
        "\n",
        "# Sample data\n",
        "observed_values = np.array([24, 31, 26, 23, 24, 21, 19, 24, 15, 21, 18, 18])\n",
        "predicted_values = np.array([22, 22, 22, 22, 22, 22, 22, 20, 20, 20, 20, 20])\n",
        "\n",
        "# Calculate SST\n",
        "mean_observed = np.mean(observed_values)\n",
        "SST = np.sum((observed_values - mean_observed)**2)\n",
        "\n",
        "# Calculate SSE\n",
        "SSE = np.sum((predicted_values - mean_observed)**2)\n",
        "\n",
        "# Calculate SSR\n",
        "SSR = np.sum((observed_values - predicted_values)**2)\n",
        "\n",
        "print(\"SST:\", SST)\n",
        "print(\"SSE:\", SSE)\n",
        "print(\"SSR:\", SSR)"
      ],
      "metadata": {
        "colab": {
          "base_uri": "https://localhost:8080/"
        },
        "id": "lPRUqRms8XWW",
        "outputId": "29127633-3d13-4aec-aef2-ec38d2f1ad4e"
      },
      "execution_count": 1,
      "outputs": [
        {
          "output_type": "stream",
          "name": "stdout",
          "text": [
            "SST: 202.0\n",
            "SSE: 20.0\n",
            "SSR: 166\n"
          ]
        }
      ]
    },
    {
      "cell_type": "code",
      "source": [
        "# Q5. In a two-way ANOVA, how would you calculate the main effects and interaction effects using Python?\n",
        "!pip install statsmodels\n",
        "import statsmodels.api as sm\n",
        "from statsmodels.formula.api import ols\n",
        "\n",
        "import pandas as pd\n",
        "\n",
        "# Example data\n",
        "data = {'DependentVariable': [20, 22, 19, 21, 18, 20, 25, 27, 23, 25, 22, 24],\n",
        "        'Factor1': ['A', 'A', 'A', 'A', 'B', 'B', 'B', 'B', 'C', 'C', 'C', 'C'],\n",
        "        'Factor2': ['X', 'X', 'Y', 'Y', 'X', 'X', 'Y', 'Y', 'X', 'X', 'Y', 'Y']}\n",
        "df = pd.DataFrame(data)\n",
        "\n",
        "model = ols('DependentVariable ~ C(Factor1) + C(Factor2) + C(Factor1):C(Factor2)', data=df).fit()\n",
        "anova_results = sm.stats.anova_lm(model, typ=2)\n",
        "print(anova_results)\n",
        "\n"
      ],
      "metadata": {
        "colab": {
          "base_uri": "https://localhost:8080/"
        },
        "id": "u8F25iz98gr_",
        "outputId": "b5f7e495-1c8e-4438-bef3-66f1d5b87416"
      },
      "execution_count": 4,
      "outputs": [
        {
          "output_type": "stream",
          "name": "stdout",
          "text": [
            "Requirement already satisfied: statsmodels in /usr/local/lib/python3.10/dist-packages (0.14.1)\n",
            "Requirement already satisfied: numpy<2,>=1.18 in /usr/local/lib/python3.10/dist-packages (from statsmodels) (1.25.2)\n",
            "Requirement already satisfied: scipy!=1.9.2,>=1.4 in /usr/local/lib/python3.10/dist-packages (from statsmodels) (1.11.4)\n",
            "Requirement already satisfied: pandas!=2.1.0,>=1.0 in /usr/local/lib/python3.10/dist-packages (from statsmodels) (2.0.3)\n",
            "Requirement already satisfied: patsy>=0.5.4 in /usr/local/lib/python3.10/dist-packages (from statsmodels) (0.5.6)\n",
            "Requirement already satisfied: packaging>=21.3 in /usr/local/lib/python3.10/dist-packages (from statsmodels) (24.0)\n",
            "Requirement already satisfied: python-dateutil>=2.8.2 in /usr/local/lib/python3.10/dist-packages (from pandas!=2.1.0,>=1.0->statsmodels) (2.8.2)\n",
            "Requirement already satisfied: pytz>=2020.1 in /usr/local/lib/python3.10/dist-packages (from pandas!=2.1.0,>=1.0->statsmodels) (2023.4)\n",
            "Requirement already satisfied: tzdata>=2022.1 in /usr/local/lib/python3.10/dist-packages (from pandas!=2.1.0,>=1.0->statsmodels) (2024.1)\n",
            "Requirement already satisfied: six in /usr/local/lib/python3.10/dist-packages (from patsy>=0.5.4->statsmodels) (1.16.0)\n",
            "                          sum_sq   df          F    PR(>F)\n",
            "C(Factor1)             18.666667  2.0   4.666667  0.059916\n",
            "C(Factor2)              8.333333  1.0   4.166667  0.087294\n",
            "C(Factor1):C(Factor2)  42.666667  2.0  10.666667  0.010577\n",
            "Residual               12.000000  6.0        NaN       NaN\n"
          ]
        }
      ]
    },
    {
      "cell_type": "code",
      "source": [
        "# Q6. Suppose you conducted a one-way ANOVA and obtained an F-statistic of 5.23 and a p-value of 0.02. What can you conclude about the differences between the groups, and how would you interpret these results?\n",
        "\"\"\"\n",
        "The p-value indicates the probability of obtaining a test statistic at least as extreme as the one observed, under the assumption that the null hypothesis (there are no differences between the group means) is true.\n",
        "\n",
        "In this case, the p-value is 0.02, which is less than the commonly used significance level of 0.05. Therefore, we reject the null hypothesis of the ANOVA test. This means there is statistically significant evidence to suggest that not all group means are equal.\n",
        "\n",
        "Interpretation of the F-Statistic\n",
        "\n",
        "\"\"\""
      ],
      "metadata": {
        "id": "tlejXQJp9FR4"
      },
      "execution_count": null,
      "outputs": []
    },
    {
      "cell_type": "code",
      "source": [
        "# Q7. In a repeated measures ANOVA, how would you handle missing data, and what are the potential consequences of using different methods to handle missing data?\n",
        "\"\"\"\n",
        "Handling Missing Data:\n",
        "Complete Case Analysis: This method involves excluding any participant with missing data entirely from the analysis. While simple, it can lead to loss of valuable information and reduced statistical power.\n",
        "Imputation: Imputation methods involve estimating missing values based on observed data. Common imputation techniques include mean imputation, last observation carried forward (LOCF), and multiple imputation. Imputation can help retain sample size and preserve statistical power.\n",
        "Mixed Effects Models: Using mixed effects models can handle missing data effectively by accounting for the correlation structure within the data. This method is robust and can provide valid results even with missing values.\n",
        "\n",
        "Consequences of Different Methods:\n",
        "Complete Case Analysis: This method may lead to biased results if missing data are not missing completely at random (MCAR). It can also reduce the sample size and statistical power.\n",
        "Imputation: While imputation can retain sample size and statistical power, the choice of imputation method can impact the results. Inaccurate imputation techniques can introduce bias and affect the validity of the analysis.\n",
        "Mixed Effects Models: This method is robust to missing data under the assumption of missing at random (MAR). However, if data are missing not at random (MNAR), the results may be biased.\n",
        "\n",
        "\"\"\""
      ],
      "metadata": {
        "id": "5baYrMM59WEf"
      },
      "execution_count": null,
      "outputs": []
    },
    {
      "cell_type": "code",
      "source": [
        "# Q8. What are some common post-hoc tests used after ANOVA, and when would you use each one? Provide an example of a situation where a post-hoc test might be necessary.\n",
        "\"\"\"\n",
        "After conducting an ANOVA and finding a statistically significant result, post-hoc tests are essential to determine specific group differences. Here are some common post-hoc tests and their applications:\n",
        "\n",
        "Bonferroni Test:\n",
        "Usage: Corrects for multiple comparisons by adjusting the significance level.\n",
        "Example: When comparing the effectiveness of three different treatments after a significant ANOVA result.\n",
        "\n",
        "Tukey’s Honest Significant Difference (HSD):\n",
        "Usage: Provides confidence intervals for pairwise group differences.\n",
        "Example: Comparing the mean scores of multiple groups in a study to identify significant differences.\n",
        "\n",
        "Scheffe’s Test:\n",
        "Usage: A conservative test that controls the family-wise error rate.\n",
        "Example: When analyzing the impact of different factors on a response variable with multiple levels.\n",
        "\n",
        "Situation Requiring a Post-Hoc Test\n",
        "Example Scenario:\n",
        "In a clinical trial testing the effectiveness of three different medications on pain relief, an ANOVA reveals a significant difference in pain reduction among the medications. However, the ANOVA does not specify which medication pairs have significant differences. In this case, a post-hoc test like Tukey’s HSD would be necessary to determine the specific medication combinations that lead to significant pain relief differences. This detailed analysis is crucial for making informed decisions about the efficacy of each medication in pain management.\n",
        "\"\"\""
      ],
      "metadata": {
        "id": "Y7c3W6uO9_A0"
      },
      "execution_count": null,
      "outputs": []
    },
    {
      "cell_type": "code",
      "source": [
        "# Q9. A researcher wants to compare the mean weight loss of three diets: A, B, and C. They collect data from 50 participants who were randomly assigned to one of the diets. Conduct a one-way ANOVA using Python to determine if there are any significant differences between the mean weight loss of the three diets. Report the F-statistic and p-value, and interpret the results.\n",
        "import numpy as np\n",
        "import pandas as pd\n",
        "from scipy.stats import f_oneway\n",
        "\n",
        "# Sample data generation (replace this with your actual data)\n",
        "np.random.seed(42)  # For reproducibility\n",
        "diet_a_weight_loss = np.random.normal(10, 2, 50)  # Mean=10, SD=2, n=50\n",
        "diet_b_weight_loss = np.random.normal(12, 2, 50)  # Mean=12, SD=2, n=50\n",
        "diet_c_weight_loss = np.random.normal(11, 2, 50)  # Mean=11, SD=2, n=50\n",
        "\n",
        "# Perform one-way ANOVA\n",
        "f_statistic, p_value = f_oneway(diet_a_weight_loss, diet_b_weight_loss, diet_c_weight_loss)\n",
        "\n",
        "# Output the results\n",
        "print(f\"F-statistic: {f_statistic}\")\n",
        "print(f\"P-value: {p_value}\")\n",
        "\n",
        "# Interpretation\n",
        "if p_value < 0.05:\n",
        "    print(\"There is a significant difference between the mean weight loss of the three diets.\")\n",
        "else:\n",
        "    print(\"There is no significant difference between the mean weight loss of the three diets.\")\n"
      ],
      "metadata": {
        "colab": {
          "base_uri": "https://localhost:8080/"
        },
        "id": "1huvWv6k-qlJ",
        "outputId": "96c96f23-a9b8-4bcd-bfaa-aebd4d62ecdb"
      },
      "execution_count": 6,
      "outputs": [
        {
          "output_type": "stream",
          "name": "stdout",
          "text": [
            "F-statistic: 21.809565795751936\n",
            "P-value: 5.076768176045347e-09\n",
            "There is a significant difference between the mean weight loss of the three diets.\n"
          ]
        }
      ]
    },
    {
      "cell_type": "code",
      "source": [
        "\"\"\"\n",
        "Q10. A company wants to know if there are any significant differences in the average time it takes to\n",
        "complete a task using three different software programs: Program A, Program B, and Program C. They\n",
        "randomly assign 30 employees to one of the programs and record the time it takes each employee to\n",
        "complete the task. Conduct a two-way ANOVA using Python to determine if there are any main effects or\n",
        "interaction effects between the software programs and employee experience level (novice vs.\n",
        "experienced). Report the F-statistics and p-values, and interpret the results.\n",
        "\"\"\"\n",
        "import pandas as pd\n",
        "import numpy as np\n",
        "import statsmodels.api as sm\n",
        "from statsmodels.formula.api import ols\n",
        "\n",
        "\n",
        "np.random.seed(42)  # For reproducibility\n",
        "n = 30  # Total employees\n",
        "\n",
        "\n",
        "data = {\n",
        "    'Time': np.concatenate([np.random.normal(30, 5, n), np.random.normal(28, 4, n), np.random.normal(26, 3, n),\n",
        "                            np.random.normal(25, 4, n), np.random.normal(23, 5, n), np.random.normal(22, 2, n)]),\n",
        "    'Software': ['A']*n + ['B']*n + ['C']*n,\n",
        "    'Experience': ['Novice']*(n//2) + ['Experienced']*(n//2) + ['Novice']*(n//2) + ['Experienced']*(n//2) +\n",
        "                  ['Novice']*(n//2) + ['Experienced']*(n//2)\n",
        "}\n",
        "\n",
        "df = pd.DataFrame(data)\n",
        "\n",
        "# Conducting two-way ANOVA\n",
        "model = ols('Time ~ C(Software) + C(Experience) + C(Software):C(Experience)', data=df).fit()\n",
        "anova_results = sm.stats.anova_lm(model, typ=2)\n",
        "\n",
        "# Display the results\n",
        "print(anova_results)\n"
      ],
      "metadata": {
        "id": "QvoTzBkgAP8e"
      },
      "execution_count": null,
      "outputs": []
    },
    {
      "cell_type": "code",
      "source": [
        "\"\"\"\n",
        "Q11. An educational researcher is interested in whether a new teaching method improves student test\n",
        "scores. They randomly assign 100 students to either the control group (traditional teaching method) or the\n",
        "experimental group (new teaching method) and administer a test at the end of the semester. Conduct a\n",
        "two-sample t-test using Python to determine if there are any significant differences in test scores\n",
        "between the two groups. If the results are significant, follow up with a post-hoc test to determine which\n",
        "group(s) differ significantly from each other.\n",
        "\"\"\"\n",
        "import numpy as np\n",
        "import scipy.stats as stats\n",
        "\n",
        "# Generate random data for two groups\n",
        "np.random.seed(0)\n",
        "group1 = np.random.normal(loc=50, scale=5, size=50)\n",
        "group2 = np.random.normal(loc=55, scale=5, size=50)\n",
        "\n",
        "# Perform the two-sample t-test\n",
        "t_stat, p_value = stats.ttest_ind(group1, group2)\n",
        "\n",
        "# Print the results\n",
        "print(f\"t-statistic: {t_stat}\")\n",
        "print(f\"p-value: {p_value}\")"
      ],
      "metadata": {
        "colab": {
          "base_uri": "https://localhost:8080/"
        },
        "id": "NbwE6OpgAQu8",
        "outputId": "b2d4076b-2694-4519-e00e-93e397693dd6"
      },
      "execution_count": 13,
      "outputs": [
        {
          "output_type": "stream",
          "name": "stdout",
          "text": [
            "t-statistic: -4.131173276068804\n",
            "p-value: 7.60404836914434e-05\n"
          ]
        }
      ]
    },
    {
      "cell_type": "code",
      "source": [
        "\"\"\"\n",
        "Q12. A researcher wants to know if there are any significant differences in the average daily sales of three\n",
        "retail stores: Store A, Store B, and Store C. They randomly select 30 days and record the sales for each store\n",
        "on those days. Conduct a repeated measures ANOVA using Python to determine if there are any\n",
        "\n",
        "significant differences in sales between the three stores. If the results are significant, follow up with a post-\n",
        "hoc test to determine which store(s) differ significantly from each other.\n",
        "\"\"\"\n",
        "import pandas as pd\n",
        "import statsmodels.api as sm\n",
        "\n",
        "# Create a DataFrame with the sales data for each store on each day\n",
        "data = {'Store': ['A', 'A', 'A', 'A', 'B', 'B', 'B', 'B', 'C', 'C', 'C', 'C'] * 4,\n",
        "        'Day': [1, 2, 3, 4] * 12,\n",
        "        'Sales': [120, 115, 110, 105, 130, 125, 120, 115, 150, 145, 140, 135] * 3 + [125, 120, 115, 110]}\n",
        "\n",
        "df = pd.DataFrame(data)\n",
        "\n",
        "# Perform the repeated measures ANOVA\n",
        "repeated_measures_anova = sm.stats.multicomp.MultiComparison(df.groupby('Store')['Sales'].mean(), method='repeated')\n",
        "result = repeated_measures_anova.tukeyhsd()\n",
        "\n",
        "# Print the results\n",
        "print(result)"
      ],
      "metadata": {
        "id": "-x8iqPPCAhYs"
      },
      "execution_count": null,
      "outputs": []
    }
  ]
}
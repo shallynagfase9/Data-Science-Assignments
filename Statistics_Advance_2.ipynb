{
  "nbformat": 4,
  "nbformat_minor": 0,
  "metadata": {
    "colab": {
      "provenance": [],
      "authorship_tag": "ABX9TyNR8ht5LqycaBxGl8YZaRDF",
      "include_colab_link": true
    },
    "kernelspec": {
      "name": "python3",
      "display_name": "Python 3"
    },
    "language_info": {
      "name": "python"
    }
  },
  "cells": [
    {
      "cell_type": "markdown",
      "metadata": {
        "id": "view-in-github",
        "colab_type": "text"
      },
      "source": [
        "<a href=\"https://colab.research.google.com/github/shallynagfase9/Data-Science-Assignments/blob/main/Statistics_Advance_2.ipynb\" target=\"_parent\"><img src=\"https://colab.research.google.com/assets/colab-badge.svg\" alt=\"Open In Colab\"/></a>"
      ]
    },
    {
      "cell_type": "code",
      "execution_count": null,
      "metadata": {
        "id": "w4SqdHwjtGFk"
      },
      "outputs": [],
      "source": [
        "# Q1: What are the Probability Mass Function (PMF) and Probability Density Function (PDF)? Explain with an example.\n",
        "\"\"\"\n",
        "The PMF is used for discrete random variables, which can take on only specific, distinct values.\n",
        "For example, the number of heads obtained when flipping a coin five times is a discrete random variable.\n",
        "\n",
        "The PDF, on the other hand, is used for continuous random variables, which can take on any value within a certain range.\n",
        "For example, the height of a randomly selected adult is a continuous random variable.\n",
        "\"\"\""
      ]
    },
    {
      "cell_type": "code",
      "source": [
        "# Q2: What is Cumulative Density Function (CDF)? Explain with an example. Why CDF is used?\n",
        "\"\"\"\n",
        "The Cumulative Distribution Function (CDF) is a function that describes the probabilities of a random variable having values less than or equal to a given value x.\n",
        "It is defined as the probability that the random variable X takes on a value less than or equal to x, i.e., F(x) = P(X ≤ x).\n",
        "The CDF is a cumulative function that gives the total probability of all values less than or equal to x.\n",
        "\n",
        "For example, if we roll a die, the probability of obtaining a value less than or equal to 2 is 33.33% (=1/6 + 1/6) because there are two possible ways to get a 1 or 2 (the rolls giving a 1 or 2).\n",
        "Similarly, the CDF of 6 is 100% because the probability of getting a 6 or less is 100%.\n",
        "\n",
        "The CDF is used to find the probability of a random variable taking on values within a certain range. For discrete distributions, the CDF gives the probability values till the specified value,\n",
        "while for continuous distributions, it gives the area under the probability density function up to the given value specified."
      ],
      "metadata": {
        "id": "t8mRqP6Rti6I"
      },
      "execution_count": null,
      "outputs": []
    },
    {
      "cell_type": "code",
      "source": [
        "# Q3: What are some examples of situations where the normal distribution might be used as a model? Explain how the parameters of the normal distribution relate to the shape of the distribution.\n",
        "\"\"\"\n",
        "The normal distribution is a symmetric distribution, meaning that the data is equally likely to be above or below the mean. In fact, the mean, median, and mode are all equal in a normal distribution.\n",
        "The normal distribution is also a continuous distribution, meaning that the data can take on any value within a certain range.\n",
        "The normal distribution is often used in statistics because it has many useful properties. For example, the normal distribution is completely determined by its mean and standard deviation,\n",
        "and the distribution is stable under various transformations such as addition, subtraction, multiplication, and division. This means that if we have two normal distributions with the same mean\n",
        "and standard deviation, then their sum, difference, product, or quotient will also be a normal distribution with the same mean and standard deviation.\n",
        "In summary, the normal distribution is a continuous probability distribution that is often used to model real-world phenomena. The shape of the distribution is determined by the mean and\n",
        "standard deviation, and the distribution is symmetric and stable under various transformations. The normal distribution is also important because of the central limit theorem,\n",
        "which allows us to use the normal distribution to model the sum of many random variables.\n",
        "\"\"\""
      ],
      "metadata": {
        "id": "mB15HyXQt66A"
      },
      "execution_count": null,
      "outputs": []
    },
    {
      "cell_type": "code",
      "source": [
        "# Q4: Explain the importance of Normal Distribution. Give a few real-life examples of Normal Distribution.\n",
        "\"\"\"\n",
        "The normal distribution is a symmetric distribution, meaning that the data is equally likely to be above or below the mean.\n",
        "In a normal distribution, the mean, median, and mode are all equal, and the distribution is symmetric around the mean. The normal distribution is also a continuous distribution,\n",
        "meaning that the data can take on any value within a certain range.\n",
        "The normal distribution is important for several reasons.\n",
        "First, it is a theoretical distribution for continuous variables, meaning that it can be used to model the distribution of continuous variables in real-world situations.\n",
        "Second, it has the property of central tendency, meaning that most observations cluster around the central peak.\n",
        "Third, it has the property of symmetry, meaning that the probabilities for values further away from the mean taper off equally in both directions.\n",
        "Fourth, it has the property of unimodality, meaning that there is only one maximum point of the normal curve, which occurs at the mean.\n",
        "Fifth, the total area of the normal curve is 1, with the area to the left and the area to the right of the curve being 0.5.\n",
        "\"\"\""
      ],
      "metadata": {
        "id": "ZwIWKfyUueCH"
      },
      "execution_count": null,
      "outputs": []
    },
    {
      "cell_type": "code",
      "source": [
        "# Q5: What is Bernaulli Distribution? Give an Example. What is the difference between Bernoulli Distribution and Binomial Distribution?\n",
        "\"\"\"\n",
        "Bernoulli Distribution: Describes a single trial with two possible outcomes (success and failure) and one parameter (p).\n",
        "Binomial Distribution: Describes the number of successes in a fixed number of independent trials with the same probability of success, involving two parameters (n and p).\n",
        "Therefore, the Bernoulli distribution is a special case of the binomial distribution where only one trial is conducted.\n",
        "\"\"\""
      ],
      "metadata": {
        "id": "LV9zmbU-u6ux"
      },
      "execution_count": null,
      "outputs": []
    },
    {
      "cell_type": "code",
      "source": [
        "# Q6. Consider a dataset with a mean of 50 and a standard deviation of 10. If we assume that the dataset is normally distributed, what is the probability that a randomly selected observation will be greater than 60? Use the appropriate formula and show your calculations.\n",
        "\"\"\"\n",
        "To find the probability that a randomly selected observation from a dataset with a mean of 50 and a standard deviation of 10 is greater than 60, we can use the z-score formula:\n",
        "z = (X - μ) / σ\n",
        "where X is the observation, μ is the mean, and σ is the standard deviation.\n",
        "In this case, X = 60, μ = 50, and σ = 10, so:\n",
        "z = (60 - 50) / 10\n",
        "z = 1\n",
        "Now, we can use a standard normal distribution table or calculator to find the probability that a standard normal random variable (Z) is greater than 1.\n",
        "According to the table or calculator, the probability is approximately 0.1587 or 15.87%.\n",
        "Therefore, the probability that a randomly selected observation from this dataset is greater than 60 is approximately 15.87%.\n",
        "\"\"\""
      ],
      "metadata": {
        "id": "NJcL7yhavIGB"
      },
      "execution_count": null,
      "outputs": []
    },
    {
      "cell_type": "code",
      "source": [
        "# Q7: Explain uniform Distribution with an example.\n",
        "\"\"\"\n",
        "Uniform Distribution is a continuous probability distribution where all outcomes have an equal likelihood of occurring.\n",
        "It is also known as the rectangular distribution because of its shape in probability distribution plots. Uniform distributions come in both discrete and continuous varieties of probability distributions.\n",
        "The uniform distribution is defined by two parameters, a and b, which represent the smallest and largest values in the distribution. The mean of a uniform random variable X is (a + b) / 2,\n",
        "and the variance is (b - a)^2 / 12.\n",
        "Examples of uniform distribution include rolling dice and coin tosses, the probability of drawing any card from a deck of cards, random sampling, p-values in hypothesis tests, random number generators,\n",
        "and radioactive decay of particles over time.\n",
        "\"\"\"\n"
      ],
      "metadata": {
        "id": "Oe-aoc7gvbeX"
      },
      "execution_count": null,
      "outputs": []
    },
    {
      "cell_type": "code",
      "source": [
        "# Q8: What is the z score? State the importance of the z score.\n",
        "\"\"\"\n",
        "The Z-score is a statistical measurement that indicates the number of standard deviations an observation is from the mean of a normal distribution.\n",
        "It is calculated by subtracting the mean from the observation and then dividing by the standard deviation. The resulting value is the Z-score.\n",
        "The importance of the Z-score lies in its ability to provide a standardized measure of how far an observation is from the mean, regardless of the original unit of measurement.\n",
        "This allows for comparisons to be made across different datasets and variables, making it a valuable tool in statistical analysis.\n",
        "\"\"'"
      ],
      "metadata": {
        "id": "qnbNbY9avwAP"
      },
      "execution_count": null,
      "outputs": []
    },
    {
      "cell_type": "code",
      "source": [
        "# Q9: What is Central Limit Theorem? State the significance of the Central Limit Theorem.\n",
        "\"\"\"\n",
        "The Central Limit Theorem (CLT) is a fundamental concept in statistics and probability theory that states that when independent random variables are added together,\n",
        "their sum tends to follow a normal distribution (also known as a Gaussian distribution) regardless of the original distribution of the individual variables, under certain conditions.\n",
        "The CLT is crucial for inferential statistics because it allows us to make inferences about population parameters based on samples, providing a solid foundation for constructing confidence intervals and performing hypothesis tests, making statistical estimates more reliable and accurate.\n",
        " It also simplifies complex distributions, making statistical analysis more manageable and feasible, and serves as a basis for hypothesis testing, allowing the application of statistical tests even when dealing with non-normally distributed populations, provided the sample size is large enough.\n",
        "\"\"\"\n"
      ],
      "metadata": {
        "id": "b9wbYSkwv7sv"
      },
      "execution_count": null,
      "outputs": []
    },
    {
      "cell_type": "code",
      "source": [
        "# Q10: State the assumptions of the Central Limit Theorem.\n",
        "\"\"\"\n",
        "The Central Limit Theorem (CLT) is a fundamental concept in statistics that states that the distribution of sample means approaches a normal distribution as the sample size increases,\n",
        "regardless of the shape of the underlying population distribution. The CLT has several assumptions, including that the data must adhere to the randomization rule, the samples should be unrelated to one another,\n",
        "and when taking samples without replacement, the sample size should not exceed 10% of the population. The sample size of 30 is considered sufficient to see the effect of the CLT, and the mean and standard deviation of the sample mean are denoted as and , respectively.\n",
        "The CLT has several applications, including political/election polling and census fields, and is a crucial pillar of statistics and machine learning. The CLT is used to estimate the mean of a population based on a sufficiently large sample size, and the distribution of sample means\n",
        "approaches a normal distribution as the sample size increases.\n",
        "The CLT is a powerful tool in statistics, and understanding its assumptions and applications is essential for data analysis and interpretation.\n",
        "\"\"\""
      ],
      "metadata": {
        "id": "S53zl_TtwbZy"
      },
      "execution_count": null,
      "outputs": []
    },
    {
      "cell_type": "code",
      "source": [],
      "metadata": {
        "id": "XGY1KiAYwuM3"
      },
      "execution_count": null,
      "outputs": []
    }
  ]
}
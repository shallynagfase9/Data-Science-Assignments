{
  "nbformat": 4,
  "nbformat_minor": 0,
  "metadata": {
    "colab": {
      "provenance": [],
      "authorship_tag": "ABX9TyNC6rwJ/P4xaEssSjrqifow",
      "include_colab_link": true
    },
    "kernelspec": {
      "name": "python3",
      "display_name": "Python 3"
    },
    "language_info": {
      "name": "python"
    }
  },
  "cells": [
    {
      "cell_type": "markdown",
      "metadata": {
        "id": "view-in-github",
        "colab_type": "text"
      },
      "source": [
        "<a href=\"https://colab.research.google.com/github/shallynagfase9/Data-Science-Assignments/blob/main/Flask_assgmt.ipynb\" target=\"_parent\"><img src=\"https://colab.research.google.com/assets/colab-badge.svg\" alt=\"Open In Colab\"/></a>"
      ]
    },
    {
      "cell_type": "code",
      "execution_count": null,
      "metadata": {
        "id": "60P2YcnLZLTB"
      },
      "outputs": [],
      "source": [
        "# Q1. What is Flask Framework? What are the advantages of Flask Framework?\n",
        "'''\n",
        "Flask is a micro web framework written in Python, designed to be a minimalist, flexible, and user-friendly framework for building web applications.\n",
        "\n",
        "Some of the advantages of the Flask framework include:\n",
        "1. Scalable: Flask's status as a microframework allows for quick growth of tech projects, making it ideal for apps that start small but have the potential to grow rapidly\n",
        "2. Flexible: Flask provides a great deal of freedom and control over application development, making it suitable for small and medium-sized projects\n",
        "3. Easy to Understand Development: It is easy to understand, making it ideal for beginners. Its simplicity gives developers the opportunity to navigate around and\n",
        "create applications easily, allowing for full creative control"
      ]
    },
    {
      "cell_type": "code",
      "source": [
        "# Q2. Create a simple Flask application to display ‘Hello World!!’. Attach the screenshot of the output in Jupyter notebook.\n",
        "from flask import Flask\n",
        "\n",
        "app = Flask(__name__)\n",
        "\n",
        "@app.route('/')\n",
        "def hello_world():\n",
        "    return 'Hello World!!'\n",
        "\n",
        "if __name__ == '__main__':\n",
        "    app.run()"
      ],
      "metadata": {
        "colab": {
          "base_uri": "https://localhost:8080/"
        },
        "id": "Me6rq7k4Zqy_",
        "outputId": "d15375c0-5363-450e-8c92-478cda987425"
      },
      "execution_count": null,
      "outputs": [
        {
          "output_type": "stream",
          "name": "stdout",
          "text": [
            " * Serving Flask app '__main__'\n",
            " * Debug mode: off\n"
          ]
        },
        {
          "output_type": "stream",
          "name": "stderr",
          "text": [
            "INFO:werkzeug:\u001b[31m\u001b[1mWARNING: This is a development server. Do not use it in a production deployment. Use a production WSGI server instead.\u001b[0m\n",
            " * Running on http://127.0.0.1:5000\n",
            "INFO:werkzeug:\u001b[33mPress CTRL+C to quit\u001b[0m\n"
          ]
        }
      ]
    },
    {
      "cell_type": "code",
      "source": [
        "# Q3. What is App routing in Flask? Why do we use app routes?\n",
        "\"\"\"\n",
        "App routing in Flask is the process of mapping specific URLs to associated functions that perform specific tasks.\n",
        "It is used to access a particular page or resource in a web application.\n",
        "In Flask, app routing is achieved using the route() decorator method of the Flask application instance to define routes and bind them to appropriate view functions.\n",
        "App routing is important in Flask because it determines how incoming requests are handled based on the URL a user has requested.\n",
        "By defining routes and mapping them to view functions, developers can handle incoming requests and generate appropriate responses.\n",
        "Flask allows developers to create dynamic URL patterns by using variables in the URL,\n",
        "making the application more flexible and adaptable.\n",
        "\"\"\""
      ],
      "metadata": {
        "id": "B3Bm9dGLaChg"
      },
      "execution_count": null,
      "outputs": []
    },
    {
      "cell_type": "code",
      "source": [
        "\"\"\"\n",
        "Q4. Create a “/welcome” route to display the welcome message “Welcome to ABC Corporation” and a “/”\n",
        "route to show the following details:\n",
        "Company Name: ABC Corporation\n",
        "Location: India\n",
        "Contact Detail: 999-999-9999\n",
        "\"\"\"\n",
        "\n",
        "from flask import Flask, render_template\n",
        "\n",
        "app = Flask(__name__)\n",
        "\n",
        "@app.route(\"/\")\n",
        "def home():\n",
        "    company_details = {\n",
        "        \"company\": \"ABC Corporation\",\n",
        "        \"location\": \"India\",\n",
        "        \"contact\": \"999-999-9999\"\n",
        "    }\n",
        "    return render_template(\"home.html\", data=company_details)\n",
        "\n",
        "@app.route(\"/welcome\")\n",
        "def welcome():\n",
        "    return \"Welcome to {} Corporation\".format(company_details[\"company\"])\n",
        "\n"
      ],
      "metadata": {
        "id": "AJmMR1-ZasPb"
      },
      "execution_count": null,
      "outputs": []
    },
    {
      "cell_type": "code",
      "source": [
        "# Q5. What function is used in Flask for URL Building? Write a Python code to demonstrate the working of the url_for() function.\n",
        "from flask import Flask, url_for\n",
        "\n",
        "app = Flask(__name__)\n",
        "\n",
        "@app.route(\"/\")\n",
        "def index():\n",
        "    return \"<a href='{}'>Click here to go to Welcome Page</a>\".format(url_for('welcome'))\n",
        "\n",
        "@app.route(\"/welcome\")\n",
        "def welcome():\n",
        "    return \"Welcome to ABC Corporation\"\n",
        "\n",
        "if __name__ == \"__main__\":\n",
        "    app.run()"
      ],
      "metadata": {
        "id": "keXNZnyVbfsJ"
      },
      "execution_count": null,
      "outputs": []
    }
  ]
}
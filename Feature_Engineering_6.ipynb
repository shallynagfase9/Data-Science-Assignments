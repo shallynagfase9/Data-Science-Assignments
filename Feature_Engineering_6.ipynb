{
  "nbformat": 4,
  "nbformat_minor": 0,
  "metadata": {
    "colab": {
      "provenance": [],
      "authorship_tag": "ABX9TyPRk77b87NOtbnKKEsjkxBJ",
      "include_colab_link": true
    },
    "kernelspec": {
      "name": "python3",
      "display_name": "Python 3"
    },
    "language_info": {
      "name": "python"
    }
  },
  "cells": [
    {
      "cell_type": "markdown",
      "metadata": {
        "id": "view-in-github",
        "colab_type": "text"
      },
      "source": [
        "<a href=\"https://colab.research.google.com/github/shallynagfase9/Data-Science-Assignments/blob/main/Feature_Engineering_6.ipynb\" target=\"_parent\"><img src=\"https://colab.research.google.com/assets/colab-badge.svg\" alt=\"Open In Colab\"/></a>"
      ]
    },
    {
      "cell_type": "code",
      "execution_count": 1,
      "metadata": {
        "colab": {
          "base_uri": "https://localhost:8080/",
          "height": 109
        },
        "id": "WItqUMck2cwb",
        "outputId": "15704624-8996-4a6e-9aa3-630ba376a0ff"
      },
      "outputs": [
        {
          "output_type": "stream",
          "name": "stdout",
          "text": [
            "Pearson correlation coefficient: 1.0\n"
          ]
        },
        {
          "output_type": "execute_result",
          "data": {
            "text/plain": [
              "'\\nInterpretation:\\n\\nThe Pearson correlation coefficient ranges from -1 to 1, where:\\n- A value of 1 indicates a perfect positive linear relationship.\\n- A value of -1 indicates a perfect negative linear relationship.\\n- A value of 0 indicates no linear relationship.\\n- In this example, the Pearson correlation coefficient is approximately 1.\\n- Interpretation: There is a strong positive linear relationship between the amount of time students spend studying for an exam and their final exam scores. \\n  As the amount of time spent studying increases, final exam scores tend to increase as well, and vice versa.\\n'"
            ],
            "application/vnd.google.colaboratory.intrinsic+json": {
              "type": "string"
            }
          },
          "metadata": {},
          "execution_count": 1
        }
      ],
      "source": [
        "\"\"\"\n",
        "Q1. Pearson correlation coefficient is a measure of the linear relationship between two variables. Suppose\n",
        "you have collected data on the amount of time students spend studying for an exam and their final exam\n",
        "scores. Calculate the Pearson correlation coefficient between these two variables and interpret the result.\n",
        "\"\"\"\n",
        "import numpy as np\n",
        "\n",
        "# Example data: time spent studying (in hours) and final exam scores\n",
        "time_spent_studying = np.array([10, 15, 20, 25, 30])  # Example data for time spent studying\n",
        "exam_scores = np.array([70, 75, 80, 85, 90])          # Example data for final exam scores\n",
        "\n",
        "# Calculate the Pearson correlation coefficient\n",
        "pearson_corr_coeff = np.corrcoef(time_spent_studying, exam_scores)[0, 1]\n",
        "\n",
        "# Print the Pearson correlation coefficient\n",
        "print(\"Pearson correlation coefficient:\", pearson_corr_coeff)\n",
        "\"\"\"\n",
        "Interpretation:\n",
        "\n",
        "The Pearson correlation coefficient ranges from -1 to 1, where:\n",
        "- A value of 1 indicates a perfect positive linear relationship.\n",
        "- A value of -1 indicates a perfect negative linear relationship.\n",
        "- A value of 0 indicates no linear relationship.\n",
        "- In this example, the Pearson correlation coefficient is approximately 1.\n",
        "- Interpretation: There is a strong positive linear relationship between the amount of time students spend studying for an exam and their final exam scores.\n",
        "  As the amount of time spent studying increases, final exam scores tend to increase as well, and vice versa.\n",
        "\"\"\""
      ]
    },
    {
      "cell_type": "code",
      "source": [
        "\"\"\"\n",
        "Q2. Spearman's rank correlation is a measure of the monotonic relationship between two variables.\n",
        "Suppose you have collected data on the amount of sleep individuals get each night and their overall job\n",
        "satisfaction level on a scale of 1 to 10. Calculate the Spearman's rank correlation between these two\n",
        "variables and interpret the result.\n",
        "\"\"\"\n",
        "from scipy.stats import spearmanr\n",
        "\n",
        "# Example data: amount of sleep and job satisfaction level\n",
        "amount_of_sleep = [7, 8, 6, 5, 9]      # Example data for amount of sleep\n",
        "job_satisfaction = [8, 7, 6, 5, 9]     # Example data for job satisfaction level\n",
        "\n",
        "# Calculate Spearman's rank correlation coefficient\n",
        "spearman_corr, p_value = spearmanr(amount_of_sleep, job_satisfaction)\n",
        "\n",
        "# Print the Spearman's rank correlation coefficient\n",
        "print(\"Spearman's rank correlation coefficient:\", spearman_corr)\n",
        "\n",
        "\"\"\"\n",
        "Interpretation:\n",
        "\n",
        "- The Spearman's rank correlation coefficient ranges from -1 to 1.\n",
        "- A value of 1 indicates a perfect monotonic (either strictly increasing or decreasing) relationship.\n",
        "- A value of -1 indicates a perfect monotonic relationship in the opposite direction.\n",
        "- A value of 0 indicates no monotonic relationship.\n",
        "In this example, the Spearman's rank correlation coefficient is approximately 0.9.\n",
        "\n",
        "\"\"\""
      ],
      "metadata": {
        "colab": {
          "base_uri": "https://localhost:8080/",
          "height": 91
        },
        "id": "r5Tqj-XO2-vh",
        "outputId": "2c5af84f-2bec-4b4d-cdd9-0cad9d22f6d4"
      },
      "execution_count": 4,
      "outputs": [
        {
          "output_type": "stream",
          "name": "stdout",
          "text": [
            "Spearman's rank correlation coefficient: 0.8999999999999998\n"
          ]
        },
        {
          "output_type": "execute_result",
          "data": {
            "text/plain": [
              "\"\\nInterpretation:\\n\\n- The Spearman's rank correlation coefficient ranges from -1 to 1.\\n- A value of 1 indicates a perfect monotonic (either strictly increasing or decreasing) relationship.\\n- A value of -1 indicates a perfect monotonic relationship in the opposite direction.\\n- A value of 0 indicates no monotonic relationship.\\nIn this example, the Spearman's rank correlation coefficient is approximately 0.9.\\n\\n\""
            ],
            "application/vnd.google.colaboratory.intrinsic+json": {
              "type": "string"
            }
          },
          "metadata": {},
          "execution_count": 4
        }
      ]
    },
    {
      "cell_type": "code",
      "source": [
        "\"\"\"\n",
        "Q3. Suppose you are conducting a study to examine the relationship between the number of hours of\n",
        "exercise per week and body mass index (BMI) in a sample of adults. You collected data on both variables\n",
        "for 50 participants. Calculate the Pearson correlation coefficient and the Spearman's rank correlation\n",
        "between these two variables and compare the results.\n",
        "\"\"\"\n",
        "import numpy as np\n",
        "from scipy.stats import pearsonr, spearmanr\n",
        "\n",
        "# Example data: number of hours of exercise per week and BMI\n",
        "hours_of_exercise = np.array([4, 5, 6, 3, 7, 5, 4, 6, 2, 5, 3, 7, 6, 4, 5, 2, 3, 6, 5, 4, 7, 6, 4, 5, 3, 2, 4, 6, 5, 3, 7, 6, 4, 5, 3, 2, 6, 5, 4, 7, 6, 4, 5, 3, 2, 6, 5, 4, 7])\n",
        "bmi = np.array([22, 25, 28, 20, 30, 24, 23, 27, 19, 26, 21, 31, 28, 22, 25, 18, 20, 29, 24, 22, 32, 28, 22, 25, 21, 18, 23, 27, 24, 20, 33, 29, 22, 25, 20, 17, 26, 24, 21, 34, 29, 22, 25, 19, 16, 27, 24, 20, 35])\n",
        "\n",
        "# Calculate Pearson correlation coefficient\n",
        "pearson_corr, _ = pearsonr(hours_of_exercise, bmi)\n",
        "\n",
        "# Calculate Spearman's rank correlation coefficient\n",
        "spearman_corr, _ = spearmanr(hours_of_exercise, bmi)\n",
        "\n",
        "# Print the results\n",
        "print(\"Pearson correlation coefficient:\", pearson_corr)\n",
        "print(\"Spearman's rank correlation coefficient:\", spearman_corr)\n"
      ],
      "metadata": {
        "colab": {
          "base_uri": "https://localhost:8080/"
        },
        "id": "1hhGHhXj3SY9",
        "outputId": "7e47756b-7f0c-4199-ce44-39ef01f7ad2a"
      },
      "execution_count": 6,
      "outputs": [
        {
          "output_type": "stream",
          "name": "stdout",
          "text": [
            "Pearson correlation coefficient: 0.960915764528256\n",
            "Spearman's rank correlation coefficient: 0.9806059819679961\n"
          ]
        }
      ]
    },
    {
      "cell_type": "code",
      "source": [
        "\"\"\"\n",
        "Q4. A researcher is interested in examining the relationship between the number of hours individuals\n",
        "spend watching television per day and their level of physical activity. The researcher collected data on\n",
        "both variables from a sample of 50 participants. Calculate the Pearson correlation coefficient between\n",
        "these two variables.\n",
        "\"\"\"\n",
        "import numpy as np\n",
        "\n",
        "# Example data: number of hours watching TV per day and level of physical activity\n",
        "hours_watching_tv = np.array([3, 2, 4, 5, 1, 2, 3, 4, 5, 2, 3, 1, 4, 2, 3, 5, 2, 1, 4, 3, 2, 1, 5, 4, 3, 2, 1, 4, 5, 3, 2, 1, 4, 5, 3, 2, 1, 4, 5, 3, 2, 1, 4, 5, 3, 2, 1, 4, 5])\n",
        "physical_activity = np.array([2, 3, 1, 4, 5, 2, 3, 1, 4, 5, 2, 3, 1, 4, 5, 2, 3, 1, 4, 5, 2, 3, 1, 4, 5, 2, 3, 1, 4, 5, 2, 3, 1, 4, 5, 2, 3, 1, 4, 5, 2, 3, 1, 4, 5, 2, 3, 1, 4])\n",
        "\n",
        "# Calculate the Pearson correlation coefficient\n",
        "pearson_corr = np.corrcoef(hours_watching_tv, physical_activity)[0, 1]\n",
        "\n",
        "# Print the Pearson correlation coefficient\n",
        "print(\"Pearson correlation coefficient:\", pearson_corr)\n"
      ],
      "metadata": {
        "colab": {
          "base_uri": "https://localhost:8080/"
        },
        "id": "WxjZuevv32t4",
        "outputId": "1b3c873a-5ed4-4b82-cb78-6ee7a4947c5c"
      },
      "execution_count": 8,
      "outputs": [
        {
          "output_type": "stream",
          "name": "stdout",
          "text": [
            "Pearson correlation coefficient: -0.02161022125120241\n"
          ]
        }
      ]
    },
    {
      "cell_type": "code",
      "source": [
        "\"\"\"\n",
        "Q5. A survey was conducted to examine the relationship between age and preference for a particular\n",
        "brand of soft drink. The survey results are shown below:\n",
        "Age(Years) - 25,42,37,19,31,28\n",
        "Soft drink Preference - Coke, Pepsi, Mountain dew, Coke, Pepsi, Coke\n",
        "\n",
        "\"\"\"\n",
        "\n",
        "from collections import Counter\n",
        "\n",
        "# Data preparation\n",
        "ages = [25, 42, 37, 19, 31, 28]\n",
        "preferences = ['Coke', 'Pepsi', 'Mountain Dew', 'Coke', 'Pepsi', 'Coke']\n",
        "\n",
        "# Analysis\n",
        "data = list(zip(ages, preferences))\n",
        "age_preference_counts = Counter(data)\n",
        "\n",
        "# Interpretation\n",
        "print(\"Age - Soft Drink Preference Counts:\")\n",
        "for key, value in age_preference_counts.items():\n",
        "    print(f\"Age: {key[0]}, Preference: {key[1]}, Count: {value}\")\n"
      ],
      "metadata": {
        "colab": {
          "base_uri": "https://localhost:8080/"
        },
        "id": "-PIaCULl4Fm1",
        "outputId": "7e254e5b-bf3c-4a7c-c7f8-bd009b37c0cf"
      },
      "execution_count": 9,
      "outputs": [
        {
          "output_type": "stream",
          "name": "stdout",
          "text": [
            "Age - Soft Drink Preference Counts:\n",
            "Age: 25, Preference: Coke, Count: 1\n",
            "Age: 42, Preference: Pepsi, Count: 1\n",
            "Age: 37, Preference: Mountain Dew, Count: 1\n",
            "Age: 19, Preference: Coke, Count: 1\n",
            "Age: 31, Preference: Pepsi, Count: 1\n",
            "Age: 28, Preference: Coke, Count: 1\n"
          ]
        }
      ]
    },
    {
      "cell_type": "code",
      "source": [
        "\"\"\"\n",
        "Q6. A company is interested in examining the relationship between the number of sales calls made per day\n",
        "and the number of sales made per week. The company collected data on both variables from a sample of\n",
        "30 sales representatives. Calculate the Pearson correlation coefficient between these two variables.\n",
        "\"\"\"\n",
        "import numpy as np\n",
        "\n",
        "# Example data: number of sales calls per day and number of sales per week\n",
        "sales_calls_per_day = np.array([20, 25, 30, 15, 22, 18, 27, 23, 19, 28, 16, 21, 24, 29, 17, 26, 20, 25, 30, 15, 22, 18, 27, 23, 19, 28, 16, 21, 24, 29])\n",
        "sales_per_week = np.array([5, 7, 9, 4, 6, 5, 8, 7, 5, 8, 4, 6, 7, 9, 4, 8, 5, 7, 9, 4, 6, 5, 8, 7, 5, 8, 4, 6, 7, 9])\n",
        "\n",
        "# Calculate the Pearson correlation coefficient\n",
        "pearson_corr = np.corrcoef(sales_calls_per_day, sales_per_week)[0, 1]\n",
        "\n",
        "# Print the Pearson correlation coefficient\n",
        "print(\"Pearson correlation coefficient:\", pearson_corr)\n"
      ],
      "metadata": {
        "colab": {
          "base_uri": "https://localhost:8080/"
        },
        "id": "3oBpHvxf4xOo",
        "outputId": "26a97743-1ba8-4d65-eed1-a029e8609c26"
      },
      "execution_count": 10,
      "outputs": [
        {
          "output_type": "stream",
          "name": "stdout",
          "text": [
            "Pearson correlation coefficient: 0.9866247153306918\n"
          ]
        }
      ]
    },
    {
      "cell_type": "code",
      "source": [],
      "metadata": {
        "id": "SlwqIT5h33e3"
      },
      "execution_count": null,
      "outputs": []
    }
  ]
}
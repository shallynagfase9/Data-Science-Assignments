{
  "nbformat": 4,
  "nbformat_minor": 0,
  "metadata": {
    "colab": {
      "provenance": [],
      "authorship_tag": "ABX9TyMBhJOPVQmCOP6IiidxjMwN",
      "include_colab_link": true
    },
    "kernelspec": {
      "name": "python3",
      "display_name": "Python 3"
    },
    "language_info": {
      "name": "python"
    }
  },
  "cells": [
    {
      "cell_type": "markdown",
      "metadata": {
        "id": "view-in-github",
        "colab_type": "text"
      },
      "source": [
        "<a href=\"https://colab.research.google.com/github/shallynagfase9/Data-Science-Assignments/blob/main/Statistics_Advance_3.ipynb\" target=\"_parent\"><img src=\"https://colab.research.google.com/assets/colab-badge.svg\" alt=\"Open In Colab\"/></a>"
      ]
    },
    {
      "cell_type": "code",
      "execution_count": null,
      "metadata": {
        "id": "xahjvbGPxAmo"
      },
      "outputs": [],
      "source": [
        "# Q1: What is Estimation Statistics? Explain point estimate and interval estimate.\n",
        "\"\"\"\n",
        "Estimation statistics is a branch of statistics that deals with estimating unknown parameters of a population based on a sample of data.\n",
        "\n",
        "It involves two types of estimation methods: point estimate and interval estimate.\n",
        "\n",
        "A point estimate is a single value that represents the best guess of the unknown population parameter based on the sample data.\n",
        "For example, if we want to estimate the average height of adults in a country, we can take a random sample of people and calculate the sample mean.\n",
        "This sample mean is the point estimate of the population mean.\n",
        "\n",
        "An interval estimate, on the other hand, is a range of values that contains the unknown population parameter with a certain level of confidence.\n",
        "It provides more information than a point estimate because it gives an idea of the variability or uncertainty of the estimate.\n",
        "For example, if we want to estimate the average height of adults in a country, we can construct a 95% confidence interval based on the sample mean and the sample standard deviation.\n",
        "This confidence interval means that if we repeat the sampling process many times, 95% of the intervals will contain the true population mean.\n",
        "\"\"\""
      ]
    },
    {
      "cell_type": "markdown",
      "source": [],
      "metadata": {
        "id": "8kmI8XPkxqpc"
      }
    },
    {
      "cell_type": "code",
      "source": [
        "# Q2. Write a Python function to estimate the population mean using a sample mean and standard deviation.\n",
        "import math\n",
        "\n",
        "def estimate_population_mean(sample_mean, sample_stddev, sample_size):\n",
        "\n",
        "    standard_error = sample_stddev / math.sqrt(sample_size)\n",
        "    estimated_population_mean = sample_mean\n",
        "\n",
        "    return estimated_population_mean\n",
        "\n",
        "sample_mean = 50\n",
        "sample_stddev = 10\n",
        "sample_size = 100\n",
        "\n",
        "estimated_population_mean = estimate_population_mean(sample_mean, sample_stddev, sample_size)\n",
        "\n",
        "print(\"Estimated population mean:\", estimated_population_mean)"
      ],
      "metadata": {
        "colab": {
          "base_uri": "https://localhost:8080/"
        },
        "id": "LURe9Q4ixk8w",
        "outputId": "7e4b4ea1-a076-4b12-fad0-a38b8cf4293c"
      },
      "execution_count": 1,
      "outputs": [
        {
          "output_type": "stream",
          "name": "stdout",
          "text": [
            "Estimated population mean: 50\n"
          ]
        }
      ]
    },
    {
      "cell_type": "code",
      "source": [
        "# Q3: What is Hypothesis testing? Why is it used? State the importance of Hypothesis testing.\n",
        "\"\"\"\n",
        "Hypothesis testing is an essential statistical technique used to assess the plausibility of a hypothesis by using sample data.\n",
        "It involves formulating two hypotheses: the null hypothesis and the alternative hypothesis.\n",
        "The null hypothesis assumes that there is no difference between two groups or conditions, while the alternative hypothesis assumes that there is a difference. Researchers evaluate the statistical significance of the test based on the probability that the null hypothesis is true.\n",
        "Hypothesis testing is used in various fields, including business, healthcare, academia, and quality improvement, to make data-driven decisions.\n",
        "It helps researchers make objective conclusions based on empirical data, supporting decision-making, adding scientific rigor to research, and contributing to the growth of knowledge in their respective fields.\n",
        "\"\"\""
      ],
      "metadata": {
        "colab": {
          "base_uri": "https://localhost:8080/",
          "height": 109
        },
        "id": "GflvrEjvx-id",
        "outputId": "cd36c2e0-70a9-4d1f-a4e5-0ad37c8a3dea"
      },
      "execution_count": 3,
      "outputs": [
        {
          "output_type": "execute_result",
          "data": {
            "text/plain": [
              "'\\nHypothesis testing is an essential statistical technique used to assess the plausibility of a hypothesis by using sample data. \\nIt involves formulating two hypotheses: the null hypothesis and the alternative hypothesis. The null hypothesis assumes that there is no difference between two groups or conditions, \\nwhile the alternative hypothesis assumes that there is a difference. Researchers evaluate the statistical significance of the test based on the probability that the null hypothesis is true.\\nHypothesis testing is used in various fields, including business, healthcare, academia, and quality improvement, to make data-driven decisions. \\nIt helps researchers make objective conclusions based on empirical data, supporting decision-making, adding scientific rigor to research, and contributing to the growth of knowledge in their respective fields.\\n'"
            ],
            "application/vnd.google.colaboratory.intrinsic+json": {
              "type": "string"
            }
          },
          "metadata": {},
          "execution_count": 3
        }
      ]
    },
    {
      "cell_type": "code",
      "source": [
        "# Q4. Create a hypothesis that states whether the average weight of male college students is greater than the average weight of female college students.\n",
        "\"\"\"\n",
        "Hypothesis: The average weight of male college students is greater than the average weight of female college students.\n",
        "This hypothesis can be tested using a statistical test, such as a t-test, to compare the mean weights of male and female college students. The null hypothesis would be that there is no difference in the average weights of male and female college students, while the alternative hypothesis would be that the average weight of male college students is greater than the average weight of female college students.\n",
        "The significance level, or alpha level, would need to be set before conducting the test. This is the probability of rejecting the null hypothesis when it is actually true. A common choice for the significance level is 0.05.\n",
        "The test statistic would then be calculated based on the sample data. This could be a t-statistic, which is calculated as the difference between the sample means divided by the standard error.\n",
        "The p-value would then be calculated based on the test statistic. This is the probability of obtaining a test statistic as extreme or more extreme than the one observed, assuming that the null hypothesis is true.\n",
        "If the p-value is less than the significance level, then the null hypothesis would be rejected in favor of the alternative hypothesis. This would provide evidence to support the hypothesis that the average weight of male college students is greater than the average weight of female college students.\n",
        "\"\"\"\n"
      ],
      "metadata": {
        "colab": {
          "base_uri": "https://localhost:8080/",
          "height": 109
        },
        "id": "FYohVnbAyOZ0",
        "outputId": "bbf62fef-a317-4a31-e335-6e645b0fb924"
      },
      "execution_count": 6,
      "outputs": [
        {
          "output_type": "execute_result",
          "data": {
            "text/plain": [
              "'\\nHypothesis: The average weight of male college students is greater than the average weight of female college students.\\nThis hypothesis can be tested using a statistical test, such as a t-test, to compare the mean weights of male and female college students. The null hypothesis would be that there is no difference in the average weights of male and female college students, while the alternative hypothesis would be that the average weight of male college students is greater than the average weight of female college students.\\nThe significance level, or alpha level, would need to be set before conducting the test. This is the probability of rejecting the null hypothesis when it is actually true. A common choice for the significance level is 0.05.\\nThe test statistic would then be calculated based on the sample data. This could be a t-statistic, which is calculated as the difference between the sample means divided by the standard error.\\nThe p-value would then be calculated based on the test statistic. This is the probability of obtaining a test statistic as extreme or more extreme than the one observed, assuming that the null hypothesis is true.\\nIf the p-value is less than the significance level, then the null hypothesis would be rejected in favor of the alternative hypothesis. This would provide evidence to support the hypothesis that the average weight of male college students is greater than the average weight of female college students.\\n'"
            ],
            "application/vnd.google.colaboratory.intrinsic+json": {
              "type": "string"
            }
          },
          "metadata": {},
          "execution_count": 6
        }
      ]
    },
    {
      "cell_type": "code",
      "source": [
        "# Q5. Write a Python script to conduct a hypothesis test on the difference between two population means, given a sample from each population.\n",
        "import numpy as np\n",
        "from scipy import stats\n",
        "sample1 = np.array([10, 12, 14, 16, 18])\n",
        "sample2 = np.array([8, 10, 12, 14])\n",
        "sample_mean1 = np.mean(sample1)\n",
        "sample_stddev1 = np.std(sample1, ddof=1)\n",
        "sample_mean2 = np.mean(sample2)\n",
        "sample_stddev2 = np.std(sample2, ddof=1)\n",
        "\n",
        "n1 = len(sample1)\n",
        "n2 = len(sample2)\n",
        "df = n1 + n2 - 2\n",
        "pooled_stddev = np.sqrt(((n1 - 1) * sample_stddev1**2 + (n2 - 1) * sample_stddev2**2) / df)\n",
        "t_statistic = (sample_mean1 - sample_mean2) / pooled_stddev\n",
        "\n",
        "alpha = 0.05\n",
        "df = n1 + n2 - 2\n",
        "\n",
        "critical_t_value = stats.t.ppf(1 - alpha/2, df)\n",
        "\n",
        "p_value = 2 * stats.t.cdf(-np.abs(t_statistic), df)\n",
        "\n",
        "print(\"Sample mean 1: {:.2f}\".format(sample_mean1))\n",
        "print(\"Sample mean 2: {:.2f}\".format(sample_mean2))\n",
        "print(\"Pooled standard deviation: {:.2f}\".format(pooled_stddev))\n",
        "print(\"T-statistic: {:.2f}\".format(t_statistic))\n",
        "print(\"Degrees of freedom: {:.0f}\".format(df))\n",
        "print(\"Critical t-value: {:.2f}\".format(critical_t_value))\n",
        "print(\"P-value: {:.4f}\".format(p_value))\n",
        "\n",
        "if p_value < alpha:\n",
        "    print(\"Reject the null hypothesis. There is evidence that the population means are different.\")\n",
        "else:\n",
        "    print(\"Fail to reject the null hypothesis. There is not enough evidence to conclude that the population means are different.\")\n"
      ],
      "metadata": {
        "colab": {
          "base_uri": "https://localhost:8080/"
        },
        "id": "J8eqEgppysme",
        "outputId": "16cfeada-4c38-4902-a01c-0a0f0ab47111"
      },
      "execution_count": 7,
      "outputs": [
        {
          "output_type": "stream",
          "name": "stdout",
          "text": [
            "Sample mean 1: 14.00\n",
            "Sample mean 2: 11.00\n",
            "Pooled standard deviation: 2.93\n",
            "T-statistic: 1.02\n",
            "Degrees of freedom: 7\n",
            "Critical t-value: 2.36\n",
            "P-value: 0.3396\n",
            "Fail to reject the null hypothesis. There is not enough evidence to conclude that the population means are different.\n"
          ]
        }
      ]
    },
    {
      "cell_type": "code",
      "source": [
        "# Q6: What is a null and alternative hypothesis? Give some examples.\n",
        "\"\"\"\n",
        "A null hypothesis (H0) is a statistical hypothesis that proposes there is no effect or no difference in the population.\n",
        "An alternative hypothesis (Ha or H1) is the opposite of the null hypothesis.\n",
        "\n",
        "Examples of Null and Alternative Hypotheses:\n",
        "Research Question: Does daily exercise reduce cholesterol levels?\n",
        "Null Hypothesis (H0): Daily exercise has no effect on cholesterol levels.\n",
        "Alternative Hypothesis (Ha): Daily exercise reduces cholesterol levels.\n",
        "\"\"\""
      ],
      "metadata": {
        "id": "IJ3t5UCqzKdw"
      },
      "execution_count": null,
      "outputs": []
    },
    {
      "cell_type": "code",
      "source": [
        "# Q7: Write down the steps involved in hypothesis testing.\n",
        "\"\"\"\n",
        "Hypothesis testing is a formal procedure for investigating ideas about the world using statistics. It involves the following steps:\n",
        "1. State the null and alternate hypotheses: After developing an initial research hypothesis, it is important to restate it as a null (H0) and alternate (Ha) hypothesis so that it can be tested mathematically.\n",
        "2. Collect data: It is important to collect data in a way that is designed to test the hypothesis. If the data are not representative, statistical inferences about the population cannot be made.\n",
        "3. Perform a statistical test: There are a variety of statistical tests available, but they are all based on the comparison of within-group variance (how spread out the data is within a category) versus between-group variance (how different the groups are from each other).\n",
        "4. Decide whether to reject or fail to reject the null hypothesis: Based on the outcome of the statistical test, a decision must be made whether to reject or fail to reject the null hypothesis.\n",
        "5. Present the findings: The results of hypothesis testing are presented in the results and discussion sections of a research paper, dissertation, or thesis.\n",
        "\"\"\""
      ],
      "metadata": {
        "id": "Rm-Usy7FzgpN"
      },
      "execution_count": null,
      "outputs": []
    },
    {
      "cell_type": "code",
      "source": [
        "# Q8. Define p-value and explain its significance in hypothesis testing.\n",
        "\"\"\"\n",
        "The p-value is a probability that represents the likelihood of obtaining the observed data or more extreme data under the assumption that the null hypothesis is true.\n",
        "In hypothesis testing, the p-value is used to determine whether to reject or fail to reject the null hypothesis.\n",
        "The smaller the p-value, the stronger the evidence against the null hypothesis.\n",
        "The significance of the p-value lies in its ability to help researchers determine the probability of their data occurring under the null hypothesis.\n",
        "A low p-value suggests that the data is unlikely to have occurred by chance and provides evidence against the null hypothesis.\n",
        "Conversely, a high p-value suggests that the data is likely to have occurred by chance and provides evidence in favor of the null hypothesis.\n",
        "\"\"\""
      ],
      "metadata": {
        "id": "R2ztBSWO0A-A"
      },
      "execution_count": null,
      "outputs": []
    },
    {
      "cell_type": "code",
      "source": [
        "# Q9. Generate a Student's t-distribution plot using Python's matplotlib library, with the degrees of freedom parameter set to 10.\n",
        "import numpy as np\n",
        "import matplotlib.pyplot as plt\n",
        "from scipy.stats import t\n",
        "x = np.linspace(-5, 5, 1000)\n",
        "\n",
        "df = 10\n",
        "y = t.pdf(x, df)\n",
        "plt.plot(x, y, label=f'Degrees of Freedom = {df}')\n",
        "plt.xlabel('x')\n",
        "plt.ylabel('PDF')\n",
        "plt.title('Student\\'s t-Distribution with Degrees of Freedom 10')\n",
        "plt.legend()\n",
        "plt.show()\n"
      ],
      "metadata": {
        "colab": {
          "base_uri": "https://localhost:8080/",
          "height": 472
        },
        "id": "tMB4FMEL0Ort",
        "outputId": "604ce143-c3a3-437a-c201-c06026e660cd"
      },
      "execution_count": 8,
      "outputs": [
        {
          "output_type": "display_data",
          "data": {
            "text/plain": [
              "<Figure size 640x480 with 1 Axes>"
            ],
            "image/png": "[encoded data removed]"
          },
          "metadata": {}
        }
      ]
    },
    {
      "cell_type": "code",
      "source": [
        "# Q10. Write a Python program to calculate the two-sample t-test for independent samples, given two random samples of equal size and a null hypothesis that the population means are equal.\n",
        "import numpy as np\n",
        "from scipy.stats import ttest_ind\n",
        "\n",
        "sample1 = np.random.normal(loc=50, scale=10, size=100)\n",
        "sample2 = np.random.normal(loc=55, scale=12, size=100)\n",
        "\n",
        "t_statistic, p_value = ttest_ind(sample1, sample2)\n",
        "\n",
        "alpha = 0.05\n",
        "\n",
        "print(\"Two-Sample T-Test Results:\")\n",
        "print(\"T-Statistic:\", t_statistic)\n",
        "print(\"P-Value:\", p_value)\n",
        "\n",
        "if p_value < alpha:\n",
        "    print(\"Reject the null hypothesis. There is evidence that the population means are different.\")\n",
        "else:\n",
        "    print(\"Fail to reject the null hypothesis. There is not enough evidence to conclude that the population means are different.\")"
      ],
      "metadata": {
        "colab": {
          "base_uri": "https://localhost:8080/"
        },
        "id": "3xWFYjvW0cvU",
        "outputId": "9f299fb9-19e7-4271-d556-1fd590bbdfe0"
      },
      "execution_count": 9,
      "outputs": [
        {
          "output_type": "stream",
          "name": "stdout",
          "text": [
            "Two-Sample T-Test Results:\n",
            "T-Statistic: -2.979963897255152\n",
            "P-Value: 0.003243832840317331\n",
            "Reject the null hypothesis. There is evidence that the population means are different.\n"
          ]
        }
      ]
    },
    {
      "cell_type": "code",
      "source": [
        "# Q11: What is Student’s t distribution? When to use the t-Distribution.\n",
        "\"\"\"\n",
        "Student's t-distribution is a continuous probability distribution that generalizes the standard normal distribution. It is used in a number of widely used statistical analyses, including Student's t-test for assessing the statistical significance of the difference between two sample means,\n",
        "the construction of confidence intervals for the difference between two population means, and in linear regression analysis.\n",
        "\n",
        "It is used in situations where the standard deviation of the population is unknown and the sample size is small.\n",
        "The t-distribution is used in hypothesis testing to test whether the population mean is different from a hypothesized value.\n",
        "\n",
        "\"\"\""
      ],
      "metadata": {
        "id": "vNJ4xblr0nkl"
      },
      "execution_count": null,
      "outputs": []
    },
    {
      "cell_type": "code",
      "source": [
        "# Q12: What is t-statistic? State the formula for t-statistic.\n",
        "\"\"\"\n",
        "The t-statistic is a statistical measure used to determine whether there is a significant difference between the means of two groups or samples.\n",
        "It is a ratio of the difference between the means to the standard error of the difference, which is a measure of the variability of the difference between the means.\n",
        "The formula for the t-statistic is:\n",
        "t = (x̄1 - x̄2) / √[(s1² / n1) + (s2² / n2)]\n",
        "\"\"\""
      ],
      "metadata": {
        "id": "Z7LIYPVq0-FN"
      },
      "execution_count": null,
      "outputs": []
    },
    {
      "cell_type": "code",
      "source": [
        "# Q13. A coffee shop owner wants to estimate the average daily revenue for their shop. They take a random sample of 50 days and find the sample mean revenue to be $500 with a standard deviation of $50. Estimate the population mean revenue with a 95% confidence interval.\n",
        "\"\"\"\n",
        "To estimate the population mean revenue with a 95% confidence interval, we can use the following formula:\n",
        "CI = x̄ ± t*(s/√n)\n",
        "where x̄ is the sample mean, t is the critical value from the t-distribution with (n-1) degrees of freedom, s is the standard deviation, and n is the sample size.\n",
        "Using the given information, we have:\n",
        "x̄ = $500\n",
        "s = $50\n",
        "n = 50\n",
        "The degrees of freedom, df, is equal to n-1, which is 49.\n",
        "To find the critical value, we need to find the t-value that corresponds to a 95% confidence level with 49 degrees of freedom. Using a t-distribution table or calculator, we can find that the critical value is approximately 2.009.\n",
        "Now, we can plug in the values into the formula:\n",
        "CI = $500 ± 2.009*(50/√50)\n",
        "CI = $500 ± $44.75\n",
        "Therefore, the 95% confidence interval for the population mean revenue is ($455.25, $544.75).\n",
        "This means that we can be 95% confident that the true population mean revenue falls within this interval. If we were to take multiple samples of size 50 and calculate a confidence interval for each sample, we would expect 95% of those intervals to contain the true population mean revenue.\n",
        "\"\"\""
      ],
      "metadata": {
        "id": "m7Qz_fhc1Ltl"
      },
      "execution_count": null,
      "outputs": []
    },
    {
      "cell_type": "code",
      "source": [
        "# Q14. A researcher hypothesizes that a new drug will decrease blood pressure by 10 mmHg. They conduct a clinical trial with 100 patients and find that the sample mean decrease in blood pressure is 8 mmHg with a standard deviation of 3 mmHg. Test the hypothesis with a significance level of 0.05.\n",
        "\"\"\"\n",
        "To test the hypothesis that a new drug decreases blood pressure by 10 mmHg, we can conduct a hypothesis test using the sample data provided. Here are the steps to test the hypothesis with a significance level of 0.05:\n",
        "Formulate the Hypotheses:\n",
        "Null Hypothesis (H0): The new drug does not decrease blood pressure by 10 mmHg (μ = 10).\n",
        "Alternative Hypothesis (Ha): The new drug decreases blood pressure by 10 mmHg (μ < 10).\n",
        "Calculate the Test Statistic:\n",
        "Given:\n",
        "Sample Mean (x̄) = 8 mmHg\n",
        "Standard Deviation (s) = 3 mmHg\n",
        "Sample Size (n) = 100\n",
        "The test statistic for a one-sample t-test is calculated as:\n",
        "t = (x̄ - μ) / (s / √n)\n",
        "Determine the Critical Value:\n",
        "With a significance level of 0.05 and degrees of freedom (df) = n - 1 = 99, the critical value can be found from a t-distribution table or calculator.\n",
        "Make a Decision:\n",
        "Compare the calculated t-value to the critical value:\n",
        "If the calculated t-value is less than the critical value, reject the null hypothesis.\n",
        "If the calculated t-value is greater than or equal to the critical value, fail to reject the null hypothesis.\n",
        "By following these steps, the researcher can determine whether there is enough evidence to conclude that the new drug decreases blood pressure by 10 mmHg at a significance level of 0.05.\n",
        "\n",
        "\"\"\""
      ],
      "metadata": {
        "id": "tkaetOFJ1ch_"
      },
      "execution_count": null,
      "outputs": []
    },
    {
      "cell_type": "code",
      "source": [
        "# Q15. An electronics company produces a certain type of product with a mean weight of 5 pounds and a standard deviation of 0.5 pounds. A random sample of 25 products is taken, and the sample mean weight is found to be 4.8 pounds. Test the hypothesis that the true mean weight of the products is less than 5 pounds with a significance level of 0.01.\n",
        "\"\"\"\n",
        "Formulate the Hypotheses:\n",
        "Null Hypothesis (H0): The true mean weight of the products is 5 pounds (μ = 5).\n",
        "Alternative Hypothesis (Ha): The true mean weight of the products is less than 5 pounds (μ < 5).\n",
        "Calculate the Test Statistic:\n",
        "Given:\n",
        "Sample Mean (x̄) = 4.8 pounds\n",
        "Standard Deviation (s) = 0.5 pounds\n",
        "Sample Size (n) = 25\n",
        "The test statistic for a one-sample t-test is calculated as:\n",
        "t = (x̄ - μ) / (s / √n)\n",
        "Determine the Critical Value:\n",
        "With a significance level of 0.01 and degrees of freedom (df) = n - 1 = 24, the critical value can be found from a t-distribution table or calculator for a one-tailed test.\n",
        "Make a Decision:\n",
        "Compare the calculated t-value to the critical value:\n",
        "If the calculated t-value is less than the critical value, reject the null hypothesis.\n",
        "If the calculated t-value is greater than or equal to the critical value, fail to reject the null hypothesis.\n",
        "By following these steps, the electronics company can determine whether there is enough evidence to conclude that the true mean weight of the products is less than 5 pounds at a significance level of 0.01.\n",
        "\"\"\""
      ],
      "metadata": {
        "id": "nUwxULZF1qpF"
      },
      "execution_count": null,
      "outputs": []
    },
    {
      "cell_type": "code",
      "source": [
        "# Q16. Two groups of students are given different study materials to prepare for a test. The first group (n1 =30) has a mean score of 80 with a standard deviation of 10, and the second group (n2 = 40) has a mean score of 75 with a standard deviation of 8. Test the hypothesis.\n",
        "\"\"\"\n",
        "Formulate the Hypotheses:\n",
        "Null Hypothesis (H0): The mean scores of the two groups are equal (μ1 = μ2).\n",
        "Alternative Hypothesis (Ha): The mean scores of the two groups are not equal (μ1 ≠ μ2).\n",
        "Calculate the Test Statistic:\n",
        "Given:\n",
        "Group 1: n1 = 30, x̄1 = 80, s1 = 10\n",
        "Group 2: n2 = 40, x̄2 = 75, s2 = 8\n",
        "The test statistic for a two-sample t-test with equal variances is calculated as:\n",
        "t = (x̄1 - x̄2) / √((s1^2/n1) + (s2^2/n2))\n",
        "Determine the Degrees of Freedom:\n",
        "Degrees of freedom (df) can be calculated using the formula:\n",
        "df = (s1^2/n1 + s2^2/n2)^2 / {[(s1^2/n1)^2 / (n1 - 1)] + [(s2^2/n2)^2 / (n2 - 1)]}\n",
        "Find the Critical Value:\n",
        "With the degrees of freedom calculated, the critical value can be determined based on the significance level and the type of test (two-tailed in this case).\n",
        "Make a Decision:\n",
        "Compare the calculated t-value to the critical value:\n",
        "If the calculated t-value falls within the critical region, reject the null hypothesis.\n",
        "If the calculated t-value does not fall within the critical region, fail to reject the null hypothesis.\n",
        "By following these steps, the hypothesis regarding the mean scores of the two groups of students can be tested to determine if there is a statistically significant difference between them.\n",
        "\"\"\""
      ],
      "metadata": {
        "id": "sARUxGv917vl"
      },
      "execution_count": null,
      "outputs": []
    },
    {
      "cell_type": "code",
      "source": [
        "# Q17. A marketing company wants to estimate the average number of ads watched by viewers during a TV program. They take a random sample of 50 viewers and find that the sample mean is 4 with a standard deviation of 1.5. Estimate the population mean with a 99% confidence interval.\n",
        "\"\"\"\n",
        "To estimate the population mean with a 99% confidence interval, we need to calculate the margin of error using the formula:\n",
        "Margin of Error = Z*(Standard Deviation/√Sample Size)\n",
        "where Z is the Z-score corresponding to the desired confidence level. In this case, the confidence level is 99%, so the Z-score is 2.576 (from the standard normal distribution table).\n",
        "Plugging in the values given in the question, we get:\n",
        "Margin of Error = 2.576*(1.5/√50) ≈ 0.505\n",
        "The margin of error is approximately 0.505.\n",
        "To calculate the confidence interval, we add and subtract the margin of error from the sample mean:\n",
        "Confidence Interval = Sample Mean ± Margin of Error\n",
        "Confidence Interval = 4 ± 0.505\n",
        "The 99% confidence interval for the population mean is (3.495, 4.505).\n",
        "Therefore, we can estimate the population mean with a 99% confidence interval to be between 3.495 and 4.505.\n",
        "\"\"\""
      ],
      "metadata": {
        "id": "AAUHyM2V2IhN"
      },
      "execution_count": null,
      "outputs": []
    }
  ]
}
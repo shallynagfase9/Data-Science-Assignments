{
  "nbformat": 4,
  "nbformat_minor": 0,
  "metadata": {
    "colab": {
      "provenance": [],
      "authorship_tag": "ABX9TyOuWkBXE5GIV0uBH9N3xrZp",
      "include_colab_link": true
    },
    "kernelspec": {
      "name": "python3",
      "display_name": "Python 3"
    },
    "language_info": {
      "name": "python"
    }
  },
  "cells": [
    {
      "cell_type": "markdown",
      "metadata": {
        "id": "view-in-github",
        "colab_type": "text"
      },
      "source": [
        "<a href=\"https://colab.research.google.com/github/shallynagfase9/Data-Science-Assignments/blob/main/Statistics_Advance_4_Assignment.ipynb\" target=\"_parent\"><img src=\"https://colab.research.google.com/assets/colab-badge.svg\" alt=\"Open In Colab\"/></a>"
      ]
    },
    {
      "cell_type": "code",
      "execution_count": null,
      "metadata": {
        "id": "5gqKwn0mwC74"
      },
      "outputs": [],
      "source": [
        "# Q1: What is the difference between a t-test and a z-test? Provide an example scenario where you would use each type of test.\n",
        "\"\"\"\n",
        "A t-test and a z-test are both statistical methods used for hypothesis testing, but they differ in their applications and assumptions.\n",
        "A t-test is used to compare means of two groups when the sample size is small or population variance is unknown,\n",
        "while a z-test is used when the sample size is large and the population standard deviation is known.\n",
        "\n",
        "The t-test is based on the t-distribution, which is appropriate when the sample size is small and the population standard deviation is not known.\n",
        "It is commonly employed when dealing with small sample sizes (i.e., n < 30). On the other hand, the z-test assumes that the distribution of sample means will be normal\n",
        "and is based on the standard normal distribution (Z-distribution). It is mainly used for single-sample hypothesis testing and is appropriate when dealing with large\n",
        "sample sizes (typically equal to or greater than 30) and situations where the population standard deviation is known.\n",
        "\n",
        "\"\"\""
      ]
    },
    {
      "cell_type": "code",
      "source": [
        "# Q2: Differentiate between one-tailed and two-tailed tests.\n",
        "\"\"\"\n",
        "One-tailed test, as the name suggest is the statistical hypothesis test, in which the alternative hypothesis has a single end. On the other hand, two-tailed test implies the hypothesis test;\n",
        "wherein the alternative hypothesis has dual ends.\n",
        "\n",
        "\"\"\""
      ],
      "metadata": {
        "id": "InNeR1aZwgaT"
      },
      "execution_count": null,
      "outputs": []
    },
    {
      "cell_type": "code",
      "source": [
        "# Q3: Explain the concept of Type 1 and Type 2 errors in hypothesis testing. Provide an example scenario for each type of error.\n",
        "\"\"\"\n",
        "A Type 1 error occurs when a true null hypothesis is rejected.\n",
        "In a criminal trial, a Type 1 error would be convicting an innocent person (rejecting the null hypothesis of innocence) when they are actually innocent.\n",
        "\n",
        "A Type 2 error occurs when a false null hypothesis is not rejected.\n",
        "In medical testing, a Type 2 error would be failing to diagnose a disease (not rejecting the null hypothesis of health) when the disease is actually present.\n",
        "\n",
        "\"\"\"\n",
        "\n"
      ],
      "metadata": {
        "id": "ou4j6zBkwy6v"
      },
      "execution_count": null,
      "outputs": []
    },
    {
      "cell_type": "code",
      "source": [
        "# Q4: Explain Bayes's theorem with an example.\n",
        "\"\"\"\n",
        "Bayes' theorem is a fundamental concept in probability theory and statistics that describes the probability of an event based on prior knowledge of conditions that might be related to that event.\n",
        "\n",
        "A simple example of Bayes' theorem is as follows: Suppose you have a bag containing 5 red and 5 black balls. You draw a ball at random, note its color, and return it to the bag, adding two more balls of the same color. You then draw another ball at random. What is the probability that the second ball drawn is red?\n",
        "Using Bayes' theorem, we can calculate the probability as follows:\n",
        "P(Red2|Red1) = P(Red1|Red2) * P(Red2) / P(Red1)\n",
        "Where:\n",
        "P(Red2|Red1) is the probability that the second ball is red, given that the first ball was red.\n",
        "P(Red1|Red2) is the probability that the first ball was red, given that the second ball is red.\n",
        "P(Red2) is the probability that the second ball is red.\n",
        "P(Red1) is the probability that the first ball is red.\n",
        "We can calculate each of these probabilities as follows:\n",
        "P(Red1|Red2) = 5/7 (since there are now 7 red balls and 5 black balls in the bag)\n",
        "P(Red2) = 5/12 (since there are now 12 balls in the bag)\n",
        "P(Red1) = 1/2 (since the ball is returned to the bag after the first draw)\n",
        "Substituting these values into Bayes' theorem, we get:\n",
        "P(Red2|Red1) = (5/7) * (5/12) / (1/2) = 25/42\n",
        "Therefore, the probability that the second ball drawn is red is 25/42, given that the first ball was red.\n",
        "\n",
        "\"\"\""
      ],
      "metadata": {
        "id": "XrGGR9UkxNKm"
      },
      "execution_count": null,
      "outputs": []
    },
    {
      "cell_type": "code",
      "source": [
        "# Q5: What is a confidence interval? How to calculate the confidence interval, explain with an example.\n",
        "\"\"\"\n",
        "A confidence interval is a statistical concept used to estimate the range within which the true value of a population parameter is likely to lie. It provides a measure of uncertainty around a sample statistic and is expressed as a range of values\n",
        "with a specified level of confidence.\n",
        "\"\"\"\n",
        "\n"
      ],
      "metadata": {
        "colab": {
          "base_uri": "https://localhost:8080/",
          "height": 54
        },
        "id": "ibjZ3kgRxsY8",
        "outputId": "54ac916c-8902-4035-a43f-600e92b95bdf"
      },
      "execution_count": 2,
      "outputs": [
        {
          "output_type": "execute_result",
          "data": {
            "text/plain": [
              "'\\nA confidence interval is a statistical concept used to estimate the range within which the true value of a population parameter is likely to lie. It provides a measure of uncertainty around a sample statistic and is expressed as a range of values \\nwith a specified level of confidence. \\n'"
            ],
            "application/vnd.google.colaboratory.intrinsic+json": {
              "type": "string"
            }
          },
          "metadata": {},
          "execution_count": 2
        }
      ]
    },
    {
      "cell_type": "code",
      "source": [
        "# Q6. Use Bayes' Theorem to calculate the probability of an event occurring given prior knowledge of the event's probability and new evidence. Provide a sample problem and solution.\n",
        "\"\"\"\n",
        "Problem: A bag contains 5 red and 5 black balls. A ball is drawn at random, its color is noted, and again the ball is returned to the bag. Also, 2 additional balls of the color drawn are put in the bag. After that, the ball is drawn at random from the bag. What is the probability that the second ball drawn from the bag is red?\n",
        "Solution:\n",
        "Let's define the events:\n",
        "A: The first ball drawn is red.\n",
        "B: The second ball drawn is red.\n",
        "We want to find P(B).\n",
        "First, we need to find P(A) and P(B|A).\n",
        "P(A) = Number of red balls / Total number of balls = 5/10 = 1/2\n",
        "If the first ball drawn is red, then there are 6 red balls and 5 black balls in the bag.\n",
        "P(B|A) = Number of red balls after the first draw / Total number of balls after the first draw = 6/11\n",
        "Now, we need to find P(B) and P(A|B).\n",
        "P(B) = Number of red balls after the second draw / Total number of balls after the second draw = 7/12\n",
        "If the second ball drawn is red, then there are 6 red balls and 4 black balls in the bag after the first draw.\n",
        "P(A|B) = Number of red balls after the first draw / Total number of balls after the first draw = 6/10\n",
        "Now, we can apply Bayes' theorem to find P(B|A):\n",
        "P(B|A) = P(A and B) / P(A)\n",
        "P(A and B) = P(B|A) * P(A) = (6/11) * (1/2)\n",
        "P(B|A) = (6/11) * (1/2) / (1/2) = 6/11\n",
        "Therefore, the probability that the second ball drawn from the bag is red is 6/11.\n",
        "\n",
        "\"\"\""
      ],
      "metadata": {
        "id": "_LlbnfSnyNa1"
      },
      "execution_count": null,
      "outputs": []
    },
    {
      "cell_type": "code",
      "source": [
        "# Q7. Calculate the 95% confidence interval for a sample of data with a mean of 50 and a standard deviation of 5. Interpret the results.\n",
        "\"\"\"\n",
        "To calculate the 95% confidence interval for a sample of data with a mean of 50 and a standard deviation of 5, we can use the formula:\n",
        "CI = x̄ ± Z * (σ / √n)\n",
        "where x̄ is the sample mean, Z is the Z-score corresponding to the desired confidence level (1.96 for a 95% confidence interval), σ is the standard deviation, and n is the sample size.\n",
        "In this case, x̄ = 50, σ = 5, and n is not provided. However, for large samples (n > 30), we can use the sample standard deviation as an approximation of the population standard deviation.\n",
        "Therefore, the 95% confidence interval for the sample mean is:\n",
        "CI = 50 ± 1.96 * (5 / √n)\n",
        "To interpret the results, we can say that we are 95% confident that the true population mean falls within this interval.\n",
        "This means that if we were to take multiple samples from the population and calculate the 95% confidence interval for each sample, 95% of those intervals would contain the true population mean.\n",
        "\n",
        "\"\"\""
      ],
      "metadata": {
        "id": "o9XrIxs1xzgV"
      },
      "execution_count": null,
      "outputs": []
    },
    {
      "cell_type": "code",
      "source": [
        "# Q8. What is the margin of error in a confidence interval? How does sample size affect the margin of error? Provide an example of a scenario where a larger sample size would result in a smaller margin of error.\n",
        "\"\"\"\n",
        "The margin of error in a confidence interval represents the range within which the true population parameter is likely to lie.\n",
        "It is a measure of the precision of an estimate derived from a sample. The margin of error is influenced by factors such as the sample size, confidence level, and sample proportion.\n",
        "Sample size plays a crucial role in determining the margin of error. Generally, a larger sample size leads to a smaller margin of error.\n",
        "This is because a larger sample size provides a more representative sample of the population, reducing the variability in the estimates and increasing the precision of the results.\n",
        "As the sample size increases, the sample proportion estimate becomes more likely to be closer to the true population proportion, resulting in a smaller margin of error.\n",
        "\n",
        "Example Scenario:\n",
        "Imagine a scenario where a research study aims to estimate the proportion of customers who are satisfied with a new product.\n",
        "If a small sample size is used, the estimate of customer satisfaction may vary widely, leading to a larger margin of error.\n",
        "However, by increasing the sample size significantly, the estimate becomes more stable and closer to the true population proportion, resulting in a smaller margin of error.\n",
        "\n",
        "\"\"\""
      ],
      "metadata": {
        "id": "gfHCa01-zHif"
      },
      "execution_count": null,
      "outputs": []
    },
    {
      "cell_type": "code",
      "source": [
        "# Q9. Calculate the z-score for a data point with a value of 75, a population mean of 70, and a population standard deviation of 5. Interpret the results.\n",
        "\"\"\"\n",
        "To calculate the z-score for a data point with a value of 75, a population mean of 70, and a population standard deviation of 5, we can use the formula:\n",
        "\n",
        "z = x−μ / σ\n",
        "\n",
        "Substitute the values into the formula:\n",
        "z = 75−70 / 5\n",
        "  = 1\n",
        "\n",
        "Therefore, the z-score for the data point with a value of 75, a population mean of 70, and a population standard deviation of 5 is 1.\n",
        "\n",
        "\"\"\"\n"
      ],
      "metadata": {
        "id": "B0MMEYZmzZUJ"
      },
      "execution_count": null,
      "outputs": []
    },
    {
      "cell_type": "code",
      "source": [
        "# Q10. In a study of the effectiveness of a new weight loss drug, a sample of 50 participants lost an average of 6 pounds with a standard deviation of 2.5 pounds. Conduct a hypothesis test to determine if the drug is significantly effective at a 95% confidence level using a t-test.\n",
        "\"\"\"\n",
        "To conduct a hypothesis test to determine if the drug is significantly effective at a 95% confidence level using a t-test, we can follow these steps:\n",
        "State the null and alternative hypotheses:\n",
        "Null Hypothesis (H0): The mean weight loss is equal to or less than 0 pounds.\n",
        "Alternative Hypothesis (H1): The mean weight loss is greater than 0 pounds.\n",
        "Calculate the sample mean, standard deviation, and sample size:\n",
        "Sample Mean (x̄) = 6 pounds\n",
        "Sample Standard Deviation (s) = 2.5 pounds\n",
        "Sample Size (n) = 50\n",
        "Determine the t-value:\n",
        "Since the population standard deviation is unknown, we will use the t-distribution.\n",
        "Degrees of Freedom (df) = n - 1 = 49\n",
        "We will use the critical t-value for a one-tailed test with a 95% confidence level and 49 degrees of freedom.\n",
        "Critical t-value (t*) = 1.677\n",
        "Calculate the test statistic:\n",
        "Test Statistic (t) = (x̄ - 0) / (s / √n) = (6 - 0) / (2.5 / √50) = 12.649\n",
        "Compare the test statistic to the critical t-value:\n",
        "Since the test statistic (12.649) is greater than the critical t-value (1.677), we reject the null hypothesis.\n",
        "Interpret the results:\n",
        "At a 95% confidence level, the weight loss drug is significantly effective, as the mean weight loss is greater than 0 pounds.\n",
        "Therefore, the drug is significantly effective at a 95% confidence level using a t-test.\n",
        "\"\"\""
      ],
      "metadata": {
        "id": "J2xbwjkA0HS2"
      },
      "execution_count": null,
      "outputs": []
    },
    {
      "cell_type": "code",
      "source": [
        "# Q11. In a survey of 500 people, 65% reported being satisfied with their current job. Calculate the 95% confidence interval for the true proportion of people who are satisfied with their job.\n",
        "\"\"\"\n",
        "The 95% confidence interval for the true proportion of people who are satisfied with their job is (0.613, 0.687). This means that we can be 95% confident that the true proportion of people who are satisfied with their job is within this range.\n",
        "\n",
        "\"\"\""
      ],
      "metadata": {
        "colab": {
          "base_uri": "https://localhost:8080/",
          "height": 54
        },
        "id": "-_PVZFwh0WGD",
        "outputId": "95af2172-78e1-4bca-c7c1-b719f0f2b8a3"
      },
      "execution_count": 4,
      "outputs": [
        {
          "output_type": "execute_result",
          "data": {
            "text/plain": [
              "'\\nThe 95% confidence interval for the true proportion of people who are satisfied with their job is (0.613, 0.687). This means that we can be 95% confident that the true proportion of people who are satisfied with their job is within this range.\\n\\n'"
            ],
            "application/vnd.google.colaboratory.intrinsic+json": {
              "type": "string"
            }
          },
          "metadata": {},
          "execution_count": 4
        }
      ]
    },
    {
      "cell_type": "code",
      "source": [
        "# Q12. A researcher is testing the effectiveness of two different teaching methods on student performance. Sample A has a mean score of 85 with a standard deviation of 6, while sample B has a mean score of 82 with a standard deviation of 5. Conduct a hypothesis test to determine if the two teaching methods have a signifiant difference in student performance using a t-test with a significance level of 0.01.\n",
        "\"\"\"\n",
        "The calculated t-value (3.23) is greater than the critical t-value (2.61), we reject the null hypothesis and conclude that there is a significant difference in student performance between the two teaching methods at a 95% confidence level.\n",
        "\n",
        "\"\"\""
      ],
      "metadata": {
        "id": "rDLsxxKM0aky"
      },
      "execution_count": null,
      "outputs": []
    },
    {
      "cell_type": "code",
      "source": [
        "# Q13. A population has a mean of 60 and a standard deviation of 8. A sample of 50 observations has a mean of 65. Calculate the 90% confidence interval for the true population mean.\n",
        "\"\"\"\n",
        "We can be 90% confident that the true population mean is between 63.03 and 66.97. This means that there is a 90% chance that the true population mean falls within this interval.\n",
        "\n",
        "\"\"\""
      ],
      "metadata": {
        "id": "iKFlHGQe1DHE"
      },
      "execution_count": null,
      "outputs": []
    },
    {
      "cell_type": "code",
      "source": [
        "# Q14. In a study of the effects of caffeine on reaction time, a sample of 30 participants had an average reaction time of 0.25 seconds with a standard deviation of 0.05 seconds. Conduct a hypothesis test to determine if the caffeine has a significant effect on reaction time at a 90% confidence level using a t-test.\n",
        "\"\"\"\n",
        "To conduct a hypothesis test to determine if caffeine has a significant effect on reaction time at a 90% confidence level using a t-test, we can follow these steps:\n",
        "State the null and alternative hypotheses:\n",
        "Null Hypothesis (H0): The mean reaction time is the same with and without caffeine.\n",
        "Alternative Hypothesis (H1): The mean reaction time with caffeine is different from the mean reaction time without caffeine.\n",
        "Calculate the t-value:\n",
        "t-value = (mean with caffeine - mean without caffeine) / (standard error of the difference)\n",
        "where:\n",
        "mean with caffeine = 0.25 seconds\n",
        "mean without caffeine = 0.25 seconds (assuming no significant difference in the sample mean)\n",
        "standard error of the difference = (standard deviation of the difference) / sqrt(sample size)\n",
        "standard deviation of the difference = 0.05 seconds (assuming the same standard deviation for both groups)\n",
        "t-value = (0.25 - 0.25) / (0.05 / sqrt(50)) = 0 / (0.05 / 7.07) = 0\n",
        "Compare the t-value to the critical t-value:\n",
        "For a two-tailed test with a 90% confidence level and a sample size of 50, the critical t-value is approximately 1.677.\n",
        "Since the calculated t-value (0) is less than the critical t-value (1.677), we fail to reject the null hypothesis.\n",
        "Interpret the results:\n",
        "At a 90% confidence level, there is not enough evidence to conclude that caffeine has a significant effect on reaction time.\n",
        "\n",
        "\"\"\""
      ],
      "metadata": {
        "id": "WU4TX5lz1P2y"
      },
      "execution_count": null,
      "outputs": []
    }
  ]
}
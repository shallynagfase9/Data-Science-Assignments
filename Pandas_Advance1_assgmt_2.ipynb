{
  "nbformat": 4,
  "nbformat_minor": 0,
  "metadata": {
    "colab": {
      "provenance": [],
      "authorship_tag": "ABX9TyMK+SMTz6vcyXc++9wsy8fs",
      "include_colab_link": true
    },
    "kernelspec": {
      "name": "python3",
      "display_name": "Python 3"
    },
    "language_info": {
      "name": "python"
    }
  },
  "cells": [
    {
      "cell_type": "markdown",
      "metadata": {
        "id": "view-in-github",
        "colab_type": "text"
      },
      "source": [
        "<a href=\"https://colab.research.google.com/github/shallynagfase9/Data-Science-Assignments/blob/main/Pandas_Advance1_assgmt_2.ipynb\" target=\"_parent\"><img src=\"https://colab.research.google.com/assets/colab-badge.svg\" alt=\"Open In Colab\"/></a>"
      ]
    },
    {
      "cell_type": "code",
      "execution_count": 5,
      "metadata": {
        "colab": {
          "base_uri": "https://localhost:8080/"
        },
        "id": "VmqX37wc4Wv1",
        "outputId": "88056662-71be-476b-f155-e8f9fa7b1496"
      },
      "outputs": [
        {
          "output_type": "stream",
          "name": "stdout",
          "text": [
            "   id  location_id  program_id accepted_payments alternate_name  \\\n",
            "0   1            1         NaN               NaN            NaN   \n",
            "1   2            2         NaN               NaN            NaN   \n",
            "2   3            3         NaN               NaN            NaN   \n",
            "\n",
            "                           application_process  \\\n",
            "0                   Walk in or apply by phone.   \n",
            "1           Apply by phone for an appointment.   \n",
            "2  Phone for information (403-4300 Ext. 4322).   \n",
            "\n",
            "                                            audience  \\\n",
            "0  Older adults age 55 or over, ethnic minorities...   \n",
            "1       Residents of San Mateo County age 55 or over   \n",
            "2  Older adults age 55 or over who can benefit fr...   \n",
            "\n",
            "                                         description  \\\n",
            "0  A walk-in center for older adults that provide...   \n",
            "1  Provides training and job placement to eligibl...   \n",
            "2  Offers supportive counseling services to San M...   \n",
            "\n",
            "                                         eligibility email  ...  \\\n",
            "0  Age 55 or over for most programs, age 60 or ov...   NaN  ...   \n",
            "1  Age 55 or over, county resident and willing an...   NaN  ...   \n",
            "2        Resident of San Mateo County age 55 or over   NaN  ...   \n",
            "\n",
            "  interpretation_services                                           keywords  \\\n",
            "0                     NaN  ADULT PROTECTION AND CARE SERVICES, Meal Sites...   \n",
            "1                     NaN  EMPLOYMENT/TRAINING SERVICES, Job Development,...   \n",
            "2                     NaN  Geriatric Counseling, Older Adults, Gay, Lesbi...   \n",
            "\n",
            "  languages                              name required_documents  \\\n",
            "0       NaN   Fair Oaks Adult Activity Center                NaN   \n",
            "1       NaN  Second Career Employment Program                NaN   \n",
            "2       NaN            Senior Peer Counseling                NaN   \n",
            "\n",
            "      service_areas  status wait_time website taxonomy_ids  \n",
            "0             Colma  active  No wait.     NaN          NaN  \n",
            "1  San Mateo County  active   Varies.     NaN          NaN  \n",
            "2  San Mateo County  active   Varies.     NaN          NaN  \n",
            "\n",
            "[3 rows x 22 columns]\n",
            "    id  location_id  program_id         accepted_payments  \\\n",
            "21  22           22         NaN  Cash, Check, Credit Card   \n",
            "22  23           22         NaN                       NaN   \n",
            "\n",
            "           alternate_name                application_process  \\\n",
            "21  Fotos para pasaportes  Walk in or apply by phone or mail   \n",
            "22                    NaN  Walk in or apply by phone or mail   \n",
            "\n",
            "                                             audience  \\\n",
            "21  Profit and nonprofit businesses, the public, m...   \n",
            "22  Second service and nonprofit businesses, the p...   \n",
            "\n",
            "                                          description eligibility  \\\n",
            "21  [NOTE THIS IS NOT A REAL SERVICE--THIS IS FOR ...        None   \n",
            "22  [NOTE THIS IS NOT A REAL ORGANIZATION--THIS IS...        None   \n",
            "\n",
            "                    email  ...  \\\n",
            "21  passports@example.org  ...   \n",
            "22                    NaN  ...   \n",
            "\n",
            "                              interpretation_services  \\\n",
            "21  We offer 3-way interpretation services over th...   \n",
            "22                                                NaN   \n",
            "\n",
            "                                      keywords languages  \\\n",
            "21                             Salud, Medicina   Spanish   \n",
            "22  Ruby on Rails/Postgres/Redis, testing, wic       NaN   \n",
            "\n",
            "                    name                        required_documents  \\\n",
            "21       Passport Photos  Government-issued picture identification   \n",
            "22  Example Service Name                                       NaN   \n",
            "\n",
            "                       service_areas  status            wait_time  \\\n",
            "21  Alameda County, San Mateo County  active  No wait to 2 weeks.   \n",
            "22  San Mateo County, Alameda County  active   No wait to 2 weeks   \n",
            "\n",
            "                   website                              taxonomy_ids  \n",
            "21  http://www.example.com  105, 108, 108-05, 108-05-01, 111, 111-05  \n",
            "22  http://www.example.com                                       NaN  \n",
            "\n",
            "[2 rows x 22 columns]\n",
            "             id  location_id  program_id\n",
            "count  23.00000    23.000000         0.0\n",
            "mean   12.00000    11.956522         NaN\n",
            "std     6.78233     6.711444         NaN\n",
            "min     1.00000     1.000000         NaN\n",
            "25%     6.50000     6.500000         NaN\n",
            "50%    12.00000    12.000000         NaN\n",
            "75%    17.50000    17.500000         NaN\n",
            "max    23.00000    22.000000         NaN\n",
            "23\n"
          ]
        }
      ],
      "source": [
        "# Q1. List any five functions of the pandas library with execution.\n",
        "\"\"\"\n",
        "read-csv()\n",
        "head()\n",
        "tail()\n",
        "describe()\n",
        "len()\n",
        "\"\"\"\n",
        "import pandas as pd\n",
        "df = pd.read_csv(\"/content/services.csv\")\n",
        "print(df.head(3))\n",
        "print(df.tail(2))\n",
        "print(df.describe())\n",
        "print(len(df))"
      ]
    },
    {
      "cell_type": "code",
      "source": [
        "\"\"\" Q2. Given a Pandas DataFrame df with columns 'A', 'B', and 'C', write a Python function to re-index the\n",
        "DataFrame with a new index that starts from 1 and increments by 2 for each row.\"\"\"\n",
        "\n",
        "import pandas as pd\n",
        "def reindex_dataframe(df):\n",
        "  new_index = pd.Series(range(1, len(df)*2, 2))\n",
        "  df.index = new_index\n",
        "  return df\n",
        "\n",
        "data = ({\n",
        "    \"A\":[1,2,3,4,5],\n",
        "    \"B\":[2,5,4,1,7],\n",
        "    \"C\":[9,10,2,5,6]\n",
        "})\n",
        "\n",
        "df = pd.DataFrame(data)\n",
        "df = reindex_dataframe(df)\n",
        "print(df)\n"
      ],
      "metadata": {
        "colab": {
          "base_uri": "https://localhost:8080/"
        },
        "id": "vcp5A-pr5j_R",
        "outputId": "91c9113d-06e5-4c30-f54d-aed01dd995de"
      },
      "execution_count": 7,
      "outputs": [
        {
          "output_type": "stream",
          "name": "stdout",
          "text": [
            "   A  B   C\n",
            "1  1  2   9\n",
            "3  2  5  10\n",
            "5  3  4   2\n",
            "7  4  1   5\n",
            "9  5  7   6\n"
          ]
        }
      ]
    },
    {
      "cell_type": "code",
      "source": [
        "\"\"\"\n",
        "Q3. You have a Pandas DataFrame df with a column named 'Values'. Write a Python function that\n",
        "iterates over the DataFrame and calculates the sum of the first three values in the 'Values' column. The\n",
        "function should print the sum to the console.\n",
        "For example, if the 'Values' column of df contains the values [10, 20, 30, 40, 50], your function should\n",
        "calculate and print the sum of the first three values, which is 60.\n",
        "\"\"\"\n",
        "\n",
        "import pandas as pd\n",
        "\n",
        "def calculate_sum_first_three_values(df):\n",
        "    sum_first_three_values = df['Values'].head(3).sum()\n",
        "    print(\"Sum of the first three values in the 'Values' column:\", sum_first_three_values)\n",
        "\n",
        "data = {'Values': [10, 20, 30, 40, 50]}\n",
        "df = pd.DataFrame(data)\n",
        "\n",
        "calculate_sum_first_three_values(df)\n"
      ],
      "metadata": {
        "colab": {
          "base_uri": "https://localhost:8080/"
        },
        "id": "tYNkIXKA697o",
        "outputId": "b3570236-4755-4dd8-c4e4-a7b754fdd293"
      },
      "execution_count": 8,
      "outputs": [
        {
          "output_type": "stream",
          "name": "stdout",
          "text": [
            "Sum of the first three values in the 'Values' column: 60\n"
          ]
        }
      ]
    },
    {
      "cell_type": "code",
      "source": [
        "\"\"\"\n",
        "Q4. Given a Pandas DataFrame df with a column 'Text', write a Python function to create a new column\n",
        "'Word_Count' that contains the number of words in each row of the 'Text' column.\n",
        "\"\"\"\n",
        "df = pd.DataFrame({\"Text\":[\"ABAC\", \"BABG\", \"JHHG\"]})\n",
        "df\n",
        "df[\"new_col\"] = \"Word_Count\"\n",
        "df['Word_Count'] = len(\"Text\")\n",
        "print(df)"
      ],
      "metadata": {
        "colab": {
          "base_uri": "https://localhost:8080/"
        },
        "id": "8dx49JBp7gh4",
        "outputId": "096ba307-ab8c-4512-f5c7-03638f51e092"
      },
      "execution_count": 11,
      "outputs": [
        {
          "output_type": "stream",
          "name": "stdout",
          "text": [
            "   Text     new_col  Word_Count\n",
            "0  ABAC  Word_Count           4\n",
            "1  BABG  Word_Count           4\n",
            "2  JHHG  Word_Count           4\n"
          ]
        }
      ]
    },
    {
      "cell_type": "code",
      "source": [
        "# Q5. How are DataFrame.size() and DataFrame.shape() different?\n",
        "\"\"\"\n",
        "The DataFrame.size method returns the total number of elements in a DataFrame, which is equivalent to the number of rows multiplied by the number of columns.\n",
        "The DataFrame.shape method returns a tuple representing the dimensionality of the DataFrame, showing the number of rows and columns.\n",
        "\"\"\"\n",
        "\n"
      ],
      "metadata": {
        "colab": {
          "base_uri": "https://localhost:8080/",
          "height": 53
        },
        "id": "la_rVrI48Pz3",
        "outputId": "e9470995-996d-4f58-bf21-612f384e4056"
      },
      "execution_count": 12,
      "outputs": [
        {
          "output_type": "execute_result",
          "data": {
            "text/plain": [
              "'\\nThe DataFrame.size method returns the total number of elements in a DataFrame, which is equivalent to the number of rows multiplied by the number of columns.\\nThe DataFrame.shape method returns a tuple representing the dimensionality of the DataFrame, showing the number of rows and columns.\\n'"
            ],
            "application/vnd.google.colaboratory.intrinsic+json": {
              "type": "string"
            }
          },
          "metadata": {},
          "execution_count": 12
        }
      ]
    },
    {
      "cell_type": "code",
      "source": [
        "# Q6. Which function of pandas do we use to read an excel file?\n",
        "# The function in Pandas used to read an Excel file is read_excel()."
      ],
      "metadata": {
        "id": "zJcXC3mE8gDh"
      },
      "execution_count": null,
      "outputs": []
    },
    {
      "cell_type": "code",
      "source": [
        "\"\"\"\n",
        "Q7. You have a Pandas DataFrame df that contains a column named 'Email' that contains email\n",
        "addresses in the format 'username@domain.com'. Write a Python function that creates a new column\n",
        "'Username' in df that contains only the username part of each email address.\n",
        "The username is the part of the email address that appears before the '@' symbol. For example, if the\n",
        "email address is 'john.doe@example.com', the 'Username' column should contain 'john.doe'. Your\n",
        "function should extract the username from each email address and store it in the new 'Username'\n",
        "column.\n",
        "\"\"\"\n",
        "import pandas as pd\n",
        "df = pd.DataFrame({\n",
        "    \"Email\":[\"shallynagfase301@gmail.com\", \"shallyn.aids21@sbjit.edu.in\", \"username@domain.com\"]\n",
        "})\n",
        "df\n",
        "df['new_col'] = \"Username\"\n",
        "df['Username'] = df['Email'].str.split('@').str[0]\n",
        "df"
      ],
      "metadata": {
        "colab": {
          "base_uri": "https://localhost:8080/",
          "height": 143
        },
        "id": "4NK9-q-68tqf",
        "outputId": "3ee27522-dc10-4663-b0da-fede7befd9a5"
      },
      "execution_count": 15,
      "outputs": [
        {
          "output_type": "execute_result",
          "data": {
            "text/plain": [
              "                         Email   new_col          Username\n",
              "0   shallynagfase301@gmail.com  Username  shallynagfase301\n",
              "1  shallyn.aids21@sbjit.edu.in  Username    shallyn.aids21\n",
              "2          username@domain.com  Username          username"
            ],
            "text/html": [
              "\n",
              "  <div id=\"df-9d8acb64-4417-42b4-b272-344c8746effa\" class=\"colab-df-container\">\n",
              "    <div>\n",
              "<style scoped>\n",
              "    .dataframe tbody tr th:only-of-type {\n",
              "        vertical-align: middle;\n",
              "    }\n",
              "\n",
              "    .dataframe tbody tr th {\n",
              "        vertical-align: top;\n",
              "    }\n",
              "\n",
              "    .dataframe thead th {\n",
              "        text-align: right;\n",
              "    }\n",
              "</style>\n",
              "<table border=\"1\" class=\"dataframe\">\n",
              "  <thead>\n",
              "    <tr style=\"text-align: right;\">\n",
              "      <th></th>\n",
              "      <th>Email</th>\n",
              "      <th>new_col</th>\n",
              "      <th>Username</th>\n",
              "    </tr>\n",
              "  </thead>\n",
              "  <tbody>\n",
              "    <tr>\n",
              "      <th>0</th>\n",
              "      <td>shallynagfase301@gmail.com</td>\n",
              "      <td>Username</td>\n",
              "      <td>shallynagfase301</td>\n",
              "    </tr>\n",
              "    <tr>\n",
              "      <th>1</th>\n",
              "      <td>shallyn.aids21@sbjit.edu.in</td>\n",
              "      <td>Username</td>\n",
              "      <td>shallyn.aids21</td>\n",
              "    </tr>\n",
              "    <tr>\n",
              "      <th>2</th>\n",
              "      <td>username@domain.com</td>\n",
              "      <td>Username</td>\n",
              "      <td>username</td>\n",
              "    </tr>\n",
              "  </tbody>\n",
              "</table>\n",
              "</div>\n",
              "    <div class=\"colab-df-buttons\">\n",
              "\n",
              "  <div class=\"colab-df-container\">\n",
              "    <button class=\"colab-df-convert\" onclick=\"convertToInteractive('df-9d8acb64-4417-42b4-b272-344c8746effa')\"\n",
              "            title=\"Convert this dataframe to an interactive table.\"\n",
              "            style=\"display:none;\">\n",
              "\n",
              "  <svg xmlns=\"http://www.w3.org/2000/svg\" height=\"24px\" viewBox=\"0 -960 960 960\">\n",
              "    <path d=\"M120-120v-720h720v720H120Zm60-500h600v-160H180v160Zm220 220h160v-160H400v160Zm0 220h160v-160H400v160ZM180-400h160v-160H180v160Zm440 0h160v-160H620v160ZM180-180h160v-160H180v160Zm440 0h160v-160H620v160Z\"/>\n",
              "  </svg>\n",
              "    </button>\n",
              "\n",
              "  <style>\n",
              "    .colab-df-container {\n",
              "      display:flex;\n",
              "      gap: 12px;\n",
              "    }\n",
              "\n",
              "    .colab-df-convert {\n",
              "      background-color: #E8F0FE;\n",
              "      border: none;\n",
              "      border-radius: 50%;\n",
              "      cursor: pointer;\n",
              "      display: none;\n",
              "      fill: #1967D2;\n",
              "      height: 32px;\n",
              "      padding: 0 0 0 0;\n",
              "      width: 32px;\n",
              "    }\n",
              "\n",
              "    .colab-df-convert:hover {\n",
              "      background-color: #E2EBFA;\n",
              "      box-shadow: 0px 1px 2px rgba(60, 64, 67, 0.3), 0px 1px 3px 1px rgba(60, 64, 67, 0.15);\n",
              "      fill: #174EA6;\n",
              "    }\n",
              "\n",
              "    .colab-df-buttons div {\n",
              "      margin-bottom: 4px;\n",
              "    }\n",
              "\n",
              "    [theme=dark] .colab-df-convert {\n",
              "      background-color: #3B4455;\n",
              "      fill: #D2E3FC;\n",
              "    }\n",
              "\n",
              "    [theme=dark] .colab-df-convert:hover {\n",
              "      background-color: #434B5C;\n",
              "      box-shadow: 0px 1px 3px 1px rgba(0, 0, 0, 0.15);\n",
              "      filter: drop-shadow(0px 1px 2px rgba(0, 0, 0, 0.3));\n",
              "      fill: #FFFFFF;\n",
              "    }\n",
              "  </style>\n",
              "\n",
              "    <script>\n",
              "      const buttonEl =\n",
              "        document.querySelector('#df-9d8acb64-4417-42b4-b272-344c8746effa button.colab-df-convert');\n",
              "      buttonEl.style.display =\n",
              "        google.colab.kernel.accessAllowed ? 'block' : 'none';\n",
              "\n",
              "      async function convertToInteractive(key) {\n",
              "        const element = document.querySelector('#df-9d8acb64-4417-42b4-b272-344c8746effa');\n",
              "        const dataTable =\n",
              "          await google.colab.kernel.invokeFunction('convertToInteractive',\n",
              "                                                    [key], {});\n",
              "        if (!dataTable) return;\n",
              "\n",
              "        const docLinkHtml = 'Like what you see? Visit the ' +\n",
              "          '<a target=\"_blank\" href=https://colab.research.google.com/notebooks/data_table.ipynb>data table notebook</a>'\n",
              "          + ' to learn more about interactive tables.';\n",
              "        element.innerHTML = '';\n",
              "        dataTable['output_type'] = 'display_data';\n",
              "        await google.colab.output.renderOutput(dataTable, element);\n",
              "        const docLink = document.createElement('div');\n",
              "        docLink.innerHTML = docLinkHtml;\n",
              "        element.appendChild(docLink);\n",
              "      }\n",
              "    </script>\n",
              "  </div>\n",
              "\n",
              "\n",
              "<div id=\"df-57869697-5c06-465f-829d-b25a69871023\">\n",
              "  <button class=\"colab-df-quickchart\" onclick=\"quickchart('df-57869697-5c06-465f-829d-b25a69871023')\"\n",
              "            title=\"Suggest charts\"\n",
              "            style=\"display:none;\">\n",
              "\n",
              "<svg xmlns=\"http://www.w3.org/2000/svg\" height=\"24px\"viewBox=\"0 0 24 24\"\n",
              "     width=\"24px\">\n",
              "    <g>\n",
              "        <path d=\"M19 3H5c-1.1 0-2 .9-2 2v14c0 1.1.9 2 2 2h14c1.1 0 2-.9 2-2V5c0-1.1-.9-2-2-2zM9 17H7v-7h2v7zm4 0h-2V7h2v10zm4 0h-2v-4h2v4z\"/>\n",
              "    </g>\n",
              "</svg>\n",
              "  </button>\n",
              "\n",
              "<style>\n",
              "  .colab-df-quickchart {\n",
              "      --bg-color: #E8F0FE;\n",
              "      --fill-color: #1967D2;\n",
              "      --hover-bg-color: #E2EBFA;\n",
              "      --hover-fill-color: #174EA6;\n",
              "      --disabled-fill-color: #AAA;\n",
              "      --disabled-bg-color: #DDD;\n",
              "  }\n",
              "\n",
              "  [theme=dark] .colab-df-quickchart {\n",
              "      --bg-color: #3B4455;\n",
              "      --fill-color: #D2E3FC;\n",
              "      --hover-bg-color: #434B5C;\n",
              "      --hover-fill-color: #FFFFFF;\n",
              "      --disabled-bg-color: #3B4455;\n",
              "      --disabled-fill-color: #666;\n",
              "  }\n",
              "\n",
              "  .colab-df-quickchart {\n",
              "    background-color: var(--bg-color);\n",
              "    border: none;\n",
              "    border-radius: 50%;\n",
              "    cursor: pointer;\n",
              "    display: none;\n",
              "    fill: var(--fill-color);\n",
              "    height: 32px;\n",
              "    padding: 0;\n",
              "    width: 32px;\n",
              "  }\n",
              "\n",
              "  .colab-df-quickchart:hover {\n",
              "    background-color: var(--hover-bg-color);\n",
              "    box-shadow: 0 1px 2px rgba(60, 64, 67, 0.3), 0 1px 3px 1px rgba(60, 64, 67, 0.15);\n",
              "    fill: var(--button-hover-fill-color);\n",
              "  }\n",
              "\n",
              "  .colab-df-quickchart-complete:disabled,\n",
              "  .colab-df-quickchart-complete:disabled:hover {\n",
              "    background-color: var(--disabled-bg-color);\n",
              "    fill: var(--disabled-fill-color);\n",
              "    box-shadow: none;\n",
              "  }\n",
              "\n",
              "  .colab-df-spinner {\n",
              "    border: 2px solid var(--fill-color);\n",
              "    border-color: transparent;\n",
              "    border-bottom-color: var(--fill-color);\n",
              "    animation:\n",
              "      spin 1s steps(1) infinite;\n",
              "  }\n",
              "\n",
              "  @keyframes spin {\n",
              "    0% {\n",
              "      border-color: transparent;\n",
              "      border-bottom-color: var(--fill-color);\n",
              "      border-left-color: var(--fill-color);\n",
              "    }\n",
              "    20% {\n",
              "      border-color: transparent;\n",
              "      border-left-color: var(--fill-color);\n",
              "      border-top-color: var(--fill-color);\n",
              "    }\n",
              "    30% {\n",
              "      border-color: transparent;\n",
              "      border-left-color: var(--fill-color);\n",
              "      border-top-color: var(--fill-color);\n",
              "      border-right-color: var(--fill-color);\n",
              "    }\n",
              "    40% {\n",
              "      border-color: transparent;\n",
              "      border-right-color: var(--fill-color);\n",
              "      border-top-color: var(--fill-color);\n",
              "    }\n",
              "    60% {\n",
              "      border-color: transparent;\n",
              "      border-right-color: var(--fill-color);\n",
              "    }\n",
              "    80% {\n",
              "      border-color: transparent;\n",
              "      border-right-color: var(--fill-color);\n",
              "      border-bottom-color: var(--fill-color);\n",
              "    }\n",
              "    90% {\n",
              "      border-color: transparent;\n",
              "      border-bottom-color: var(--fill-color);\n",
              "    }\n",
              "  }\n",
              "</style>\n",
              "\n",
              "  <script>\n",
              "    async function quickchart(key) {\n",
              "      const quickchartButtonEl =\n",
              "        document.querySelector('#' + key + ' button');\n",
              "      quickchartButtonEl.disabled = true;  // To prevent multiple clicks.\n",
              "      quickchartButtonEl.classList.add('colab-df-spinner');\n",
              "      try {\n",
              "        const charts = await google.colab.kernel.invokeFunction(\n",
              "            'suggestCharts', [key], {});\n",
              "      } catch (error) {\n",
              "        console.error('Error during call to suggestCharts:', error);\n",
              "      }\n",
              "      quickchartButtonEl.classList.remove('colab-df-spinner');\n",
              "      quickchartButtonEl.classList.add('colab-df-quickchart-complete');\n",
              "    }\n",
              "    (() => {\n",
              "      let quickchartButtonEl =\n",
              "        document.querySelector('#df-57869697-5c06-465f-829d-b25a69871023 button');\n",
              "      quickchartButtonEl.style.display =\n",
              "        google.colab.kernel.accessAllowed ? 'block' : 'none';\n",
              "    })();\n",
              "  </script>\n",
              "</div>\n",
              "\n",
              "  <div id=\"id_a8f0593c-48f5-40b6-8685-8e3a764e0588\">\n",
              "    <style>\n",
              "      .colab-df-generate {\n",
              "        background-color: #E8F0FE;\n",
              "        border: none;\n",
              "        border-radius: 50%;\n",
              "        cursor: pointer;\n",
              "        display: none;\n",
              "        fill: #1967D2;\n",
              "        height: 32px;\n",
              "        padding: 0 0 0 0;\n",
              "        width: 32px;\n",
              "      }\n",
              "\n",
              "      .colab-df-generate:hover {\n",
              "        background-color: #E2EBFA;\n",
              "        box-shadow: 0px 1px 2px rgba(60, 64, 67, 0.3), 0px 1px 3px 1px rgba(60, 64, 67, 0.15);\n",
              "        fill: #174EA6;\n",
              "      }\n",
              "\n",
              "      [theme=dark] .colab-df-generate {\n",
              "        background-color: #3B4455;\n",
              "        fill: #D2E3FC;\n",
              "      }\n",
              "\n",
              "      [theme=dark] .colab-df-generate:hover {\n",
              "        background-color: #434B5C;\n",
              "        box-shadow: 0px 1px 3px 1px rgba(0, 0, 0, 0.15);\n",
              "        filter: drop-shadow(0px 1px 2px rgba(0, 0, 0, 0.3));\n",
              "        fill: #FFFFFF;\n",
              "      }\n",
              "    </style>\n",
              "    <button class=\"colab-df-generate\" onclick=\"generateWithVariable('df')\"\n",
              "            title=\"Generate code using this dataframe.\"\n",
              "            style=\"display:none;\">\n",
              "\n",
              "  <svg xmlns=\"http://www.w3.org/2000/svg\" height=\"24px\"viewBox=\"0 0 24 24\"\n",
              "       width=\"24px\">\n",
              "    <path d=\"M7,19H8.4L18.45,9,17,7.55,7,17.6ZM5,21V16.75L18.45,3.32a2,2,0,0,1,2.83,0l1.4,1.43a1.91,1.91,0,0,1,.58,1.4,1.91,1.91,0,0,1-.58,1.4L9.25,21ZM18.45,9,17,7.55Zm-12,3A5.31,5.31,0,0,0,4.9,8.1,5.31,5.31,0,0,0,1,6.5,5.31,5.31,0,0,0,4.9,4.9,5.31,5.31,0,0,0,6.5,1,5.31,5.31,0,0,0,8.1,4.9,5.31,5.31,0,0,0,12,6.5,5.46,5.46,0,0,0,6.5,12Z\"/>\n",
              "  </svg>\n",
              "    </button>\n",
              "    <script>\n",
              "      (() => {\n",
              "      const buttonEl =\n",
              "        document.querySelector('#id_a8f0593c-48f5-40b6-8685-8e3a764e0588 button.colab-df-generate');\n",
              "      buttonEl.style.display =\n",
              "        google.colab.kernel.accessAllowed ? 'block' : 'none';\n",
              "\n",
              "      buttonEl.onclick = () => {\n",
              "        google.colab.notebook.generateWithVariable('df');\n",
              "      }\n",
              "      })();\n",
              "    </script>\n",
              "  </div>\n",
              "\n",
              "    </div>\n",
              "  </div>\n"
            ],
            "application/vnd.google.colaboratory.intrinsic+json": {
              "type": "dataframe",
              "variable_name": "df",
              "summary": "{\n  \"name\": \"df\",\n  \"rows\": 3,\n  \"fields\": [\n    {\n      \"column\": \"Email\",\n      \"properties\": {\n        \"dtype\": \"string\",\n        \"num_unique_values\": 3,\n        \"samples\": [\n          \"shallynagfase301@gmail.com\",\n          \"shallyn.aids21@sbjit.edu.in\",\n          \"username@domain.com\"\n        ],\n        \"semantic_type\": \"\",\n        \"description\": \"\"\n      }\n    },\n    {\n      \"column\": \"new_col\",\n      \"properties\": {\n        \"dtype\": \"category\",\n        \"num_unique_values\": 1,\n        \"samples\": [\n          \"Username\"\n        ],\n        \"semantic_type\": \"\",\n        \"description\": \"\"\n      }\n    },\n    {\n      \"column\": \"Username\",\n      \"properties\": {\n        \"dtype\": \"string\",\n        \"num_unique_values\": 3,\n        \"samples\": [\n          \"shallynagfase301\"\n        ],\n        \"semantic_type\": \"\",\n        \"description\": \"\"\n      }\n    }\n  ]\n}"
            }
          },
          "metadata": {},
          "execution_count": 15
        }
      ]
    },
    {
      "cell_type": "code",
      "source": [
        "\"\"\"\n",
        "Q8. You have a Pandas DataFrame df with columns 'A', 'B', and 'C'. Write a Python function that selects\n",
        "all rows where the value in column 'A' is greater than 5 and the value in column 'B' is less than 10. The\n",
        "function should return a new DataFrame that contains only the selected rows.\n",
        "For example, if df contains the following values:\n",
        "  A B C\n",
        "0 3 5 1\n",
        "1 8 2 7\n",
        "2 6 9 4\n",
        "3 2 3 5\n",
        "4 9 1 2\n",
        "\n",
        "Your function should select the following rows: A B C\n",
        "1 8 2 7\n",
        "4 9 1 2\n",
        "The function should return a new DataFrame that contains only the selected rows.\n",
        "\"\"\"\n",
        "import pandas as pd\n",
        "df = pd.DataFrame({\n",
        "    \"A\":[3,8,6,2,9],\n",
        "    \"B\":[5,2,9,3,1],\n",
        "    \"C\":[1,7,4,5,2]\n",
        "})\n",
        "df\n",
        "print(df[(df[\"A\"] > 5) & (df[\"B\"] < 10)])"
      ],
      "metadata": {
        "colab": {
          "base_uri": "https://localhost:8080/"
        },
        "id": "wFAesKHQ94Jv",
        "outputId": "c90806b1-5b24-4b19-9bf1-c0c194d67c8f"
      },
      "execution_count": 17,
      "outputs": [
        {
          "output_type": "stream",
          "name": "stdout",
          "text": [
            "   A  B  C\n",
            "1  8  2  7\n",
            "2  6  9  4\n",
            "4  9  1  2\n"
          ]
        }
      ]
    },
    {
      "cell_type": "code",
      "source": [
        "# Q9. Given a Pandas DataFrame df with a column 'Values', write a Python function to calculate the mean, median, and standard deviation of the values in the 'Values' column.\n",
        "import pandas as pd\n",
        "df = pd.DataFrame({\n",
        "    \"Values\": [1,2,3,4,5,6,7,8,9,10]\n",
        "})\n",
        "df\n",
        "print(df.describe())\n",
        "print(df.mean())\n",
        "print(df.median())\n",
        "print(df.std())"
      ],
      "metadata": {
        "colab": {
          "base_uri": "https://localhost:8080/"
        },
        "id": "IwqoqZC8_Ju4",
        "outputId": "29e82bd4-228a-4e02-b04c-ddbbfac10ee8"
      },
      "execution_count": 19,
      "outputs": [
        {
          "output_type": "stream",
          "name": "stdout",
          "text": [
            "         Values\n",
            "count  10.00000\n",
            "mean    5.50000\n",
            "std     3.02765\n",
            "min     1.00000\n",
            "25%     3.25000\n",
            "50%     5.50000\n",
            "75%     7.75000\n",
            "max    10.00000\n",
            "Values    5.5\n",
            "dtype: float64\n",
            "Values    5.5\n",
            "dtype: float64\n",
            "Values    3.02765\n",
            "dtype: float64\n"
          ]
        }
      ]
    },
    {
      "cell_type": "code",
      "source": [
        "\"\"\"\n",
        " Q10. Given a Pandas DataFrame df with a column 'Sales' and a column 'Date', write a Python function to\n",
        "create a new column 'MovingAverage' that contains the moving average of the sales for the past 7 days\n",
        "for each row in the DataFrame. The moving average should be calculated using a window of size 7 and\n",
        "should include the current day.\n",
        "\"\"\"\n",
        "import pandas as pd\n",
        "\n",
        "def calculate_moving_average(df):\n",
        "    df['MovingAverage'] = df['Sales'].rolling(window=7, min_periods=1).mean()\n",
        "    return df\n",
        "\n",
        "data = {'Date': pd.date_range(start='1/1/2022', periods=10),\n",
        "        'Sales': [100, 120, 130, 110, 150, 140, 160, 170, 180, 190]}\n",
        "df = pd.DataFrame(data)\n",
        "\n",
        "df = calculate_moving_average(df)\n",
        "\n",
        "print(df)"
      ],
      "metadata": {
        "colab": {
          "base_uri": "https://localhost:8080/"
        },
        "id": "_s_c0iFr_xPv",
        "outputId": "6ffa0560-a724-46a0-c545-a765d932038f"
      },
      "execution_count": 20,
      "outputs": [
        {
          "output_type": "stream",
          "name": "stdout",
          "text": [
            "        Date  Sales  MovingAverage\n",
            "0 2022-01-01    100     100.000000\n",
            "1 2022-01-02    120     110.000000\n",
            "2 2022-01-03    130     116.666667\n",
            "3 2022-01-04    110     115.000000\n",
            "4 2022-01-05    150     122.000000\n",
            "5 2022-01-06    140     125.000000\n",
            "6 2022-01-07    160     130.000000\n",
            "7 2022-01-08    170     140.000000\n",
            "8 2022-01-09    180     148.571429\n",
            "9 2022-01-10    190     157.142857\n"
          ]
        }
      ]
    },
    {
      "cell_type": "code",
      "source": [
        "\"\"\"\n",
        "Q11. You have a Pandas DataFrame df with a column 'Date'. Write a Python function that creates a new\n",
        "column 'Weekday' in the DataFrame. The 'Weekday' column should contain the weekday name (e.g.\n",
        "Monday, Tuesday) corresponding to each date in the 'Date' column.\n",
        "For example, if df contains the following values:\n",
        "Date\n",
        "0 2023-01-01\n",
        "1 2023-01-02\n",
        "2 2023-01-03\n",
        "3 2023-01-04\n",
        "4 2023-01-05\n",
        "Your function should create the following DataFrame:\n",
        "\n",
        "Date Weekday\n",
        "0 2023-01-01 Sunday\n",
        "1 2023-01-02 Monday\n",
        "2 2023-01-03 Tuesday\n",
        "3 2023-01-04 Wednesday\n",
        "4 2023-01-05 Thursday\n",
        "The function should return the modified DataFrame.\n",
        "\"\"\"\n",
        "import pandas as pd\n",
        "\n",
        "def add_weekday_column(df):\n",
        "    df['Date'] = pd.to_datetime(df['Date'])\n",
        "    df['Weekday'] = df['Date'].dt.day_name()\n",
        "    return df\n",
        "\n",
        "data = {'Date': ['2023-01-01', '2023-01-02', '2023-01-03', '2023-01-04', '2023-01-05']}\n",
        "df = pd.DataFrame(data)\n",
        "\n",
        "df = add_weekday_column(df)\n",
        "print(df)"
      ],
      "metadata": {
        "colab": {
          "base_uri": "https://localhost:8080/"
        },
        "id": "qlN5TXZHE05Y",
        "outputId": "205413de-2f0a-4c93-b617-4eca3050c8ff"
      },
      "execution_count": 21,
      "outputs": [
        {
          "output_type": "stream",
          "name": "stdout",
          "text": [
            "        Date    Weekday\n",
            "0 2023-01-01     Sunday\n",
            "1 2023-01-02     Monday\n",
            "2 2023-01-03    Tuesday\n",
            "3 2023-01-04  Wednesday\n",
            "4 2023-01-05   Thursday\n"
          ]
        }
      ]
    },
    {
      "cell_type": "code",
      "source": [
        "\"\"\"\n",
        "Q12. Given a Pandas DataFrame df with a column 'Date' that contains timestamps, write a Python\n",
        "function to select all rows where the date is between '2023-01-01' and '2023-01-31'.\n",
        "\"\"\"\n",
        "import pandas as pd\n",
        "\n",
        "def select_rows_between_dates(df):\n",
        "    df['Date'] = pd.to_datetime(df['Date'])\n",
        "    selected_rows = df[(df['Date'] >= '2023-01-01') & (df['Date'] <= '2023-01-31')]\n",
        "    return selected_rows\n",
        "\n",
        "data = {'Date': ['2023-01-05', '2023-01-15', '2023-02-10', '2023-01-25', '2023-03-05']}\n",
        "df = pd.DataFrame(data)\n",
        "selected_df = select_rows_between_dates(df)\n",
        "\n",
        "print(selected_df)"
      ],
      "metadata": {
        "colab": {
          "base_uri": "https://localhost:8080/"
        },
        "id": "j96JjVZoFLyq",
        "outputId": "bd09f541-c919-46a7-eeb5-1e747d912eea"
      },
      "execution_count": 22,
      "outputs": [
        {
          "output_type": "stream",
          "name": "stdout",
          "text": [
            "        Date\n",
            "0 2023-01-05\n",
            "1 2023-01-15\n",
            "3 2023-01-25\n"
          ]
        }
      ]
    },
    {
      "cell_type": "code",
      "source": [
        "\"\"\"\n",
        "Q13. To use the basic functions of pandas, what is the first and foremost necessary library that needs to\n",
        "be imported?\n",
        "\"\"\"\n",
        "\n",
        "\"\"\"\n",
        "To use the basic functions of pandas, the first and foremost necessary library that needs to be imported is the NumPy library.\n",
        "Pandas is built on top of NumPy, and many of the structures and functionalities in NumPy are used or replicated in Pandas.\n",
        "\"\"'"
      ],
      "metadata": {
        "colab": {
          "base_uri": "https://localhost:8080/",
          "height": 36
        },
        "id": "ouNYjpNKFbno",
        "outputId": "ac25dd33-d24e-4c66-ba02-9b77ad2c6ac2"
      },
      "execution_count": 24,
      "outputs": [
        {
          "output_type": "execute_result",
          "data": {
            "text/plain": [
              "'\\nQ13. To use the basic functions of pandas, what is the first and foremost necessary library that needs to\\nbe imported?\\n'"
            ],
            "application/vnd.google.colaboratory.intrinsic+json": {
              "type": "string"
            }
          },
          "metadata": {},
          "execution_count": 24
        }
      ]
    },
    {
      "cell_type": "code",
      "source": [],
      "metadata": {
        "id": "FIhtsfMhFcUK"
      },
      "execution_count": null,
      "outputs": []
    }
  ]
}
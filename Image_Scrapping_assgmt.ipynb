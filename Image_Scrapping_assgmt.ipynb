{
  "nbformat": 4,
  "nbformat_minor": 0,
  "metadata": {
    "colab": {
      "provenance": [],
      "authorship_tag": "ABX9TyPVfX2tgwX2QvMtPvvlbXPI",
      "include_colab_link": true
    },
    "kernelspec": {
      "name": "python3",
      "display_name": "Python 3"
    },
    "language_info": {
      "name": "python"
    }
  },
  "cells": [
    {
      "cell_type": "markdown",
      "metadata": {
        "id": "view-in-github",
        "colab_type": "text"
      },
      "source": [
        "<a href=\"https://colab.research.google.com/github/shallynagfase9/Data-Science-Assignments/blob/main/Image_Scrapping_assgmt.ipynb\" target=\"_parent\"><img src=\"https://colab.research.google.com/assets/colab-badge.svg\" alt=\"Open In Colab\"/></a>"
      ]
    },
    {
      "cell_type": "code",
      "execution_count": 2,
      "metadata": {
        "colab": {
          "base_uri": "https://localhost:8080/"
        },
        "id": "-N93nBCz4LKN",
        "outputId": "e024f8fd-1e9b-4d84-fb91-16b9864b384a"
      },
      "outputs": [
        {
          "output_type": "stream",
          "name": "stdout",
          "text": [
            "Collecting youtube_dl\n",
            "  Downloading youtube_dl-2021.12.17-py2.py3-none-any.whl (1.9 MB)\n",
            "\u001b[2K     \u001b[90m━━━━━━━━━━━━━━━━━━━━━━━━━━━━━━━━━━━━━━━━\u001b[0m \u001b[32m1.9/1.9 MB\u001b[0m \u001b[31m9.8 MB/s\u001b[0m eta \u001b[36m0:00:00\u001b[0m\n",
            "\u001b[?25hInstalling collected packages: youtube_dl\n",
            "Successfully installed youtube_dl-2021.12.17\n"
          ]
        }
      ],
      "source": [
        "# Go to this given URL and solve the following questions\n",
        "# URL: https://www.youtube.com/@PW-Foundation/videos\n",
        "\n",
        "!pip install youtube_dl\n",
        "import youtube_dl"
      ]
    },
    {
      "cell_type": "code",
      "source": [
        "# Q1. Write a python program to extract the video URL of the first five videos.\n",
        "import youtube_dl\n",
        "\n",
        "def get_video_urls(channel_url, limit=5):\n",
        "    ydl_opts = {\n",
        "        'quiet': True,\n",
        "        'extract_flat': True,\n",
        "        'max_entries': limit\n",
        "    }\n",
        "\n",
        "    with youtube_dl.YoutubeDL(ydl_opts) as ydl:\n",
        "        result = ydl.extract_info(channel_url, download=False)\n",
        "\n",
        "        video_urls = []\n",
        "        for entry in result['entries'][:limit]:\n",
        "            if 'url' in entry:\n",
        "                video_urls.append(entry['url'])\n",
        "\n",
        "        return video_urls\n",
        "\n",
        "if __name__ == \"__main__\":\n",
        "    channel_url = \"https://www.youtube.com/@PW-Foundation/videos\"\n",
        "    print(\"\\nFirst Five Video URLs from the channel:\\n\")\n",
        "    video_urls = get_video_urls(channel_url)\n",
        "\n",
        "    for idx, url in enumerate(video_urls, start=1):\n",
        "        print(f\"Video {idx}: {url}\")"
      ],
      "metadata": {
        "colab": {
          "base_uri": "https://localhost:8080/"
        },
        "id": "pmPmMDJL5gm6",
        "outputId": "de90f475-1188-4b8a-dd35-262d9b07e113"
      },
      "execution_count": 3,
      "outputs": [
        {
          "output_type": "stream",
          "name": "stdout",
          "text": [
            "\n",
            "First Five Video URLs from the channel:\n",
            "\n",
            "Video 1: csvI3Dbhy48\n",
            "Video 2: brZBO9GFyuk\n",
            "Video 3: dfqnSgSM8Ok\n",
            "Video 4: xFPn1edoXCM\n",
            "Video 5: 0VrTiAxEtsg\n"
          ]
        }
      ]
    },
    {
      "cell_type": "code",
      "source": [
        "# Q2. Write a python program to extract the URL of the video thumbnails of the first five videos.\n",
        "import youtube_dl\n",
        "\n",
        "def get_video_thumbnails(channel_url, limit=5):\n",
        "    ydl_opts = {\n",
        "        'quiet': True,\n",
        "        'extract_flat': True,\n",
        "        'max_entries': limit\n",
        "    }\n",
        "\n",
        "    with youtube_dl.YoutubeDL(ydl_opts) as ydl:\n",
        "        result = ydl.extract_info(channel_url, download=False)\n",
        "\n",
        "        thumbnails_urls = []\n",
        "        for entry in result['entries'][:limit]:\n",
        "            if 'thumbnails' in entry:\n",
        "                thumbnails = entry['thumbnails']\n",
        "                if thumbnails:\n",
        "                    thumbnails_urls.append(thumbnails[-1]['url'])  # Get the URL of the highest quality thumbnail\n",
        "\n",
        "        return thumbnails_urls\n",
        "\n",
        "if __name__ == \"__main__\":\n",
        "    channel_url = \"https://www.youtube.com/@PW-Foundation/videos\"\n",
        "    print(\"\\nURLs of Video Thumbnails for the first five videos from the channel:\\n\")\n",
        "    thumbnails_urls = get_video_thumbnails(channel_url)\n",
        "\n",
        "    for idx, url in enumerate(thumbnails_urls, start=1):\n",
        "        print(f\"Thumbnail {idx}: {url}\")"
      ],
      "metadata": {
        "colab": {
          "base_uri": "https://localhost:8080/"
        },
        "id": "5KyvCdQA55Fi",
        "outputId": "3085626e-13c8-4752-ab29-7a387759064e"
      },
      "execution_count": 5,
      "outputs": [
        {
          "output_type": "stream",
          "name": "stdout",
          "text": [
            "\n",
            "URLs of Video Thumbnails for the first five videos from the channel:\n",
            "\n"
          ]
        }
      ]
    },
    {
      "cell_type": "code",
      "source": [
        "# Q3. Write a python program to extract the title of the first five videos.\n",
        "import youtube_dl\n",
        "\n",
        "def get_video_titles(channel_url, limit=5):\n",
        "    ydl_opts = {\n",
        "        'quiet': True,\n",
        "        'extract_flat': True,\n",
        "        'max_entries': limit\n",
        "    }\n",
        "\n",
        "    with youtube_dl.YoutubeDL(ydl_opts) as ydl:\n",
        "        result = ydl.extract_info(channel_url, download=False)\n",
        "\n",
        "        video_titles = []\n",
        "        for entry in result['entries'][:limit]:\n",
        "            if 'title' in entry:\n",
        "                video_titles.append(entry['title'])\n",
        "\n",
        "        return video_titles\n",
        "\n",
        "if __name__ == \"__main__\":\n",
        "    channel_url = \"https://www.youtube.com/@PW-Foundation/videos\"\n",
        "    print(\"\\nTitles of First Five Videos from the Channel:\\n\")\n",
        "    video_titles = get_video_titles(channel_url)\n",
        "\n",
        "    for idx, title in enumerate(video_titles, start=1):\n",
        "        print(f\"Title {idx}: {title}\")"
      ],
      "metadata": {
        "colab": {
          "base_uri": "https://localhost:8080/"
        },
        "id": "DHrFzMN06WEW",
        "outputId": "8e76f733-a0c6-4e44-dc8c-04dd788b661c"
      },
      "execution_count": 7,
      "outputs": [
        {
          "output_type": "stream",
          "name": "stdout",
          "text": [
            "\n",
            "Titles of First Five Videos from the Channel:\n",
            "\n",
            "Title 1: How to Attempt SCIENCE Board Exam ✅ | Score 100/100 in Class 10th CBSE 💯\n",
            "Title 2: Complete SCIENCE in Just 7 hours | LAST Minute Revision | Class 10th CBSE Boards\n",
            "Title 3: Class 10th Maths: Most Important 100 Questions for Board Exams | BOARD Exam 2024 @Class10th-UDAAN\n",
            "Title 4: Watch This Before BOARD Exam!! 🔥 LAST Minute Tips & Revision Strategy\n",
            "Title 5: We Are Back !! Vishwas Diwas is Here With New PW BATCHES For 9th & 10th Students 😱 🔥\n"
          ]
        }
      ]
    },
    {
      "cell_type": "code",
      "source": [
        "# Q4. Write a python program to extract the number of views of the first five videos.\n",
        "import json\n",
        "import requests\n",
        "from bs4 import BeautifulSoup\n",
        "from urllib.parse import urljoin\n",
        "\n",
        "def get_yt_id_from_link(link):\n",
        "    match = re.match(r'(?:http(?:s)?\\://)?(?:www\\.)?(?:youtu\\.be\\/|youtube\\.com\\/(?:embed\\/|watch\\?v=\\ |v\\/)|shorts\\/\\S+)\\S+', link)\n",
        "    if match:\n",
        "        return match.group(1) + match.group(2) if match.group(2) else match.group(1)\n",
        "    raise ValueError(\"Invalid YouTube link!\")\n",
        "\n",
        "def get_view_count(yt_id):\n",
        "    api_key = \"<Your_API_Key>\"\n",
        "    base_url = f\"https://www.googleapis.com/youtube/v3/videos?part=statistics&id={yt_id}&key={api_key}\"\n",
        "    response = requests.get(base_url)\n",
        "    if response.status_code != 200:\n",
        "        raise Exception(\"Error while fetching view count.\")\n",
        "\n",
        "    data = response.json()\n",
        "    try:\n",
        "        return int(data[\"items\"][0][\"stats\"][\"viewCount\"])\n",
        "    except IndexError:\n",
        "        raise Exception(\"Could not find video with id {}\".format(yt_id))\n",
        "\n",
        "def get_video_views(channel_url, limit=5):\n",
        "    ydl_opts = {\n",
        "        'quiet': True,\n",
        "        'extract_flat': True,\n",
        "        'max_entries': limit\n",
        "    }\n",
        "\n",
        "    with youtube_dl.YoutubeDL(ydl_opts) as ydl:\n",
        "        result = ydl.extract_info(channel_url, download=False)\n",
        "\n",
        "        video_ids = []\n",
        "        video_views = []\n",
        "        for entry in result['entries'][:limit]:\n",
        "            if 'webpage_url' in entry:\n",
        "                video_links = [urljoin(\"https://www.youtube.com\", info) for info in entry['webpage_url'].split(\",\")]\n",
        "                yt_id = get_yt_id_from_link(video_links[0])\n",
        "                video_ids.append(yt_id)\n",
        "                try:\n",
        "                    view_count = get_view_count(yt_id)\n",
        "                    video_views.append((yt_id, view_count))\n",
        "                except Exception as e:\n",
        "                    print(f\"\\nFailed to fetch view count for {yt_id} due to error: {str(e)}\\n\")\n",
        "\n",
        "    return dict(zip(['vid_{}'.format(i+1) for i in range(len(video_ids))], video_views))\n",
        "\n",
        "if __name__ == \"__main__\":\n",
        "    channel_url = \"https://www.youtube.com/@PW-Foundation/videos\"\n",
        "    print(\"\\nView Counts of First Five Videos from the Channel:\\n\")\n",
        "    view_dict = get_video_views(channel_url)\n",
        "    for vid_num, view_count in view_dict.items():\n",
        "        print(f\"{vid_num}: {view_count[1]} views\")"
      ],
      "metadata": {
        "colab": {
          "base_uri": "https://localhost:8080/"
        },
        "id": "WAIDDIFC6m2t",
        "outputId": "b610714b-96ea-4130-b651-2f735d3f70dd"
      },
      "execution_count": 8,
      "outputs": [
        {
          "output_type": "stream",
          "name": "stdout",
          "text": [
            "\n",
            "View Counts of First Five Videos from the Channel:\n",
            "\n"
          ]
        }
      ]
    },
    {
      "cell_type": "code",
      "source": [
        "# Q5. Write a python program to extract the time of posting of video for the first five videos.\n",
        "import youtube_dl\n",
        "\n",
        "def get_video_posting_time(channel_url, limit=5):\n",
        "    ydl_opts = {\n",
        "        'quiet': True,\n",
        "        'extract_flat': True,\n",
        "        'max_entries': limit\n",
        "    }\n",
        "\n",
        "    with youtube_dl.YoutubeDL(ydl_opts) as ydl:\n",
        "        result = ydl.extract_info(channel_url, download=False)\n",
        "\n",
        "        posting_times = []\n",
        "        for entry in result['entries'][:limit]:\n",
        "            if 'upload_date' in entry:\n",
        "                posting_times.append(entry['upload_date'])\n",
        "\n",
        "        return posting_times\n",
        "\n",
        "if __name__ == \"__main__\":\n",
        "    channel_url = \"https://www.youtube.com/@PW-Foundation/videos\"\n",
        "    print(\"\\nPosting Times of First Five Videos from the Channel:\\n\")\n",
        "    posting_times = get_video_posting_time(channel_url)\n",
        "\n",
        "    for idx, time in enumerate(posting_times, start=1):\n",
        "        print(f\"Video {idx} Posting Time: {time}\")"
      ],
      "metadata": {
        "colab": {
          "base_uri": "https://localhost:8080/"
        },
        "id": "kI6UqORf65ss",
        "outputId": "b969e45b-2ed5-446d-f042-5898ff77f5ce"
      },
      "execution_count": 9,
      "outputs": [
        {
          "output_type": "stream",
          "name": "stdout",
          "text": [
            "\n",
            "Posting Times of First Five Videos from the Channel:\n",
            "\n"
          ]
        }
      ]
    },
    {
      "cell_type": "code",
      "source": [],
      "metadata": {
        "id": "hQwEHmOi7G1n"
      },
      "execution_count": null,
      "outputs": []
    }
  ]
}
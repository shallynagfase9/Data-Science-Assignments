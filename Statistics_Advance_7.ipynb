{
  "nbformat": 4,
  "nbformat_minor": 0,
  "metadata": {
    "colab": {
      "provenance": [],
      "authorship_tag": "ABX9TyOd6P62cchUXiysPbiIhfi9",
      "include_colab_link": true
    },
    "kernelspec": {
      "name": "python3",
      "display_name": "Python 3"
    },
    "language_info": {
      "name": "python"
    }
  },
  "cells": [
    {
      "cell_type": "markdown",
      "metadata": {
        "id": "view-in-github",
        "colab_type": "text"
      },
      "source": [
        "<a href=\"https://colab.research.google.com/github/shallynagfase9/Data-Science-Assignments/blob/main/Statistics_Advance_7.ipynb\" target=\"_parent\"><img src=\"https://colab.research.google.com/assets/colab-badge.svg\" alt=\"Open In Colab\"/></a>"
      ]
    },
    {
      "cell_type": "code",
      "execution_count": 1,
      "metadata": {
        "colab": {
          "base_uri": "https://localhost:8080/"
        },
        "id": "HIDuKd02AsJY",
        "outputId": "1a6824c4-bbc3-45b9-9f89-dabaf2dfe297"
      },
      "outputs": [
        {
          "output_type": "stream",
          "name": "stdout",
          "text": [
            "F-value: 28.966222079963003\n",
            "p-value: 5.033084806890945e-07\n"
          ]
        }
      ],
      "source": [
        "# Q1. Write a Python function that takes in two arrays of data and calculates the F-value for a variance ratio test. The function should return the F-value and the corresponding p-value for the test.\n",
        "import numpy as np\n",
        "from scipy.stats import f_oneway\n",
        "\n",
        "def variance_ratio_test(data1, data2):\n",
        "    # Calculate the F-value and p-value for the variance ratio test\n",
        "    f_value, p_value = f_oneway(data1, data2)\n",
        "\n",
        "    # Return the F-value and p-value\n",
        "    return f_value, p_value\n",
        "\n",
        "# Example usage\n",
        "data1 = np.random.normal(loc=50, scale=5, size=50)\n",
        "data2 = np.random.normal(loc=55, scale=5, size=50)\n",
        "\n",
        "f_value, p_value = variance_ratio_test(data1, data2)\n",
        "print(f\"F-value: {f_value}\")\n",
        "print(f\"p-value: {p_value}\")"
      ]
    },
    {
      "cell_type": "code",
      "source": [
        "# Q2. Given a significance level of 0.05 and the degrees of freedom for the numerator and denominator of an F-distribution, write a Python function that returns the critical F-value for a two-tailed test.\n",
        "\n",
        "import numpy as np\n",
        "from scipy.stats import f\n",
        "\n",
        "def critical_f_value(alpha, df_num, df_den):\n",
        "    # Calculate the critical F-value for a two-tailed test\n",
        "    critical_value = f.ppf(1 - alpha / 2, df_num, df_den)\n",
        "\n",
        "    # Return the critical value\n",
        "    return critical_value\n",
        "\n",
        "# Example usage\n",
        "alpha = 0.05\n",
        "df_num = 4\n",
        "df_den = 10\n",
        "\n",
        "critical_value = critical_f_value(alpha, df_num, df_den)\n",
        "print(f\"Critical F-value: {critical_value}\")"
      ],
      "metadata": {
        "id": "5QXAwsjaA6yV"
      },
      "execution_count": null,
      "outputs": []
    },
    {
      "cell_type": "code",
      "source": [
        "# Q3. Write a Python program that generates random samples from two normal distributions with known variances and uses an F-test to determine if the variances are equal. The program should output the F- value, degrees of freedom, and p-value for the test.\n",
        "import numpy as np\n",
        "from scipy.stats import f_oneway\n",
        "\n",
        "# Generate random samples from two normal distributions with known variances\n",
        "np.random.seed(0)\n",
        "n1 = 50\n",
        "n2 = 50\n",
        "mu1 = 0\n",
        "mu2 = 0\n",
        "sigma1 = 1\n",
        "sigma2 = 2\n",
        "data1 = np.random.normal(mu1, sigma1, n1)\n",
        "data2 = np.random.normal(mu2, sigma2, n2)\n",
        "\n",
        "# Perform the F-test\n",
        "f_value, p_value = f_oneway(data1, data2)\n",
        "\n",
        "# Print the results\n",
        "print(f\"F-value: {f_value:.2f}\")\n",
        "print(f\"Degrees of freedom: {n1 + n2 - 2:d} (numerator), {1:d} (denominator)\")\n",
        "print(f\"P-value: {p_value:.4f}\")"
      ],
      "metadata": {
        "colab": {
          "base_uri": "https://localhost:8080/"
        },
        "id": "ZPXiMrtQBDxb",
        "outputId": "b60c1066-c8b3-4b75-d0c9-0616b20bd220"
      },
      "execution_count": 2,
      "outputs": [
        {
          "output_type": "stream",
          "name": "stdout",
          "text": [
            "F-value: 0.38\n",
            "Degrees of freedom: 98 (numerator), 1 (denominator)\n",
            "P-value: 0.5382\n"
          ]
        }
      ]
    },
    {
      "cell_type": "code",
      "source": [
        "# Q4.The variances of two populations are known to be 10 and 15. A sample of 12 observations is taken from each population. Conduct an F-test at the 5% significance level to determine if the variances are significantly different.\n",
        "import numpy as np\n",
        "from scipy.stats import f_oneway\n",
        "\n",
        "# Set the known variances and sample size\n",
        "sigma1 = np.sqrt(10)\n",
        "sigma2 = np.sqrt(15)\n",
        "n = 12\n",
        "\n",
        "# Generate random samples from the two populations\n",
        "np.random.seed(0)\n",
        "sample1 = np.random.normal(0, sigma1, n)\n",
        "sample2 = np.random.normal(0, sigma2, n)\n",
        "\n",
        "# Conduct the F-test\n",
        "f_stat, p_value = f_oneway(sample1, sample2)\n",
        "\n",
        "# Print the results\n",
        "print(\"F-statistic:\", f_stat)\n",
        "print(\"Degrees of freedom:\", n-1, \"and\", n-1)\n",
        "print(\"P-value:\", p_value)"
      ],
      "metadata": {
        "colab": {
          "base_uri": "https://localhost:8080/"
        },
        "id": "-UGHZ7K-BM5E",
        "outputId": "58cf6214-a35b-4c7a-b3a6-f86dcde8ff76"
      },
      "execution_count": 3,
      "outputs": [
        {
          "output_type": "stream",
          "name": "stdout",
          "text": [
            "F-statistic: 2.162800060913968\n",
            "Degrees of freedom: 11 and 11\n",
            "P-value: 0.15554574347244532\n"
          ]
        }
      ]
    },
    {
      "cell_type": "code",
      "source": [
        "# Q5. A manufacturer claims that the variance of the diameter of a certain product is 0.005. A sample of 25 products is taken, and the sample variance is found to be 0.006. Conduct an F-test at the 1% significance level to determine if the claim is justified.\n",
        "import scipy.stats as stats\n",
        "\n",
        "# Known population variance\n",
        "population_variance = 0.005\n",
        "\n",
        "# Sample variance and sample size\n",
        "sample_variance = 0.006\n",
        "sample_size = 25\n",
        "\n",
        "# Calculate the F-value\n",
        "f_value = sample_variance / population_variance\n",
        "\n",
        "# Degrees of freedom\n",
        "df_between = sample_size - 1\n",
        "df_within = float('inf')  # Degrees of freedom for the denominator (population variance)\n",
        "\n",
        "# Calculate the p-value\n",
        "p_value = 1 - stats.f.cdf(f_value, df_between, df_within)\n",
        "\n",
        "# Significance level\n",
        "alpha = 0.01\n",
        "\n",
        "# Determine if the claim is justified\n",
        "if p_value < alpha:\n",
        "    print(\"Reject the null hypothesis. The claim is not justified.\")\n",
        "else:\n",
        "    print(\"Fail to reject the null hypothesis. The claim is justified.\")\n",
        "\n",
        "# Print the F-value, p-value, and decision\n",
        "print(f\"F-value: {f_value:.4f}\")\n",
        "print(f\"P-value: {p_value:.4f}\")"
      ],
      "metadata": {
        "colab": {
          "base_uri": "https://localhost:8080/"
        },
        "id": "3TLEL5L0Bg9U",
        "outputId": "70478b07-6b69-49bc-f08b-ed26a28b7351"
      },
      "execution_count": 4,
      "outputs": [
        {
          "output_type": "stream",
          "name": "stdout",
          "text": [
            "Fail to reject the null hypothesis. The claim is justified.\n",
            "F-value: 1.2000\n",
            "P-value: 1.0000\n"
          ]
        }
      ]
    },
    {
      "cell_type": "code",
      "source": [
        "# Q6. Write a Python function that takes in the degrees of freedom for the numerator and denominator of an F-distribution and calculates the mean and variance of the distribution. The function should return the mean and variance as a tuple.\n",
        "import numpy as np\n",
        "\n",
        "def f_distribution_mean_variance(df_num, df_den):\n",
        "\n",
        "    # Calculate the mean\n",
        "    mean = df_den / (df_den - 2) if df_den > 2 else np.nan\n",
        "\n",
        "    # Calculate the variance\n",
        "    variance = (2 * df_den**2 * (df_num + df_den - 2)) / ((df_den - 2)**2 * (df_den - 4)) if df_den > 4 else np.nan\n",
        "\n",
        "    # Return the mean and variance as a tuple\n",
        "    return mean, variance\n",
        "\n",
        "df_num = 5\n",
        "df_den = 10\n",
        "\n",
        "mean, variance = f_distribution_mean_variance(df_num, df_den)\n",
        "\n",
        "print(f\"Mean: {mean:.2f}, Variance: {variance:.2f}\")"
      ],
      "metadata": {
        "colab": {
          "base_uri": "https://localhost:8080/"
        },
        "id": "b1ua4rjwBtxu",
        "outputId": "20503220-0dd5-4509-97d4-efd29fd357d8"
      },
      "execution_count": 5,
      "outputs": [
        {
          "output_type": "stream",
          "name": "stdout",
          "text": [
            "Mean: 1.25, Variance: 6.77\n"
          ]
        }
      ]
    },
    {
      "cell_type": "code",
      "source": [
        "\"\"\"\n",
        "Q7. A random sample of 10 measurements is taken from a normal population with unknown variance. The\n",
        "sample variance is found to be 25. Another random sample of 15 measurements is taken from another\n",
        "normal population with unknown variance, and the sample variance is found to be 20. Conduct an F-test\n",
        "at the 10% significance level to determine if the variances are significantly different.\n",
        "\"\"\"\n",
        "from scipy.stats import f\n",
        "\n",
        "# Sample variances\n",
        "variance1 = 25\n",
        "variance2 = 20\n",
        "\n",
        "# Degrees of freedom\n",
        "df1 = 10 - 1\n",
        "df2 = 15 - 1\n",
        "\n",
        "# F-statistic\n",
        "f_stat = variance1 / variance2\n",
        "\n",
        "# Critical value\n",
        "alpha = 0.10\n",
        "critical_value = f.ppf(1 - alpha, df1, df2)\n",
        "\n",
        "# Decision rule\n",
        "if f_stat > critical_value:\n",
        "    print(\"Reject the null hypothesis. The variances are significantly different.\")\n",
        "else:\n",
        "    print(\"Fail to reject the null hypothesis. The variances are not significantly different.\")"
      ],
      "metadata": {
        "colab": {
          "base_uri": "https://localhost:8080/"
        },
        "id": "reYxRxfGB81d",
        "outputId": "a6de8966-4c26-4ef9-f049-0b6bf1b2b335"
      },
      "execution_count": 6,
      "outputs": [
        {
          "output_type": "stream",
          "name": "stdout",
          "text": [
            "Fail to reject the null hypothesis. The variances are not significantly different.\n"
          ]
        }
      ]
    },
    {
      "cell_type": "code",
      "source": [
        "\"\"\"\n",
        "Q8. The following data represent the waiting times in minutes at two different restaurants on a Saturday\n",
        "night: Restaurant A: 24, 25, 28, 23, 22, 20, 27; Restaurant B: 31, 33, 35, 30, 32, 36. Conduct an F-test at the 5%\n",
        "significance level to determine if the variances are significantly different.\n",
        "\"\"\"\n",
        "import numpy as np\n",
        "from scipy.stats import f\n",
        "\n",
        "# Sample data\n",
        "restaurant_a = np.array([24, 25, 28, 23, 22, 20, 27])\n",
        "restaurant_b = np.array([31, 33, 35, 30, 32, 36])\n",
        "\n",
        "# Sample variances\n",
        "variance_a = np.var(restaurant_a, ddof=1)\n",
        "variance_b = np.var(restaurant_b, ddof=1)\n",
        "\n",
        "# Degrees of freedom\n",
        "df1 = len(restaurant_a) - 1\n",
        "df2 = len(restaurant_b) - 1\n",
        "\n",
        "# F-statistic\n",
        "f_stat = variance_a / variance_b\n",
        "\n",
        "# Critical value\n",
        "alpha = 0.05\n",
        "critical_value = f.ppf(1 - alpha, df1, df2)\n",
        "\n",
        "# Decision rule\n",
        "if f_stat > critical_value:\n",
        "    print(\"Reject the null hypothesis. The variances are significantly different.\")\n",
        "else:\n",
        "    print(\"Fail to reject the null hypothesis. The variances are not significantly different.\")"
      ],
      "metadata": {
        "colab": {
          "base_uri": "https://localhost:8080/"
        },
        "id": "I__wGm-rCHpx",
        "outputId": "3dcbdfb8-81b9-4878-c449-e99f2e5a3672"
      },
      "execution_count": 7,
      "outputs": [
        {
          "output_type": "stream",
          "name": "stdout",
          "text": [
            "Fail to reject the null hypothesis. The variances are not significantly different.\n"
          ]
        }
      ]
    },
    {
      "cell_type": "code",
      "source": [
        "\"\"\"\n",
        "Q9. The following data represent the test scores of two groups of students: Group A: 80, 85, 90, 92, 87, 83;\n",
        "Group B: 75, 78, 82, 79, 81, 84. Conduct an F-test at the 1% significance level to determine if the variances\n",
        "are significantly different.\n",
        "\"\"\"\n",
        "import numpy as np\n",
        "from scipy.stats import f\n",
        "\n",
        "# Group A test scores\n",
        "group_a = np.array([80, 85, 90, 92, 87, 83])\n",
        "n_a = len(group_a)\n",
        "s2_a = np.var(group_a, ddof=1)\n",
        "\n",
        "# Group B test scores\n",
        "group_b = np.array([75, 78, 82, 79, 81, 84])\n",
        "n_b = len(group_b)\n",
        "s2_b = np.var(group_b, ddof=1)\n",
        "\n",
        "# Calculate the F-statistic\n",
        "if s2_a > s2_b:\n",
        "    f_stat = s2_a / s2_b\n",
        "else:\n",
        "    f_stat = s2_b / s2_a\n",
        "\n",
        "# Calculate the degrees of freedom\n",
        "df1 = n_a - 1\n",
        "df2 = n_b - 1\n",
        "\n",
        "# Calculate the critical value\n",
        "alpha = 0.01\n",
        "critical_value = f.ppf(1 - alpha, df1, df2)\n",
        "\n",
        "# Print the results\n",
        "print(\"F-statistic:\", f_stat)\n",
        "print(\"Degrees of freedom:\", df1, \"and\", df2)\n",
        "print(\"Alpha:\", alpha)\n",
        "print(\"Critical value:\", critical_value)\n",
        "\n",
        "# Compare the F-statistic to the critical value\n",
        "if f_stat > critical_value:\n",
        "    print(\"Reject the null hypothesis. The variances are significantly different.\")\n",
        "else:\n",
        "    print(\"Fail to reject the null hypothesis. The variances are not significantly different.\")"
      ],
      "metadata": {
        "colab": {
          "base_uri": "https://localhost:8080/"
        },
        "id": "a-UCSLyLCaTv",
        "outputId": "5d4fd7aa-2bf8-487a-fbff-bc675892a752"
      },
      "execution_count": 8,
      "outputs": [
        {
          "output_type": "stream",
          "name": "stdout",
          "text": [
            "F-statistic: 1.9442622950819677\n",
            "Degrees of freedom: 5 and 5\n",
            "Alpha: 0.01\n",
            "Critical value: 10.967020650907992\n",
            "Fail to reject the null hypothesis. The variances are not significantly different.\n"
          ]
        }
      ]
    }
  ]
}
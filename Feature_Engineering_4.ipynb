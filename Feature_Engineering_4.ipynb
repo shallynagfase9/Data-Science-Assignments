{
  "nbformat": 4,
  "nbformat_minor": 0,
  "metadata": {
    "colab": {
      "provenance": [],
      "authorship_tag": "ABX9TyONI4lw9MQL49LDkwhfNEus",
      "include_colab_link": true
    },
    "kernelspec": {
      "name": "python3",
      "display_name": "Python 3"
    },
    "language_info": {
      "name": "python"
    }
  },
  "cells": [
    {
      "cell_type": "markdown",
      "metadata": {
        "id": "view-in-github",
        "colab_type": "text"
      },
      "source": [
        "<a href=\"https://colab.research.google.com/github/shallynagfase9/Data-Science-Assignments/blob/main/Feature_Engineering_4.ipynb\" target=\"_parent\"><img src=\"https://colab.research.google.com/assets/colab-badge.svg\" alt=\"Open In Colab\"/></a>"
      ]
    },
    {
      "cell_type": "code",
      "execution_count": null,
      "metadata": {
        "id": "CxoezRocsZ36"
      },
      "outputs": [],
      "source": [
        "# Q1. What is data encoding? How is it useful in data science?\n",
        "\"\"\"\n",
        " Data encoding refers to the process of converting categorical data into a numerical format that can be used for analysis and modeling in data science.\n",
        "\n",
        "Common Techniques for Data Encoding:\n",
        "- Label Encoding: Assigns a unique integer to each category in the variable. It is suitable for ordinal variables where there is a natural order among the categories.\n",
        "- One-Hot Encoding: Creates binary dummy variables for each category, where each category is represented by a separate binary feature. It is suitable for nominal variables where there is no inherent order among the categories.\n",
        "- Ordinal Encoding: Maps each category to a numerical value based on its ordinal relationship. It is suitable for ordinal variables where the categories have a meaningful order.\n",
        "- Binary Encoding: Converts each category into binary code and represents it as a sequence of binary digits. It is suitable for variables with a large number of categories.\n",
        "\n",
        "\"\"\""
      ]
    },
    {
      "cell_type": "code",
      "source": [
        "# Q2. What is nominal encoding? Provide an example of how you would use it in a real-world scenario.\n",
        "\"\"\"\n",
        "Nominal encoding, also known as one-hot encoding, is a technique used to convert categorical variables into a numerical format suitable for machine learning algorithms.\n",
        "In nominal encoding, each category in the categorical variable is represented by a binary dummy variable, where each category corresponds to a unique binary feature.\n",
        "\n",
        "\"\"\"\n",
        "\n",
        "import pandas as pd\n",
        "from sklearn.preprocessing import OneHotEncoder\n",
        "\n",
        "df = pd.DataFrame(\n",
        "    {\n",
        "        'color':[\"red\",\"green\",\"blue\",\"green\",\"red\",\"blue\"]\n",
        "    }\n",
        ")\n",
        "df\n",
        "\n",
        "encoder = OneHotEncoder()\n",
        "encoder.fit_transform(df[[\"color\"]]).toarray()"
      ],
      "metadata": {
        "colab": {
          "base_uri": "https://localhost:8080/"
        },
        "id": "sAx-f_Eps7As",
        "outputId": "c251992b-10c2-4efb-aaeb-3b9dc0ad4d7d"
      },
      "execution_count": 2,
      "outputs": [
        {
          "output_type": "execute_result",
          "data": {
            "text/plain": [
              "array([[0., 0., 1.],\n",
              "       [0., 1., 0.],\n",
              "       [1., 0., 0.],\n",
              "       [0., 1., 0.],\n",
              "       [0., 0., 1.],\n",
              "       [1., 0., 0.]])"
            ]
          },
          "metadata": {},
          "execution_count": 2
        }
      ]
    },
    {
      "cell_type": "code",
      "source": [
        "# Q3. In what situations is nominal encoding preferred over one-hot encoding? Provide a practical example.\n",
        "\n",
        "\"\"\"\n",
        "Situations where Nominal Encoding is Preferred:\n",
        "- Ordinal Variables: Nominal encoding is suitable for ordinal variables, where the categories have a natural order or ranking. In such cases, converting the categories into numerical values based on their order preserves the ordinal relationship among them.\n",
        "- Reduced Dimensionality: Nominal encoding reduces the dimensionality of the dataset compared to one-hot encoding, especially when dealing with categorical variables with a large number of unique categories.\n",
        "  This can lead to more efficient memory usage and computational performance.\n",
        "- Interpretability: Nominal encoding results in a single numerical feature representing the ordinal variable, making it easier to interpret and understand compared to one-hot encoding, which generates multiple binary dummy variables.\n",
        "\"\"\"\n",
        "\n",
        "# Assigning labels to data point alphabetically\n",
        "import pandas as pd\n",
        "\n",
        "df = pd.DataFrame(\n",
        "    {\n",
        "        'color':[\"red\",\"green\",\"blue\",\"green\",\"red\",\"blue\"]\n",
        "    }\n",
        ")\n",
        "df\n",
        "from sklearn.preprocessing import LabelEncoder\n",
        "lbl_encoder = LabelEncoder()\n",
        "lbl_encoder.fit_transform(df[\"color\"])\n",
        "\n",
        ""
      ],
      "metadata": {
        "colab": {
          "base_uri": "https://localhost:8080/"
        },
        "id": "ZVZmKWiRtlbD",
        "outputId": "d839e307-efdc-4307-8115-89066531b455"
      },
      "execution_count": 4,
      "outputs": [
        {
          "output_type": "execute_result",
          "data": {
            "text/plain": [
              "array([2, 1, 0, 1, 2, 0])"
            ]
          },
          "metadata": {},
          "execution_count": 4
        }
      ]
    },
    {
      "cell_type": "code",
      "source": [
        "\"\"\"\n",
        "Q4. Suppose you have a dataset containing categorical data with 5 unique values. Which encoding\n",
        "technique would you use to transform this data into a format suitable for machine learning algorithms?\n",
        "Explain why you made this choice.\n",
        "\"\"\"\n",
        "\n",
        "\"\"\"\n",
        "If the dataset contains categorical data with 5 unique values, the choice of encoding technique would depend on the nature of the categorical variable and its relationship with the target variable,\n",
        "as well as the requirements of the machine learning algorithm being used. However, considering the number of unique values and the general versatility of encoding techniques, one-hot encoding would\n",
        "likely be the preferred choice in most scenarios.\n",
        "\n",
        "Choice: One-Hot Encoding\n",
        "\"\"\"\n"
      ],
      "metadata": {
        "id": "Iw29HJikuwrP"
      },
      "execution_count": null,
      "outputs": []
    },
    {
      "cell_type": "code",
      "source": [
        "\"\"\"\n",
        "Q5. In a machine learning project, you have a dataset with 1000 rows and 5 columns. Two of the columns\n",
        "are categorical, and the remaining three columns are numerical. If you were to use nominal encoding to\n",
        "transform the categorical data, how many new columns would be created? Show your calculations.\n",
        "\"\"\"\n",
        "\n",
        "\"\"\"\n",
        "To use nominal encoding (also known as label encoding) to transform the two categorical columns in the dataset, we would replace each unique category in each categorical column\n",
        "with a unique numerical label. Since nominal encoding does not create new binary features like one-hot encoding, the number of new columns created would depend on the number of\n",
        "unique categories in each categorical column.\n",
        "\"\"\"\n"
      ],
      "metadata": {
        "colab": {
          "base_uri": "https://localhost:8080/",
          "height": 54
        },
        "id": "0W8qrOl2vCxV",
        "outputId": "d2081e76-06ba-448d-8437-d2bea3a3d5c8"
      },
      "execution_count": 5,
      "outputs": [
        {
          "output_type": "execute_result",
          "data": {
            "text/plain": [
              "'\\nQ5. In a machine learning project, you have a dataset with 1000 rows and 5 columns. Two of the columns\\nare categorical, and the remaining three columns are numerical. If you were to use nominal encoding to\\ntransform the categorical data, how many new columns would be created? Show your calculations.\\n'"
            ],
            "application/vnd.google.colaboratory.intrinsic+json": {
              "type": "string"
            }
          },
          "metadata": {},
          "execution_count": 5
        }
      ]
    },
    {
      "cell_type": "code",
      "source": [
        "\"\"\"\n",
        "Q6. You are working with a dataset containing information about different types of animals, including their\n",
        "species, habitat, and diet. Which encoding technique would you use to transform the categorical data into\n",
        "a format suitable for machine learning algorithms? Justify your answer.\n",
        "\"\"\"\n",
        "\n",
        "\"\"\"\n",
        "To transform the categorical data about different types of animals (species, habitat, and diet) into a format suitable for machine learning algorithms,\n",
        "the choice of encoding technique would depend on the nature of the categorical variables and their relationships with the target variable, as well as the requirements of the machine learning\n",
        "algorithm being used.\n",
        "Considering the characteristics of the animal dataset, I would recommend using a combination of ordinal encoding and one-hot encoding.\n",
        "\n",
        "Species and Habitat: One-Hot Encoding\n",
        "\n",
        "Each unique species and habitat category would be represented by separate binary dummy variables, preserving all information without introducing any ordinal relationships.\n",
        "Diet: Ordinal Encoding\n",
        "\n",
        "The dietary categories would be encoded with numerical labels based on their order (e.g., 1 for herbivore, 2 for omnivore, 3 for carnivore), preserving the ordinal relationship among them.\n",
        "\n",
        "\"\"\""
      ],
      "metadata": {
        "id": "hif9p8Wfvsg1"
      },
      "execution_count": null,
      "outputs": []
    },
    {
      "cell_type": "code",
      "source": [
        "\"\"\"\n",
        "Q7.You are working on a project that involves predicting customer churn for a telecommunications\n",
        "company. You have a dataset with 5 features, including the customer's gender, age, contract type,\n",
        "monthly charges, and tenure. Which encoding technique(s) would you use to transform the categorical\n",
        "data into numerical data? Provide a step-by-step explanation of how you would implement the encoding.\n",
        "\"\"\"\n",
        "import pandas as pd\n",
        "\n",
        "# Sample dataset with categorical and numerical features\n",
        "data = pd.DataFrame({\n",
        "    'gender': ['male', 'female', 'male', 'female', 'male'],\n",
        "    'age': [30, 40, 50, 45, 35],\n",
        "    'contract_type': ['monthly', 'annual', 'monthly', 'two_year', 'monthly'],\n",
        "    'monthly_charges': [50.0, 70.0, 60.0, 80.0, 55.0],\n",
        "    'tenure': [6, 12, 3, 24, 9],\n",
        "    'churn': [0, 1, 0, 1, 0]  # Target variable\n",
        "})\n",
        "\n",
        "# Perform one-hot encoding for 'gender' and 'contract_type'\n",
        "data_encoded = pd.get_dummies(data, columns=['gender', 'contract_type'], prefix=['gender', 'contract'])\n",
        "\n",
        "# Print the encoded dataset\n",
        "print(data_encoded)\n",
        "\n",
        "\"\"\"\n",
        "In this example, we performed one-hot encoding for the \"gender\" and \"contract type\" features, creating binary dummy variables for each unique category.\n",
        "The numerical features \"age\", \"monthly charges\", and \"tenure\" remain unchanged.\n",
        "The resulting encoded dataset is now suitable for analysis and modeling in machine learning algorithms.\n",
        "\n",
        "\"\"\""
      ],
      "metadata": {
        "colab": {
          "base_uri": "https://localhost:8080/",
          "height": 291
        },
        "id": "A0uSRBjEvFin",
        "outputId": "f5e67353-6c3f-45aa-cfaf-32599a78da99"
      },
      "execution_count": 7,
      "outputs": [
        {
          "output_type": "stream",
          "name": "stdout",
          "text": [
            "   age  monthly_charges  tenure  churn  gender_female  gender_male  \\\n",
            "0   30             50.0       6      0          False         True   \n",
            "1   40             70.0      12      1           True        False   \n",
            "2   50             60.0       3      0          False         True   \n",
            "3   45             80.0      24      1           True        False   \n",
            "4   35             55.0       9      0          False         True   \n",
            "\n",
            "   contract_annual  contract_monthly  contract_two_year  \n",
            "0            False              True              False  \n",
            "1             True             False              False  \n",
            "2            False              True              False  \n",
            "3            False             False               True  \n",
            "4            False              True              False  \n"
          ]
        },
        {
          "output_type": "execute_result",
          "data": {
            "text/plain": [
              "'\\nIn this example, we performed one-hot encoding for the \"gender\" and \"contract type\" features, creating binary dummy variables for each unique category. \\nThe numerical features \"age\", \"monthly charges\", and \"tenure\" remain unchanged. \\nThe resulting encoded dataset is now suitable for analysis and modeling in machine learning algorithms.\\n\\n'"
            ],
            "application/vnd.google.colaboratory.intrinsic+json": {
              "type": "string"
            }
          },
          "metadata": {},
          "execution_count": 7
        }
      ]
    },
    {
      "cell_type": "code",
      "source": [],
      "metadata": {
        "id": "EEm5gV1DwHId"
      },
      "execution_count": null,
      "outputs": []
    }
  ]
}